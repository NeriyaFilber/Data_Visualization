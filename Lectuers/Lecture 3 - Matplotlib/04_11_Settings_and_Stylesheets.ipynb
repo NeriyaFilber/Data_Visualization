{
 "cells": [
  {
   "cell_type": "markdown",
   "metadata": {
    "id": "egGR9aakEUfO"
   },
   "source": [
    "# Customizing Matplotlib: Configurations and Stylesheets"
   ]
  },
  {
   "cell_type": "markdown",
   "metadata": {
    "id": "3BWT9MDgEUfQ"
   },
   "source": [
    "While many of the topics covered in previous chapters involve adjusting the style of plot elements one by one, Matplotlib also offers mechanisms to adjust the overall style of a chart all at once. In this chapter we'll walk through some of Matplotlib's runtime configuration (*rc*) options, and take a look at the *stylesheets* feature, which contains some nice sets of default configurations."
   ]
  },
  {
   "cell_type": "markdown",
   "metadata": {
    "id": "RFHq5hASEUfR"
   },
   "source": [
    "## Plot Customization by Hand\n",
    "\n",
    "Throughout this part of the book, you've seen how it is possible to tweak individual plot settings to end up with something that looks a little nicer than the default.\n",
    "It's also possible to do these customizations for each individual plot.\n",
    "For example, here is a fairly drab default histogram, shown in the following figure:"
   ]
  },
  {
   "cell_type": "code",
   "execution_count": null,
   "metadata": {
    "tags": [],
    "id": "4c4eih_KEUfR"
   },
   "source": [
    "import matplotlib.pyplot as plt\n",
    "plt.style.use('classic')\n",
    "import numpy as np\n",
    "\n",
    "%matplotlib inline"
   ],
   "outputs": []
  },
  {
   "cell_type": "code",
   "execution_count": null,
   "metadata": {
    "jupyter": {
     "outputs_hidden": false
    },
    "id": "j6u2uMz_EUfS",
    "outputId": "18c8de66-d2ae-4182-e59c-c4d1805f13ad"
   },
   "source": [
    "x = np.random.randn(1000)\n",
    "plt.hist(x);"
   ],
   "outputs": []
  },
  {
   "cell_type": "markdown",
   "metadata": {
    "id": "WV9TIaRWEUfT"
   },
   "source": [
    "We can adjust this by hand to make it a much more visually pleasing plot, as you can see in the following figure:"
   ]
  },
  {
   "cell_type": "code",
   "execution_count": null,
   "metadata": {
    "jupyter": {
     "outputs_hidden": false
    },
    "id": "-zuFsw9rEUfT",
    "outputId": "f565a7cb-c398-42f9-ef23-3411a4a264ec"
   },
   "source": [
    "# use a gray background\n",
    "fig = plt.figure(facecolor='white')\n",
    "ax = plt.axes(facecolor='#E6E6E6')\n",
    "ax.set_axisbelow(True)\n",
    "\n",
    "# draw solid white gridlines\n",
    "plt.grid(color='w', linestyle='solid')\n",
    "\n",
    "# hide axis spines\n",
    "for spine in ax.spines.values():\n",
    "    spine.set_visible(False)\n",
    "    \n",
    "# hide top and right ticks\n",
    "ax.xaxis.tick_bottom()\n",
    "ax.yaxis.tick_left()\n",
    "\n",
    "# lighten ticks and labels\n",
    "ax.tick_params(colors='gray', direction='out')\n",
    "for tick in ax.get_xticklabels():\n",
    "    tick.set_color('gray')\n",
    "for tick in ax.get_yticklabels():\n",
    "    tick.set_color('gray')\n",
    "    \n",
    "# control face and edge color of histogram\n",
    "ax.hist(x, edgecolor='#E6E6E6', color='#EE6666');"
   ],
   "outputs": []
  },
  {
   "cell_type": "markdown",
   "metadata": {
    "id": "eD41vsjUEUfU"
   },
   "source": [
    "This looks better, and you may recognize the look as inspired by that of the R language's `ggplot` visualization package.\n",
    "But this took a whole lot of effort!\n",
    "We definitely do not want to have to do all that tweaking each time we create a plot.\n",
    "Fortunately, there is a way to adjust these defaults once in a way that will work for all plots."
   ]
  },
  {
   "cell_type": "markdown",
   "metadata": {
    "id": "9K3zTbtmEUfU"
   },
   "source": [
    "## Changing the Defaults: rcParams\n",
    "\n",
    "Each time Matplotlib loads, it defines a runtime configuration containing the default styles for every plot element you create.\n",
    "This configuration can be adjusted at any time using the `plt.rc` convenience routine.\n",
    "Let's see how we can modify the rc parameters so that our default plot will look similar to what we did before.\n",
    "\n",
    "We can use the `plt.rc` function to change some of these settings:"
   ]
  },
  {
   "cell_type": "code",
   "execution_count": null,
   "metadata": {
    "jupyter": {
     "outputs_hidden": false
    },
    "id": "eJUG6xWlEUfU"
   },
   "source": [
    "from matplotlib import cycler\n",
    "colors = cycler('color',\n",
    "                ['#EE6666', '#3388BB', '#9988DD',\n",
    "                 '#EECC55', '#88BB44', '#FFBBBB'])\n",
    "plt.rc('figure', facecolor='white')\n",
    "plt.rc('axes', facecolor='#E6E6E6', edgecolor='none',\n",
    "       axisbelow=True, grid=True, prop_cycle=colors)\n",
    "plt.rc('grid', color='w', linestyle='solid')\n",
    "plt.rc('xtick', direction='out', color='gray')\n",
    "plt.rc('ytick', direction='out', color='gray')\n",
    "plt.rc('patch', edgecolor='#E6E6E6')\n",
    "plt.rc('lines', linewidth=2)"
   ],
   "outputs": []
  },
  {
   "cell_type": "markdown",
   "metadata": {
    "id": "I944jEJpEUfU"
   },
   "source": [
    "With these settings defined, we can now create a plot and see our settings in action (see the following figure):"
   ]
  },
  {
   "cell_type": "code",
   "execution_count": null,
   "metadata": {
    "jupyter": {
     "outputs_hidden": false
    },
    "id": "uyKyn1vOEUfV",
    "outputId": "3313eacd-3e75-43c7-ff04-b78610794bd5"
   },
   "source": [
    "plt.hist(x);"
   ],
   "outputs": []
  },
  {
   "cell_type": "markdown",
   "metadata": {
    "id": "Jwl-FN9mEUfV"
   },
   "source": [
    "Let's see what simple line plots look like with these rc parameters (see the following figure):"
   ]
  },
  {
   "cell_type": "code",
   "execution_count": null,
   "metadata": {
    "jupyter": {
     "outputs_hidden": false
    },
    "id": "IsZInw4aEUfV",
    "outputId": "e37d6ce5-307d-4130-ec89-d25ff676e08d"
   },
   "source": [
    "for i in range(4):\n",
    "    plt.plot(np.random.rand(10))"
   ],
   "outputs": []
  },
  {
   "cell_type": "markdown",
   "metadata": {
    "id": "fkaeiDhAEUfV"
   },
   "source": [
    "For charts viewed onscreen rather than printed, I find this much more aesthetically pleasing than the default styling.\n",
    "If you disagree with my aesthetic sense, the good news is that you can adjust the rc parameters to suit your own tastes!\n",
    "Optionally, these settings can be saved in a *.matplotlibrc* file, which you can read about in the [Matplotlib documentation](https://matplotlib.org/stable/tutorials/introductory/customizing.html)."
   ]
  },
  {
   "cell_type": "markdown",
   "metadata": {
    "id": "9lovb8v1EUfV"
   },
   "source": [
    "## Stylesheets\n",
    "\n",
    "A newer mechanism for adjusting overall chart styles is via Matplotlib's `style` module, which includes a number of default stylesheets, as well as the ability to create and package your own styles. These stylesheets are formatted similarly to the *.matplotlibrc* files mentioned earlier, but must be named with a *.mplstyle* extension.\n",
    "\n",
    "Even if you don't go as far as creating your own style, you may find what you're looking for in the built-in stylesheets.\n",
    "`plt.style.available` contains a list of the available styles—here I'll list only the first five for brevity:"
   ]
  },
  {
   "cell_type": "code",
   "execution_count": null,
   "metadata": {
    "jupyter": {
     "outputs_hidden": false
    },
    "id": "iN_oPI6FEUfW",
    "outputId": "0948fdaf-dfba-4b44-d7d8-e0cfe4056724"
   },
   "source": [
    "plt.style.available[:5]"
   ],
   "outputs": []
  },
  {
   "cell_type": "markdown",
   "metadata": {
    "id": "yFh2BvhyEUfW"
   },
   "source": [
    "The standard way to switch to a stylesheet is to call `style.use`:\n",
    "\n",
    "``` python\n",
    "plt.style.use('stylename')\n",
    "```\n",
    "\n",
    "But keep in mind that this will change the style for the rest of the Python session!\n",
    "Alternatively, you can use the style context manager, which sets a style temporarily:\n",
    "\n",
    "``` python\n",
    "with plt.style.context('stylename'):\n",
    "    make_a_plot()\n",
    "```\n"
   ]
  },
  {
   "cell_type": "markdown",
   "metadata": {
    "id": "v_YkKQMqEUfW"
   },
   "source": [
    "To demonstrate these styles, let's create a function that will make two basic types of plot:"
   ]
  },
  {
   "cell_type": "code",
   "execution_count": null,
   "metadata": {
    "tags": [],
    "id": "Gpgy_PGKEUfW"
   },
   "source": [
    "def hist_and_lines():\n",
    "    np.random.seed(0)\n",
    "    fig, ax = plt.subplots(1, 2, figsize=(11, 4))\n",
    "    ax[0].hist(np.random.randn(1000))\n",
    "    for i in range(3):\n",
    "        ax[1].plot(np.random.rand(10))\n",
    "    ax[1].legend(['a', 'b', 'c'], loc='lower left')"
   ],
   "outputs": []
  },
  {
   "cell_type": "markdown",
   "metadata": {
    "id": "zckNj-FdEUfX"
   },
   "source": [
    "We'll use this to explore how these plots look using the various built-in styles."
   ]
  },
  {
   "cell_type": "markdown",
   "metadata": {
    "id": "MrhEpP7JEUfY"
   },
   "source": [
    "### Default Style\n",
    "\n",
    "Matplotlib's `default` style was updated in the version 2.0 release; let's look at this first (see the following figure):"
   ]
  },
  {
   "cell_type": "code",
   "execution_count": null,
   "metadata": {
    "jupyter": {
     "outputs_hidden": false
    },
    "id": "rtIjkYleEUfY",
    "outputId": "da4c59e3-53ae-478e-b3c5-d78a7a1a3acd"
   },
   "source": [
    "with plt.style.context('default'):\n",
    "    hist_and_lines()"
   ],
   "outputs": []
  },
  {
   "cell_type": "markdown",
   "metadata": {
    "id": "tnUMItCsEUfY"
   },
   "source": [
    "### FiveThiryEight Style\n",
    "\n",
    "The `fivethirtyeight` style mimics the graphics found on the popular [FiveThirtyEight website](https://fivethirtyeight.com).\n",
    "As you can see in the following figure, it is typified by bold colors, thick lines, and transparent axes:"
   ]
  },
  {
   "cell_type": "code",
   "execution_count": null,
   "metadata": {
    "jupyter": {
     "outputs_hidden": false
    },
    "id": "QF4PG8TiEUfY",
    "outputId": "4789d92e-2ed2-45e4-d8d3-f3c5a97589fe"
   },
   "source": [
    "with plt.style.context('fivethirtyeight'):\n",
    "    hist_and_lines()"
   ],
   "outputs": []
  },
  {
   "cell_type": "markdown",
   "metadata": {
    "id": "T1QbSNaAEUfZ"
   },
   "source": [
    "### ggplot Style\n",
    "\n",
    "The `ggplot` package in the R language is a popular visualization tool among data scientists.\n",
    "Matplotlib's `ggplot` style mimics the default styles from that package (see the following figure):"
   ]
  },
  {
   "cell_type": "code",
   "execution_count": null,
   "metadata": {
    "jupyter": {
     "outputs_hidden": false
    },
    "id": "OMMhLKxaEUfZ",
    "outputId": "f176dbc4-6cc6-4a7c-e7fc-5d3778737276"
   },
   "source": [
    "with plt.style.context('ggplot'):\n",
    "    hist_and_lines()"
   ],
   "outputs": []
  },
  {
   "cell_type": "markdown",
   "metadata": {
    "id": "1876DNc9EUfZ"
   },
   "source": [
    "### Bayesian Methods for Hackers Style\n",
    "\n",
    "There is a neat short online book called [*Probabilistic Programming and Bayesian Methods for Hackers*](http://camdavidsonpilon.github.io/Probabilistic-Programming-and-Bayesian-Methods-for-Hackers/) by Cameron Davidson-Pilon that features figures created with Matplotlib, and uses a nice set of rc parameters to create a consistent and visually appealing style throughout the book.\n",
    "This style is reproduced in the ``bmh`` stylesheet (see the following figure):"
   ]
  },
  {
   "cell_type": "code",
   "execution_count": null,
   "metadata": {
    "jupyter": {
     "outputs_hidden": false
    },
    "id": "6ZmAC8z8EUfZ",
    "outputId": "1b269779-679e-4b7d-e53d-235b34ef717e"
   },
   "source": [
    "with plt.style.context('bmh'):\n",
    "    hist_and_lines()"
   ],
   "outputs": []
  },
  {
   "cell_type": "markdown",
   "metadata": {
    "id": "Cn5uh3SAEUfZ"
   },
   "source": [
    "### Dark Background Style\n",
    "\n",
    "For figures used within presentations, it is often useful to have a dark rather than light background.\n",
    "The `dark_background` style provides this (see the following figure):"
   ]
  },
  {
   "cell_type": "code",
   "execution_count": null,
   "metadata": {
    "jupyter": {
     "outputs_hidden": false
    },
    "id": "ndiKAdWzEUfZ",
    "outputId": "6b30d0be-d443-4d4b-9a41-aa6d2ba6a1a2"
   },
   "source": [
    "with plt.style.context('dark_background'):\n",
    "    hist_and_lines()"
   ],
   "outputs": []
  },
  {
   "cell_type": "markdown",
   "metadata": {
    "id": "Zh-hkhMxEUfa"
   },
   "source": [
    "### Grayscale Style\n",
    "\n",
    "Sometimes you might find yourself preparing figures for a print publication that does not accept color figures.\n",
    "For this, the `grayscale` style (see the following figure) can be useful:"
   ]
  },
  {
   "cell_type": "code",
   "execution_count": null,
   "metadata": {
    "jupyter": {
     "outputs_hidden": false
    },
    "id": "a3r-jx6yEUfb",
    "outputId": "1cc0f551-3fee-4dda-9d5b-64e3d407e860"
   },
   "source": [
    "with plt.style.context('grayscale'):\n",
    "    hist_and_lines()"
   ],
   "outputs": []
  },
  {
   "cell_type": "markdown",
   "metadata": {
    "id": "C2K_XRWhEUfc"
   },
   "source": [
    "### Seaborn Style\n",
    "\n",
    "Matplotlib also has several stylesheets inspired by the Seaborn library (discussed more fully in [Visualization With Seaborn](04.14-Visualization-With-Seaborn.ipynb)).\n",
    "I've found these settings to be very nice, and tend to use them as defaults in my own data exploration (see the following figure):"
   ]
  },
  {
   "cell_type": "code",
   "execution_count": null,
   "metadata": {
    "jupyter": {
     "outputs_hidden": false
    },
    "id": "MT5bTk9FEUfc",
    "outputId": "b8f6f22b-adf2-4278-d655-51a16b3f4dfa"
   },
   "source": [
    "with plt.style.context('seaborn-whitegrid'):\n",
    "    hist_and_lines()"
   ],
   "outputs": []
  },
  {
   "cell_type": "markdown",
   "metadata": {
    "id": "esfvuvGTEUfc"
   },
   "source": [
    "Take some time to explore the built-in options and find one that appeals to you!\n",
    "Throughout this book, I will generally use one or more of these style conventions when creating plots."
   ]
  }
 ],
 "metadata": {
  "anaconda-cloud": {},
  "jupytext": {
   "encoding": "# -*- coding: utf-8 -*-",
   "formats": "ipynb,md"
  },
  "kernelspec": {
   "display_name": "Python 3 (ipykernel)",
   "language": "python",
   "name": "python3"
  },
  "language_info": {
   "codemirror_mode": {
    "name": "ipython",
    "version": 3
   },
   "file_extension": ".py",
   "mimetype": "text/x-python",
   "name": "python",
   "nbconvert_exporter": "python",
   "pygments_lexer": "ipython3",
   "version": "3.9.2"
  },
  "colab": {
   "provenance": []
  }
 },
 "nbformat": 4,
 "nbformat_minor": 0
}
