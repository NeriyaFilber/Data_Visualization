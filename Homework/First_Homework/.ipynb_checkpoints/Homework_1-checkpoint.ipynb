{
 "cells": [
  {
   "cell_type": "markdown",
   "metadata": {},
   "source": [
    "# Project 1: Explanatory Data Analysis & Data Presentation (Movies Dataset)"
   ]
  },
  {
   "cell_type": "markdown",
   "metadata": {},
   "source": [
    "# Project Brief for Self-Coders"
   ]
  },
  {
   "cell_type": "markdown",
   "metadata": {},
   "source": [
    "Here you´ll have the opportunity to code major parts of Project 1 on your own. If you need any help or inspiration, have a look at the Videos or the Jupyter Notebook with the full code. <br> <br>\n",
    "Keep in mind that it´s all about __getting the right results/conclusions__. It´s not about finding the identical code. Things can be coded in many different ways. Even if you come to the same conclusions, it´s very unlikely that we have the very same code. "
   ]
  },
  {
   "cell_type": "markdown",
   "metadata": {},
   "source": [
    "## Data Import and first Inspection"
   ]
  },
  {
   "cell_type": "markdown",
   "metadata": {},
   "source": [
    "1. __Import__ the movies dataset from the CSV file \"movies_complete.csv\". __Inspect__ the data."
   ]
  },
  {
   "cell_type": "code",
   "outputs": [],
   "source": [
    "import pandas as pd\n",
    "df = pd.read_csv(\"movies_complete.csv\")"
   ],
   "metadata": {
    "collapsed": false,
    "is_executing": true
   },
   "execution_count": null
  },
  {
   "cell_type": "markdown",
   "metadata": {},
   "source": [
    "__Some additional information on Features/Columns__:"
   ]
  },
  {
   "cell_type": "markdown",
   "metadata": {},
   "source": [
    "* **id:** The ID of the movie (clear/unique identifier).\n",
    "* **title:** The Official Title of the movie.\n",
    "* **tagline:** The tagline of the movie.\n",
    "* **release_date:** Theatrical Release Date of the movie.\n",
    "* **genres:** Genres associated with the movie.\n",
    "* **belongs_to_collection:** Gives information on the movie series/franchise the particular film belongs to.\n",
    "* **original_language:** The language in which the movie was originally shot in.\n",
    "* **budget_musd:** The budget of the movie in million dollars.\n",
    "* **revenue_musd:** The total revenue of the movie in million dollars.\n",
    "* **production_companies:** Production companies involved with the making of the movie.\n",
    "* **production_countries:** Countries where the movie was shot/produced in.\n",
    "* **vote_count:** The number of votes by users, as counted by TMDB.\n",
    "* **vote_average:** The average rating of the movie.\n",
    "* **popularity:** The Popularity Score assigned by TMDB.\n",
    "* **runtime:** The runtime of the movie in minutes.\n",
    "* **overview:** A brief blurb of the movie.\n",
    "* **spoken_languages:** Spoken languages in the film.\n",
    "* **poster_path:** The URL of the poster image.\n",
    "* **cast:** (Main) Actors appearing in the movie.\n",
    "* **cast_size:** number of Actors appearing in the movie.\n",
    "* **director:** Director of the movie.\n",
    "* **crew_size:** Size of the film crew (incl. director, excl. actors)."
   ]
  },
  {
   "cell_type": "code",
   "execution_count": null,
   "metadata": {
    "is_executing": true
   },
   "outputs": [],
   "source": [
    "df"
   ]
  },
  {
   "cell_type": "code",
   "outputs": [
    {
     "name": "stdout",
     "output_type": "stream",
     "text": [
      "<class 'pandas.core.frame.DataFrame'>\n",
      "RangeIndex: 44691 entries, 0 to 44690\n",
      "Data columns (total 22 columns):\n",
      " #   Column                 Non-Null Count  Dtype  \n",
      "---  ------                 --------------  -----  \n",
      " 0   id                     44691 non-null  int64  \n",
      " 1   title                  44691 non-null  object \n",
      " 2   tagline                20284 non-null  object \n",
      " 3   release_date           44657 non-null  object \n",
      " 4   genres                 42586 non-null  object \n",
      " 5   belongs_to_collection  4463 non-null   object \n",
      " 6   original_language      44681 non-null  object \n",
      " 7   budget_musd            8854 non-null   float64\n",
      " 8   revenue_musd           7385 non-null   float64\n",
      " 9   production_companies   33356 non-null  object \n",
      " 10  production_countries   38835 non-null  object \n",
      " 11  vote_count             44691 non-null  float64\n",
      " 12  vote_average           42077 non-null  float64\n",
      " 13  popularity             44691 non-null  float64\n",
      " 14  runtime                43179 non-null  float64\n",
      " 15  overview               43740 non-null  object \n",
      " 16  spoken_languages       41094 non-null  object \n",
      " 17  poster_path            44467 non-null  object \n",
      " 18  cast                   42502 non-null  object \n",
      " 19  cast_size              44691 non-null  int64  \n",
      " 20  crew_size              44691 non-null  int64  \n",
      " 21  director               43960 non-null  object \n",
      "dtypes: float64(6), int64(3), object(13)\n",
      "memory usage: 7.5+ MB\n"
     ]
    }
   ],
   "source": [
    "df.info()"
   ],
   "metadata": {
    "collapsed": false,
    "ExecuteTime": {
     "end_time": "2024-04-23T19:05:37.066800200Z",
     "start_time": "2024-04-23T19:05:37.016821900Z"
    }
   },
   "execution_count": 144
  },
  {
   "cell_type": "code",
   "outputs": [],
   "source": [
    "df.describe()"
   ],
   "metadata": {
    "collapsed": false,
    "is_executing": true
   },
   "execution_count": null
  },
  {
   "cell_type": "code",
   "outputs": [
    {
     "data": {
      "text/plain": "0                          Toy Story\n1                            Jumanji\n2                   Grumpier Old Men\n3                  Waiting to Exhale\n4        Father of the Bride Part II\n                    ...             \n44686                         Subdue\n44687            Century of Birthing\n44688                       Betrayal\n44689               Satan Triumphant\n44690                       Queerama\nName: title, Length: 44691, dtype: object"
     },
     "execution_count": 146,
     "metadata": {},
     "output_type": "execute_result"
    }
   ],
   "source": [
    "df.title"
   ],
   "metadata": {
    "collapsed": false,
    "ExecuteTime": {
     "end_time": "2024-04-23T19:05:37.159000500Z",
     "start_time": "2024-04-23T19:05:37.076636500Z"
    }
   },
   "execution_count": 146
  },
  {
   "cell_type": "markdown",
   "metadata": {},
   "source": [
    "## The best and the worst movies..."
   ]
  },
  {
   "cell_type": "markdown",
   "metadata": {},
   "source": [
    "2. __Filter__ the Dataset and __find the best/worst n Movies__ with the"
   ]
  },
  {
   "cell_type": "markdown",
   "metadata": {},
   "source": [
    "- Highest Revenue\n",
    "- Highest Budget\n",
    "- Highest Profit (=Revenue - Budget)\n",
    "- Lowest Profit (=Revenue - Budget)\n",
    "- Highest Return on Investment (=Revenue / Budget) (only movies with Budget >= 10) \n",
    "- Lowest Return on Investment (=Revenue / Budget) (only movies with Budget >= 10)\n",
    "- Highest number of Votes\n",
    "- Highest Rating (only movies with 10 or more Ratings)\n",
    "- Lowest Rating (only movies with 10 or more Ratings)\n",
    "- Highest Popularity"
   ]
  },
  {
   "cell_type": "markdown",
   "metadata": {},
   "source": [
    "__Define__ an appropriate __user-defined function__ to reuse code."
   ]
  },
  {
   "cell_type": "markdown",
   "metadata": {},
   "source": [
    "__Movies Top 5 - Highest Revenue__"
   ]
  },
  {
   "cell_type": "code",
   "execution_count": 147,
   "metadata": {
    "ExecuteTime": {
     "end_time": "2024-04-23T19:05:37.221743500Z",
     "start_time": "2024-04-23T19:05:37.082927200Z"
    }
   },
   "outputs": [
    {
     "data": {
      "text/plain": "           id                         title  \\\n14448   19995                        Avatar   \n26265  140607  Star Wars: The Force Awakens   \n1620      597                       Titanic   \n17669   24428                  The Avengers   \n24812  135397                Jurassic World   \n\n                                         tagline release_date  \\\n14448                Enter the World of Pandora.   2009-12-10   \n26265              Every generation has a story.   2015-12-15   \n1620   Nothing on Earth could come between them.   1997-11-18   \n17669                    Some assembly required.   2012-04-25   \n24812                          The park is open.   2015-06-09   \n\n                                          genres     belongs_to_collection  \\\n14448   Action|Adventure|Fantasy|Science Fiction         Avatar Collection   \n26265   Action|Adventure|Science Fiction|Fantasy      Star Wars Collection   \n1620                      Drama|Romance|Thriller                       NaN   \n17669           Science Fiction|Action|Adventure   The Avengers Collection   \n24812  Action|Adventure|Science Fiction|Thriller  Jurassic Park Collection   \n\n      original_language  budget_musd  revenue_musd  \\\n14448                en        237.0   2787.965087   \n26265                en        245.0   2068.223624   \n1620                 en        200.0   1845.034188   \n17669                en        220.0   1519.557910   \n24812                en        150.0   1513.528810   \n\n                                    production_companies  ... vote_average  \\\n14448  Ingenious Film Partners|Twentieth Century Fox ...  ...          7.2   \n26265          Lucasfilm|Truenorth Productions|Bad Robot  ...          7.5   \n1620   Paramount Pictures|Twentieth Century Fox Film ...  ...          7.5   \n17669                  Paramount Pictures|Marvel Studios  ...          7.4   \n24812  Universal Studios|Amblin Entertainment|Legenda...  ...          6.5   \n\n       popularity  runtime                                           overview  \\\n14448  185.070892    162.0  In the 22nd century, a paraplegic Marine is di...   \n26265   31.626013    136.0  Thirty years after defeating the Galactic Empi...   \n1620    26.889070    194.0  84 years later, a 101-year-old woman named Ros...   \n17669   89.887648    143.0  When an unexpected enemy emerges and threatens...   \n24812   32.790475    124.0  Twenty-two years after the events of Jurassic ...   \n\n                                        spoken_languages  \\\n14448                                    English|Español   \n26265                                            English   \n1620   English|Français|Deutsch|svenska|Italiano|Pусский   \n17669                                            English   \n24812                                            English   \n\n                                             poster_path  \\\n14448  <img src='http://image.tmdb.org/t/p/w185//btnl...   \n26265  <img src='http://image.tmdb.org/t/p/w185//9rd0...   \n1620   <img src='http://image.tmdb.org/t/p/w185//9xjZ...   \n17669  <img src='http://image.tmdb.org/t/p/w185//RYMX...   \n24812  <img src='http://image.tmdb.org/t/p/w185//rhr4...   \n\n                                                    cast cast_size crew_size  \\\n14448  Sam Worthington|Zoe Saldana|Sigourney Weaver|S...        83       153   \n26265  Daisy Ridley|John Boyega|Adam Driver|Harrison ...        84       113   \n1620   Kate Winslet|Leonardo DiCaprio|Frances Fisher|...       136        65   \n17669  Robert Downey Jr.|Chris Evans|Mark Ruffalo|Chr...       115       147   \n24812  Chris Pratt|Bryce Dallas Howard|Irrfan Khan|Vi...        28       435   \n\n              director  \n14448    James Cameron  \n26265      J.J. Abrams  \n1620     James Cameron  \n17669      Joss Whedon  \n24812  Colin Trevorrow  \n\n[5 rows x 22 columns]",
      "text/html": "<div>\n<style scoped>\n    .dataframe tbody tr th:only-of-type {\n        vertical-align: middle;\n    }\n\n    .dataframe tbody tr th {\n        vertical-align: top;\n    }\n\n    .dataframe thead th {\n        text-align: right;\n    }\n</style>\n<table border=\"1\" class=\"dataframe\">\n  <thead>\n    <tr style=\"text-align: right;\">\n      <th></th>\n      <th>id</th>\n      <th>title</th>\n      <th>tagline</th>\n      <th>release_date</th>\n      <th>genres</th>\n      <th>belongs_to_collection</th>\n      <th>original_language</th>\n      <th>budget_musd</th>\n      <th>revenue_musd</th>\n      <th>production_companies</th>\n      <th>...</th>\n      <th>vote_average</th>\n      <th>popularity</th>\n      <th>runtime</th>\n      <th>overview</th>\n      <th>spoken_languages</th>\n      <th>poster_path</th>\n      <th>cast</th>\n      <th>cast_size</th>\n      <th>crew_size</th>\n      <th>director</th>\n    </tr>\n  </thead>\n  <tbody>\n    <tr>\n      <th>14448</th>\n      <td>19995</td>\n      <td>Avatar</td>\n      <td>Enter the World of Pandora.</td>\n      <td>2009-12-10</td>\n      <td>Action|Adventure|Fantasy|Science Fiction</td>\n      <td>Avatar Collection</td>\n      <td>en</td>\n      <td>237.0</td>\n      <td>2787.965087</td>\n      <td>Ingenious Film Partners|Twentieth Century Fox ...</td>\n      <td>...</td>\n      <td>7.2</td>\n      <td>185.070892</td>\n      <td>162.0</td>\n      <td>In the 22nd century, a paraplegic Marine is di...</td>\n      <td>English|Español</td>\n      <td>&lt;img src='http://image.tmdb.org/t/p/w185//btnl...</td>\n      <td>Sam Worthington|Zoe Saldana|Sigourney Weaver|S...</td>\n      <td>83</td>\n      <td>153</td>\n      <td>James Cameron</td>\n    </tr>\n    <tr>\n      <th>26265</th>\n      <td>140607</td>\n      <td>Star Wars: The Force Awakens</td>\n      <td>Every generation has a story.</td>\n      <td>2015-12-15</td>\n      <td>Action|Adventure|Science Fiction|Fantasy</td>\n      <td>Star Wars Collection</td>\n      <td>en</td>\n      <td>245.0</td>\n      <td>2068.223624</td>\n      <td>Lucasfilm|Truenorth Productions|Bad Robot</td>\n      <td>...</td>\n      <td>7.5</td>\n      <td>31.626013</td>\n      <td>136.0</td>\n      <td>Thirty years after defeating the Galactic Empi...</td>\n      <td>English</td>\n      <td>&lt;img src='http://image.tmdb.org/t/p/w185//9rd0...</td>\n      <td>Daisy Ridley|John Boyega|Adam Driver|Harrison ...</td>\n      <td>84</td>\n      <td>113</td>\n      <td>J.J. Abrams</td>\n    </tr>\n    <tr>\n      <th>1620</th>\n      <td>597</td>\n      <td>Titanic</td>\n      <td>Nothing on Earth could come between them.</td>\n      <td>1997-11-18</td>\n      <td>Drama|Romance|Thriller</td>\n      <td>NaN</td>\n      <td>en</td>\n      <td>200.0</td>\n      <td>1845.034188</td>\n      <td>Paramount Pictures|Twentieth Century Fox Film ...</td>\n      <td>...</td>\n      <td>7.5</td>\n      <td>26.889070</td>\n      <td>194.0</td>\n      <td>84 years later, a 101-year-old woman named Ros...</td>\n      <td>English|Français|Deutsch|svenska|Italiano|Pусский</td>\n      <td>&lt;img src='http://image.tmdb.org/t/p/w185//9xjZ...</td>\n      <td>Kate Winslet|Leonardo DiCaprio|Frances Fisher|...</td>\n      <td>136</td>\n      <td>65</td>\n      <td>James Cameron</td>\n    </tr>\n    <tr>\n      <th>17669</th>\n      <td>24428</td>\n      <td>The Avengers</td>\n      <td>Some assembly required.</td>\n      <td>2012-04-25</td>\n      <td>Science Fiction|Action|Adventure</td>\n      <td>The Avengers Collection</td>\n      <td>en</td>\n      <td>220.0</td>\n      <td>1519.557910</td>\n      <td>Paramount Pictures|Marvel Studios</td>\n      <td>...</td>\n      <td>7.4</td>\n      <td>89.887648</td>\n      <td>143.0</td>\n      <td>When an unexpected enemy emerges and threatens...</td>\n      <td>English</td>\n      <td>&lt;img src='http://image.tmdb.org/t/p/w185//RYMX...</td>\n      <td>Robert Downey Jr.|Chris Evans|Mark Ruffalo|Chr...</td>\n      <td>115</td>\n      <td>147</td>\n      <td>Joss Whedon</td>\n    </tr>\n    <tr>\n      <th>24812</th>\n      <td>135397</td>\n      <td>Jurassic World</td>\n      <td>The park is open.</td>\n      <td>2015-06-09</td>\n      <td>Action|Adventure|Science Fiction|Thriller</td>\n      <td>Jurassic Park Collection</td>\n      <td>en</td>\n      <td>150.0</td>\n      <td>1513.528810</td>\n      <td>Universal Studios|Amblin Entertainment|Legenda...</td>\n      <td>...</td>\n      <td>6.5</td>\n      <td>32.790475</td>\n      <td>124.0</td>\n      <td>Twenty-two years after the events of Jurassic ...</td>\n      <td>English</td>\n      <td>&lt;img src='http://image.tmdb.org/t/p/w185//rhr4...</td>\n      <td>Chris Pratt|Bryce Dallas Howard|Irrfan Khan|Vi...</td>\n      <td>28</td>\n      <td>435</td>\n      <td>Colin Trevorrow</td>\n    </tr>\n  </tbody>\n</table>\n<p>5 rows × 22 columns</p>\n</div>"
     },
     "execution_count": 147,
     "metadata": {},
     "output_type": "execute_result"
    }
   ],
   "source": [
    "df.sort_values(by= 'revenue_musd', ascending= False).head(5)"
   ]
  },
  {
   "cell_type": "markdown",
   "metadata": {},
   "source": [
    "__Movies Top 5 - Highest Budget__"
   ]
  },
  {
   "cell_type": "code",
   "execution_count": 148,
   "metadata": {
    "ExecuteTime": {
     "end_time": "2024-04-23T19:05:37.254832900Z",
     "start_time": "2024-04-23T19:05:37.114254100Z"
    }
   },
   "outputs": [
    {
     "data": {
      "text/plain": "          id                                        title  \\\n16986   1865  Pirates of the Caribbean: On Stranger Tides   \n11743    285     Pirates of the Caribbean: At World's End   \n26268  99861                      Avengers: Age of Ultron   \n10985   1452                             Superman Returns   \n18517  49529                                  John Carter   \n\n                                              tagline release_date  \\\n16986                     Live Forever Or Die Trying.   2011-05-14   \n11743  At the end of the world, the adventure begins.   2007-05-19   \n26268                             A New Age Has Come.   2015-04-22   \n10985                                             NaN   2006-06-28   \n18517            Lost in our world, found in another.   2012-03-07   \n\n                                         genres  \\\n16986                  Adventure|Action|Fantasy   \n11743                  Adventure|Fantasy|Action   \n26268          Action|Adventure|Science Fiction   \n10985  Adventure|Fantasy|Action|Science Fiction   \n18517          Action|Adventure|Science Fiction   \n\n                     belongs_to_collection original_language  budget_musd  \\\n16986  Pirates of the Caribbean Collection                en        380.0   \n11743  Pirates of the Caribbean Collection                en        300.0   \n26268              The Avengers Collection                en        280.0   \n10985                  Superman Collection                en        270.0   \n18517                                  NaN                en        260.0   \n\n       revenue_musd                               production_companies  ...  \\\n16986   1045.713802  Walt Disney Pictures|Jerry Bruckheimer Films|M...  ...   \n11743    961.000000  Walt Disney Pictures|Jerry Bruckheimer Films|S...  ...   \n26268   1405.403694  Marvel Studios|Prime Focus|Revolution Sun Studios  ...   \n10985    391.081192  DC Comics|Legendary Pictures|Warner Bros.|Bad ...  ...   \n18517    284.139100                               Walt Disney Pictures  ...   \n\n      vote_average  popularity  runtime  \\\n16986          6.4   27.887720    136.0   \n11743          6.9   31.363664    169.0   \n26268          7.3   37.379420    141.0   \n10985          5.4   13.284712    154.0   \n18517          6.1   14.670353    132.0   \n\n                                                overview  \\\n16986  Captain Jack Sparrow crosses paths with a woma...   \n11743  Captain Barbossa, long believed to be dead, ha...   \n26268  When Tony Stark tries to jumpstart a dormant p...   \n10985  Superman returns to discover his 5-year absenc...   \n18517  John Carter is a war-weary, former military ca...   \n\n               spoken_languages  \\\n16986           English|Español   \n11743                   English   \n26268                   English   \n10985  English|Français|Deutsch   \n18517                   English   \n\n                                             poster_path  \\\n16986  <img src='http://image.tmdb.org/t/p/w185//keGf...   \n11743  <img src='http://image.tmdb.org/t/p/w185//oVh3...   \n26268  <img src='http://image.tmdb.org/t/p/w185//4ssD...   \n10985  <img src='http://image.tmdb.org/t/p/w185//6ZYO...   \n18517  <img src='http://image.tmdb.org/t/p/w185//7GSS...   \n\n                                                    cast cast_size crew_size  \\\n16986  Johnny Depp|Penélope Cruz|Ian McShane|Kevin Mc...        36        39   \n11743  Johnny Depp|Orlando Bloom|Keira Knightley|Stel...        34        32   \n26268  Robert Downey Jr.|Chris Hemsworth|Mark Ruffalo...        72        74   \n10985  Brandon Routh|Kevin Spacey|Kate Bosworth|James...        18        24   \n18517  Taylor Kitsch|Lynn Collins|Samantha Morton|Wil...        28       132   \n\n             director  \n16986    Rob Marshall  \n11743  Gore Verbinski  \n26268     Joss Whedon  \n10985    Bryan Singer  \n18517  Andrew Stanton  \n\n[5 rows x 22 columns]",
      "text/html": "<div>\n<style scoped>\n    .dataframe tbody tr th:only-of-type {\n        vertical-align: middle;\n    }\n\n    .dataframe tbody tr th {\n        vertical-align: top;\n    }\n\n    .dataframe thead th {\n        text-align: right;\n    }\n</style>\n<table border=\"1\" class=\"dataframe\">\n  <thead>\n    <tr style=\"text-align: right;\">\n      <th></th>\n      <th>id</th>\n      <th>title</th>\n      <th>tagline</th>\n      <th>release_date</th>\n      <th>genres</th>\n      <th>belongs_to_collection</th>\n      <th>original_language</th>\n      <th>budget_musd</th>\n      <th>revenue_musd</th>\n      <th>production_companies</th>\n      <th>...</th>\n      <th>vote_average</th>\n      <th>popularity</th>\n      <th>runtime</th>\n      <th>overview</th>\n      <th>spoken_languages</th>\n      <th>poster_path</th>\n      <th>cast</th>\n      <th>cast_size</th>\n      <th>crew_size</th>\n      <th>director</th>\n    </tr>\n  </thead>\n  <tbody>\n    <tr>\n      <th>16986</th>\n      <td>1865</td>\n      <td>Pirates of the Caribbean: On Stranger Tides</td>\n      <td>Live Forever Or Die Trying.</td>\n      <td>2011-05-14</td>\n      <td>Adventure|Action|Fantasy</td>\n      <td>Pirates of the Caribbean Collection</td>\n      <td>en</td>\n      <td>380.0</td>\n      <td>1045.713802</td>\n      <td>Walt Disney Pictures|Jerry Bruckheimer Films|M...</td>\n      <td>...</td>\n      <td>6.4</td>\n      <td>27.887720</td>\n      <td>136.0</td>\n      <td>Captain Jack Sparrow crosses paths with a woma...</td>\n      <td>English|Español</td>\n      <td>&lt;img src='http://image.tmdb.org/t/p/w185//keGf...</td>\n      <td>Johnny Depp|Penélope Cruz|Ian McShane|Kevin Mc...</td>\n      <td>36</td>\n      <td>39</td>\n      <td>Rob Marshall</td>\n    </tr>\n    <tr>\n      <th>11743</th>\n      <td>285</td>\n      <td>Pirates of the Caribbean: At World's End</td>\n      <td>At the end of the world, the adventure begins.</td>\n      <td>2007-05-19</td>\n      <td>Adventure|Fantasy|Action</td>\n      <td>Pirates of the Caribbean Collection</td>\n      <td>en</td>\n      <td>300.0</td>\n      <td>961.000000</td>\n      <td>Walt Disney Pictures|Jerry Bruckheimer Films|S...</td>\n      <td>...</td>\n      <td>6.9</td>\n      <td>31.363664</td>\n      <td>169.0</td>\n      <td>Captain Barbossa, long believed to be dead, ha...</td>\n      <td>English</td>\n      <td>&lt;img src='http://image.tmdb.org/t/p/w185//oVh3...</td>\n      <td>Johnny Depp|Orlando Bloom|Keira Knightley|Stel...</td>\n      <td>34</td>\n      <td>32</td>\n      <td>Gore Verbinski</td>\n    </tr>\n    <tr>\n      <th>26268</th>\n      <td>99861</td>\n      <td>Avengers: Age of Ultron</td>\n      <td>A New Age Has Come.</td>\n      <td>2015-04-22</td>\n      <td>Action|Adventure|Science Fiction</td>\n      <td>The Avengers Collection</td>\n      <td>en</td>\n      <td>280.0</td>\n      <td>1405.403694</td>\n      <td>Marvel Studios|Prime Focus|Revolution Sun Studios</td>\n      <td>...</td>\n      <td>7.3</td>\n      <td>37.379420</td>\n      <td>141.0</td>\n      <td>When Tony Stark tries to jumpstart a dormant p...</td>\n      <td>English</td>\n      <td>&lt;img src='http://image.tmdb.org/t/p/w185//4ssD...</td>\n      <td>Robert Downey Jr.|Chris Hemsworth|Mark Ruffalo...</td>\n      <td>72</td>\n      <td>74</td>\n      <td>Joss Whedon</td>\n    </tr>\n    <tr>\n      <th>10985</th>\n      <td>1452</td>\n      <td>Superman Returns</td>\n      <td>NaN</td>\n      <td>2006-06-28</td>\n      <td>Adventure|Fantasy|Action|Science Fiction</td>\n      <td>Superman Collection</td>\n      <td>en</td>\n      <td>270.0</td>\n      <td>391.081192</td>\n      <td>DC Comics|Legendary Pictures|Warner Bros.|Bad ...</td>\n      <td>...</td>\n      <td>5.4</td>\n      <td>13.284712</td>\n      <td>154.0</td>\n      <td>Superman returns to discover his 5-year absenc...</td>\n      <td>English|Français|Deutsch</td>\n      <td>&lt;img src='http://image.tmdb.org/t/p/w185//6ZYO...</td>\n      <td>Brandon Routh|Kevin Spacey|Kate Bosworth|James...</td>\n      <td>18</td>\n      <td>24</td>\n      <td>Bryan Singer</td>\n    </tr>\n    <tr>\n      <th>18517</th>\n      <td>49529</td>\n      <td>John Carter</td>\n      <td>Lost in our world, found in another.</td>\n      <td>2012-03-07</td>\n      <td>Action|Adventure|Science Fiction</td>\n      <td>NaN</td>\n      <td>en</td>\n      <td>260.0</td>\n      <td>284.139100</td>\n      <td>Walt Disney Pictures</td>\n      <td>...</td>\n      <td>6.1</td>\n      <td>14.670353</td>\n      <td>132.0</td>\n      <td>John Carter is a war-weary, former military ca...</td>\n      <td>English</td>\n      <td>&lt;img src='http://image.tmdb.org/t/p/w185//7GSS...</td>\n      <td>Taylor Kitsch|Lynn Collins|Samantha Morton|Wil...</td>\n      <td>28</td>\n      <td>132</td>\n      <td>Andrew Stanton</td>\n    </tr>\n  </tbody>\n</table>\n<p>5 rows × 22 columns</p>\n</div>"
     },
     "execution_count": 148,
     "metadata": {},
     "output_type": "execute_result"
    }
   ],
   "source": [
    "df.sort_values(by= 'budget_musd', ascending= False).head(5)"
   ]
  },
  {
   "cell_type": "markdown",
   "metadata": {},
   "source": [
    "__Movies Top 5 - Highest Profit__"
   ]
  },
  {
   "cell_type": "code",
   "execution_count": 149,
   "metadata": {
    "ExecuteTime": {
     "end_time": "2024-04-23T19:05:37.292312500Z",
     "start_time": "2024-04-23T19:05:37.141639700Z"
    }
   },
   "outputs": [
    {
     "data": {
      "text/plain": "           id                         title  \\\n14448   19995                        Avatar   \n26265  140607  Star Wars: The Force Awakens   \n1620      597                       Titanic   \n24812  135397                Jurassic World   \n28501  168259                     Furious 7   \n\n                                         tagline release_date  \\\n14448                Enter the World of Pandora.   2009-12-10   \n26265              Every generation has a story.   2015-12-15   \n1620   Nothing on Earth could come between them.   1997-11-18   \n24812                          The park is open.   2015-06-09   \n28501                        Vengeance Hits Home   2015-04-01   \n\n                                          genres  \\\n14448   Action|Adventure|Fantasy|Science Fiction   \n26265   Action|Adventure|Science Fiction|Fantasy   \n1620                      Drama|Romance|Thriller   \n24812  Action|Adventure|Science Fiction|Thriller   \n28501                                     Action   \n\n                     belongs_to_collection original_language  budget_musd  \\\n14448                    Avatar Collection                en        237.0   \n26265                 Star Wars Collection                en        245.0   \n1620                                   NaN                en        200.0   \n24812             Jurassic Park Collection                en        150.0   \n28501  The Fast and the Furious Collection                en        190.0   \n\n       revenue_musd                               production_companies  ...  \\\n14448   2787.965087  Ingenious Film Partners|Twentieth Century Fox ...  ...   \n26265   2068.223624          Lucasfilm|Truenorth Productions|Bad Robot  ...   \n1620    1845.034188  Paramount Pictures|Twentieth Century Fox Film ...  ...   \n24812   1513.528810  Universal Studios|Amblin Entertainment|Legenda...  ...   \n28501   1506.249360  Universal Pictures|Original Film|Fuji Televisi...  ...   \n\n       popularity  runtime                                           overview  \\\n14448  185.070892    162.0  In the 22nd century, a paraplegic Marine is di...   \n26265   31.626013    136.0  Thirty years after defeating the Galactic Empi...   \n1620    26.889070    194.0  84 years later, a 101-year-old woman named Ros...   \n24812   32.790475    124.0  Twenty-two years after the events of Jurassic ...   \n28501   27.275687    137.0  Deckard Shaw seeks revenge against Dominic Tor...   \n\n                                        spoken_languages  \\\n14448                                    English|Español   \n26265                                            English   \n1620   English|Français|Deutsch|svenska|Italiano|Pусский   \n24812                                            English   \n28501                                            English   \n\n                                             poster_path  \\\n14448  <img src='http://image.tmdb.org/t/p/w185//btnl...   \n26265  <img src='http://image.tmdb.org/t/p/w185//9rd0...   \n1620   <img src='http://image.tmdb.org/t/p/w185//9xjZ...   \n24812  <img src='http://image.tmdb.org/t/p/w185//rhr4...   \n28501  <img src='http://image.tmdb.org/t/p/w185//d9jZ...   \n\n                                                    cast cast_size crew_size  \\\n14448  Sam Worthington|Zoe Saldana|Sigourney Weaver|S...        83       153   \n26265  Daisy Ridley|John Boyega|Adam Driver|Harrison ...        84       113   \n1620   Kate Winslet|Leonardo DiCaprio|Frances Fisher|...       136        65   \n24812  Chris Pratt|Bryce Dallas Howard|Irrfan Khan|Vi...        28       435   \n28501  Vin Diesel|Paul Walker|Dwayne Johnson|Michelle...        52        98   \n\n              director      profits  \n14448    James Cameron  2550.965087  \n26265      J.J. Abrams  1823.223624  \n1620     James Cameron  1645.034188  \n24812  Colin Trevorrow  1363.528810  \n28501        James Wan  1316.249360  \n\n[5 rows x 23 columns]",
      "text/html": "<div>\n<style scoped>\n    .dataframe tbody tr th:only-of-type {\n        vertical-align: middle;\n    }\n\n    .dataframe tbody tr th {\n        vertical-align: top;\n    }\n\n    .dataframe thead th {\n        text-align: right;\n    }\n</style>\n<table border=\"1\" class=\"dataframe\">\n  <thead>\n    <tr style=\"text-align: right;\">\n      <th></th>\n      <th>id</th>\n      <th>title</th>\n      <th>tagline</th>\n      <th>release_date</th>\n      <th>genres</th>\n      <th>belongs_to_collection</th>\n      <th>original_language</th>\n      <th>budget_musd</th>\n      <th>revenue_musd</th>\n      <th>production_companies</th>\n      <th>...</th>\n      <th>popularity</th>\n      <th>runtime</th>\n      <th>overview</th>\n      <th>spoken_languages</th>\n      <th>poster_path</th>\n      <th>cast</th>\n      <th>cast_size</th>\n      <th>crew_size</th>\n      <th>director</th>\n      <th>profits</th>\n    </tr>\n  </thead>\n  <tbody>\n    <tr>\n      <th>14448</th>\n      <td>19995</td>\n      <td>Avatar</td>\n      <td>Enter the World of Pandora.</td>\n      <td>2009-12-10</td>\n      <td>Action|Adventure|Fantasy|Science Fiction</td>\n      <td>Avatar Collection</td>\n      <td>en</td>\n      <td>237.0</td>\n      <td>2787.965087</td>\n      <td>Ingenious Film Partners|Twentieth Century Fox ...</td>\n      <td>...</td>\n      <td>185.070892</td>\n      <td>162.0</td>\n      <td>In the 22nd century, a paraplegic Marine is di...</td>\n      <td>English|Español</td>\n      <td>&lt;img src='http://image.tmdb.org/t/p/w185//btnl...</td>\n      <td>Sam Worthington|Zoe Saldana|Sigourney Weaver|S...</td>\n      <td>83</td>\n      <td>153</td>\n      <td>James Cameron</td>\n      <td>2550.965087</td>\n    </tr>\n    <tr>\n      <th>26265</th>\n      <td>140607</td>\n      <td>Star Wars: The Force Awakens</td>\n      <td>Every generation has a story.</td>\n      <td>2015-12-15</td>\n      <td>Action|Adventure|Science Fiction|Fantasy</td>\n      <td>Star Wars Collection</td>\n      <td>en</td>\n      <td>245.0</td>\n      <td>2068.223624</td>\n      <td>Lucasfilm|Truenorth Productions|Bad Robot</td>\n      <td>...</td>\n      <td>31.626013</td>\n      <td>136.0</td>\n      <td>Thirty years after defeating the Galactic Empi...</td>\n      <td>English</td>\n      <td>&lt;img src='http://image.tmdb.org/t/p/w185//9rd0...</td>\n      <td>Daisy Ridley|John Boyega|Adam Driver|Harrison ...</td>\n      <td>84</td>\n      <td>113</td>\n      <td>J.J. Abrams</td>\n      <td>1823.223624</td>\n    </tr>\n    <tr>\n      <th>1620</th>\n      <td>597</td>\n      <td>Titanic</td>\n      <td>Nothing on Earth could come between them.</td>\n      <td>1997-11-18</td>\n      <td>Drama|Romance|Thriller</td>\n      <td>NaN</td>\n      <td>en</td>\n      <td>200.0</td>\n      <td>1845.034188</td>\n      <td>Paramount Pictures|Twentieth Century Fox Film ...</td>\n      <td>...</td>\n      <td>26.889070</td>\n      <td>194.0</td>\n      <td>84 years later, a 101-year-old woman named Ros...</td>\n      <td>English|Français|Deutsch|svenska|Italiano|Pусский</td>\n      <td>&lt;img src='http://image.tmdb.org/t/p/w185//9xjZ...</td>\n      <td>Kate Winslet|Leonardo DiCaprio|Frances Fisher|...</td>\n      <td>136</td>\n      <td>65</td>\n      <td>James Cameron</td>\n      <td>1645.034188</td>\n    </tr>\n    <tr>\n      <th>24812</th>\n      <td>135397</td>\n      <td>Jurassic World</td>\n      <td>The park is open.</td>\n      <td>2015-06-09</td>\n      <td>Action|Adventure|Science Fiction|Thriller</td>\n      <td>Jurassic Park Collection</td>\n      <td>en</td>\n      <td>150.0</td>\n      <td>1513.528810</td>\n      <td>Universal Studios|Amblin Entertainment|Legenda...</td>\n      <td>...</td>\n      <td>32.790475</td>\n      <td>124.0</td>\n      <td>Twenty-two years after the events of Jurassic ...</td>\n      <td>English</td>\n      <td>&lt;img src='http://image.tmdb.org/t/p/w185//rhr4...</td>\n      <td>Chris Pratt|Bryce Dallas Howard|Irrfan Khan|Vi...</td>\n      <td>28</td>\n      <td>435</td>\n      <td>Colin Trevorrow</td>\n      <td>1363.528810</td>\n    </tr>\n    <tr>\n      <th>28501</th>\n      <td>168259</td>\n      <td>Furious 7</td>\n      <td>Vengeance Hits Home</td>\n      <td>2015-04-01</td>\n      <td>Action</td>\n      <td>The Fast and the Furious Collection</td>\n      <td>en</td>\n      <td>190.0</td>\n      <td>1506.249360</td>\n      <td>Universal Pictures|Original Film|Fuji Televisi...</td>\n      <td>...</td>\n      <td>27.275687</td>\n      <td>137.0</td>\n      <td>Deckard Shaw seeks revenge against Dominic Tor...</td>\n      <td>English</td>\n      <td>&lt;img src='http://image.tmdb.org/t/p/w185//d9jZ...</td>\n      <td>Vin Diesel|Paul Walker|Dwayne Johnson|Michelle...</td>\n      <td>52</td>\n      <td>98</td>\n      <td>James Wan</td>\n      <td>1316.249360</td>\n    </tr>\n  </tbody>\n</table>\n<p>5 rows × 23 columns</p>\n</div>"
     },
     "execution_count": 149,
     "metadata": {},
     "output_type": "execute_result"
    }
   ],
   "source": [
    "df_profits = df.copy()\n",
    "df_profits['profits'] = df_profits['revenue_musd'] - df_profits['budget_musd']\n",
    "df_profits.sort_values(by='profits', ascending= False).head(5)"
   ]
  },
  {
   "cell_type": "markdown",
   "metadata": {},
   "source": [
    "__Movies Top 5 - Lowest Profit__"
   ]
  },
  {
   "cell_type": "code",
   "execution_count": 150,
   "metadata": {
    "scrolled": false,
    "ExecuteTime": {
     "end_time": "2024-04-23T19:05:37.295588600Z",
     "start_time": "2024-04-23T19:05:37.182419500Z"
    }
   },
   "outputs": [
    {
     "data": {
      "text/plain": "           id                                        title  \\\n20959   57201                              The Lone Ranger   \n7164    10733                                    The Alamo   \n16659   50321                              Mars Needs Moms   \n43611  339964  Valerian and the City of a Thousand Planets   \n2684     1911                             The 13th Warrior   \n\n                         tagline release_date  \\\n20959    Never Take Off the Mask   2013-07-03   \n7164       You will never forget   2004-04-07   \n16659  Mom needs a little space.   2011-03-09   \n43611                        NaN   2017-07-20   \n2684        Prey for the living.   1999-08-27   \n\n                                 genres belongs_to_collection  \\\n20959          Action|Adventure|Western                   NaN   \n7164                Western|History|War                   NaN   \n16659        Adventure|Animation|Family                   NaN   \n43611  Adventure|Science Fiction|Action                   NaN   \n2684           Adventure|Fantasy|Action                   NaN   \n\n      original_language  budget_musd  revenue_musd  \\\n20959                en   255.000000     89.289910   \n7164                 en   145.000000     25.819961   \n16659                en   150.000000     38.992758   \n43611                en   197.471676     90.024292   \n2684                 en   160.000000     61.698899   \n\n                                    production_companies  ... popularity  \\\n20959  Walt Disney Pictures|Jerry Bruckheimer Films|I...  ...  12.729104   \n7164           Imagine Entertainment|Touchstone Pictures  ...  12.240901   \n16659                      Walt Disney Animation Studios  ...   7.247170   \n43611                                         EuropaCorp  ...  15.262706   \n2684                                 Touchstone Pictures  ...  10.308026   \n\n       runtime                                           overview  \\\n20959    149.0  The Texas Rangers chase down a gang of outlaws...   \n7164     137.0  Based on the 1836 standoff between a group of ...   \n16659     88.0  When Martians suddenly abduct his mom, mischie...   \n43611    137.0  In the 28th century, Valerian and Laureline ar...   \n2684     102.0  In AD 922, Arab courtier, Ahmad Ibn Fadlan acc...   \n\n       spoken_languages                                        poster_path  \\\n20959           English  <img src='http://image.tmdb.org/t/p/w185//b2je...   \n7164    English|Español  <img src='http://image.tmdb.org/t/p/w185//aZrW...   \n16659           English  <img src='http://image.tmdb.org/t/p/w185//lOKq...   \n43611  Français|English  <img src='http://image.tmdb.org/t/p/w185//jfIp...   \n2684      English|Norsk  <img src='http://image.tmdb.org/t/p/w185//7pyh...   \n\n                                                    cast cast_size crew_size  \\\n20959  Johnny Depp|Armie Hammer|William Fichtner|Hele...        60        35   \n7164   Dennis Quaid|Billy Bob Thornton|Jason Patric|P...        20       145   \n16659  Seth Green|Joan Cusack|Dan Fogler|Breckin Meye...        12         7   \n43611  Dane DeHaan|Cara Delevingne|Clive Owen|Rihanna...       118       316   \n2684   Antonio Banderas|Vladimir Kulich|Dennis Storhø...        19        17   \n\n               director     profits  \n20959    Gore Verbinski -165.710090  \n7164   John Lee Hancock -119.180039  \n16659       Simon Wells -111.007242  \n43611        Luc Besson -107.447384  \n2684     John McTiernan  -98.301101  \n\n[5 rows x 23 columns]",
      "text/html": "<div>\n<style scoped>\n    .dataframe tbody tr th:only-of-type {\n        vertical-align: middle;\n    }\n\n    .dataframe tbody tr th {\n        vertical-align: top;\n    }\n\n    .dataframe thead th {\n        text-align: right;\n    }\n</style>\n<table border=\"1\" class=\"dataframe\">\n  <thead>\n    <tr style=\"text-align: right;\">\n      <th></th>\n      <th>id</th>\n      <th>title</th>\n      <th>tagline</th>\n      <th>release_date</th>\n      <th>genres</th>\n      <th>belongs_to_collection</th>\n      <th>original_language</th>\n      <th>budget_musd</th>\n      <th>revenue_musd</th>\n      <th>production_companies</th>\n      <th>...</th>\n      <th>popularity</th>\n      <th>runtime</th>\n      <th>overview</th>\n      <th>spoken_languages</th>\n      <th>poster_path</th>\n      <th>cast</th>\n      <th>cast_size</th>\n      <th>crew_size</th>\n      <th>director</th>\n      <th>profits</th>\n    </tr>\n  </thead>\n  <tbody>\n    <tr>\n      <th>20959</th>\n      <td>57201</td>\n      <td>The Lone Ranger</td>\n      <td>Never Take Off the Mask</td>\n      <td>2013-07-03</td>\n      <td>Action|Adventure|Western</td>\n      <td>NaN</td>\n      <td>en</td>\n      <td>255.000000</td>\n      <td>89.289910</td>\n      <td>Walt Disney Pictures|Jerry Bruckheimer Films|I...</td>\n      <td>...</td>\n      <td>12.729104</td>\n      <td>149.0</td>\n      <td>The Texas Rangers chase down a gang of outlaws...</td>\n      <td>English</td>\n      <td>&lt;img src='http://image.tmdb.org/t/p/w185//b2je...</td>\n      <td>Johnny Depp|Armie Hammer|William Fichtner|Hele...</td>\n      <td>60</td>\n      <td>35</td>\n      <td>Gore Verbinski</td>\n      <td>-165.710090</td>\n    </tr>\n    <tr>\n      <th>7164</th>\n      <td>10733</td>\n      <td>The Alamo</td>\n      <td>You will never forget</td>\n      <td>2004-04-07</td>\n      <td>Western|History|War</td>\n      <td>NaN</td>\n      <td>en</td>\n      <td>145.000000</td>\n      <td>25.819961</td>\n      <td>Imagine Entertainment|Touchstone Pictures</td>\n      <td>...</td>\n      <td>12.240901</td>\n      <td>137.0</td>\n      <td>Based on the 1836 standoff between a group of ...</td>\n      <td>English|Español</td>\n      <td>&lt;img src='http://image.tmdb.org/t/p/w185//aZrW...</td>\n      <td>Dennis Quaid|Billy Bob Thornton|Jason Patric|P...</td>\n      <td>20</td>\n      <td>145</td>\n      <td>John Lee Hancock</td>\n      <td>-119.180039</td>\n    </tr>\n    <tr>\n      <th>16659</th>\n      <td>50321</td>\n      <td>Mars Needs Moms</td>\n      <td>Mom needs a little space.</td>\n      <td>2011-03-09</td>\n      <td>Adventure|Animation|Family</td>\n      <td>NaN</td>\n      <td>en</td>\n      <td>150.000000</td>\n      <td>38.992758</td>\n      <td>Walt Disney Animation Studios</td>\n      <td>...</td>\n      <td>7.247170</td>\n      <td>88.0</td>\n      <td>When Martians suddenly abduct his mom, mischie...</td>\n      <td>English</td>\n      <td>&lt;img src='http://image.tmdb.org/t/p/w185//lOKq...</td>\n      <td>Seth Green|Joan Cusack|Dan Fogler|Breckin Meye...</td>\n      <td>12</td>\n      <td>7</td>\n      <td>Simon Wells</td>\n      <td>-111.007242</td>\n    </tr>\n    <tr>\n      <th>43611</th>\n      <td>339964</td>\n      <td>Valerian and the City of a Thousand Planets</td>\n      <td>NaN</td>\n      <td>2017-07-20</td>\n      <td>Adventure|Science Fiction|Action</td>\n      <td>NaN</td>\n      <td>en</td>\n      <td>197.471676</td>\n      <td>90.024292</td>\n      <td>EuropaCorp</td>\n      <td>...</td>\n      <td>15.262706</td>\n      <td>137.0</td>\n      <td>In the 28th century, Valerian and Laureline ar...</td>\n      <td>Français|English</td>\n      <td>&lt;img src='http://image.tmdb.org/t/p/w185//jfIp...</td>\n      <td>Dane DeHaan|Cara Delevingne|Clive Owen|Rihanna...</td>\n      <td>118</td>\n      <td>316</td>\n      <td>Luc Besson</td>\n      <td>-107.447384</td>\n    </tr>\n    <tr>\n      <th>2684</th>\n      <td>1911</td>\n      <td>The 13th Warrior</td>\n      <td>Prey for the living.</td>\n      <td>1999-08-27</td>\n      <td>Adventure|Fantasy|Action</td>\n      <td>NaN</td>\n      <td>en</td>\n      <td>160.000000</td>\n      <td>61.698899</td>\n      <td>Touchstone Pictures</td>\n      <td>...</td>\n      <td>10.308026</td>\n      <td>102.0</td>\n      <td>In AD 922, Arab courtier, Ahmad Ibn Fadlan acc...</td>\n      <td>English|Norsk</td>\n      <td>&lt;img src='http://image.tmdb.org/t/p/w185//7pyh...</td>\n      <td>Antonio Banderas|Vladimir Kulich|Dennis Storhø...</td>\n      <td>19</td>\n      <td>17</td>\n      <td>John McTiernan</td>\n      <td>-98.301101</td>\n    </tr>\n  </tbody>\n</table>\n<p>5 rows × 23 columns</p>\n</div>"
     },
     "execution_count": 150,
     "metadata": {},
     "output_type": "execute_result"
    }
   ],
   "source": [
    "df_profits.sort_values(by='profits').head(5)\n"
   ]
  },
  {
   "cell_type": "markdown",
   "metadata": {},
   "source": [
    "__Movies Top 5 - Highest ROI__"
   ]
  },
  {
   "cell_type": "code",
   "execution_count": 151,
   "metadata": {
    "scrolled": false,
    "ExecuteTime": {
     "end_time": "2024-04-23T19:05:37.406207500Z",
     "start_time": "2024-04-23T19:05:37.208102300Z"
    }
   },
   "outputs": [
    {
     "data": {
      "text/plain": "          id                       title  \\\n1055     601  E.T. the Extra-Terrestrial   \n255       11                   Star Wars   \n588      114                Pretty Woman   \n18300  77338            The Intouchables   \n1144    1891     The Empire Strikes Back   \n\n                                                 tagline release_date  \\\n1055   He is afraid. He is alone. He is three million...   1982-04-03   \n255         A long time ago in a galaxy far, far away...   1977-05-25   \n588          Who knew it was so much fun to be a hooker?   1990-03-23   \n18300  Sometimes you have to reach into someone else'...   2011-11-02   \n1144                          The Adventure Continues...   1980-05-17   \n\n                                         genres belongs_to_collection  \\\n1055   Science Fiction|Adventure|Family|Fantasy                   NaN   \n255            Adventure|Action|Science Fiction  Star Wars Collection   \n588                              Romance|Comedy                   NaN   \n18300                              Drama|Comedy                   NaN   \n1144           Adventure|Action|Science Fiction  Star Wars Collection   \n\n      original_language  budget_musd  revenue_musd  \\\n1055                 en         10.5    792.965326   \n255                  en         11.0    775.398007   \n588                  en         14.0    463.000000   \n18300                fr         13.0    426.480871   \n1144                 en         18.0    538.400000   \n\n                                    production_companies  ... popularity  \\\n1055             Universal Pictures|Amblin Entertainment  ...  19.358546   \n255     Lucasfilm|Twentieth Century Fox Film Corporation  ...  42.149697   \n588        Touchstone Pictures|Silver Screen Partners IV  ...  13.348451   \n18300  Gaumont|TF1 Films Production|Canal+|CinéCinéma...  ...  16.086919   \n1144    Lucasfilm|Twentieth Century Fox Film Corporation  ...  19.470959   \n\n       runtime                                           overview  \\\n1055     115.0  After a gentle alien becomes stranded on Earth...   \n255      121.0  Princess Leia is captured and held hostage by ...   \n588      119.0  When millionaire wheeler-dealer Edward Lewis e...   \n18300    112.0  A true story of two men who should never have ...   \n1144     124.0  The epic saga continues as Luke Skywalker, in ...   \n\n           spoken_languages  \\\n1055                English   \n255                 English   \n588    English|Italiano|日本語   \n18300      English|Français   \n1144                English   \n\n                                             poster_path  \\\n1055   <img src='http://image.tmdb.org/t/p/w185//cBfk...   \n255    <img src='http://image.tmdb.org/t/p/w185//6FfC...   \n588    <img src='http://image.tmdb.org/t/p/w185//hMVM...   \n18300  <img src='http://image.tmdb.org/t/p/w185//w7Wx...   \n1144   <img src='http://image.tmdb.org/t/p/w185//7BuH...   \n\n                                                    cast cast_size crew_size  \\\n1055   Henry Thomas|Drew Barrymore|Robert MacNaughton...        13        21   \n255    Mark Hamill|Harrison Ford|Carrie Fisher|Peter ...       106        20   \n588    Julia Roberts|Richard Gere|Ralph Bellamy|Jason...        17        10   \n18300  François Cluzet|Omar Sy|Audrey Fleurot|Anne Le...        32        34   \n1144   Mark Hamill|Harrison Ford|Carrie Fisher|Billy ...        76        51   \n\n               director        roi  \n1055   Steven Spielberg  75.520507  \n255        George Lucas  70.490728  \n588      Garry Marshall  33.071429  \n18300     Eric Toledano  32.806221  \n1144     Irvin Kershner  29.911111  \n\n[5 rows x 23 columns]",
      "text/html": "<div>\n<style scoped>\n    .dataframe tbody tr th:only-of-type {\n        vertical-align: middle;\n    }\n\n    .dataframe tbody tr th {\n        vertical-align: top;\n    }\n\n    .dataframe thead th {\n        text-align: right;\n    }\n</style>\n<table border=\"1\" class=\"dataframe\">\n  <thead>\n    <tr style=\"text-align: right;\">\n      <th></th>\n      <th>id</th>\n      <th>title</th>\n      <th>tagline</th>\n      <th>release_date</th>\n      <th>genres</th>\n      <th>belongs_to_collection</th>\n      <th>original_language</th>\n      <th>budget_musd</th>\n      <th>revenue_musd</th>\n      <th>production_companies</th>\n      <th>...</th>\n      <th>popularity</th>\n      <th>runtime</th>\n      <th>overview</th>\n      <th>spoken_languages</th>\n      <th>poster_path</th>\n      <th>cast</th>\n      <th>cast_size</th>\n      <th>crew_size</th>\n      <th>director</th>\n      <th>roi</th>\n    </tr>\n  </thead>\n  <tbody>\n    <tr>\n      <th>1055</th>\n      <td>601</td>\n      <td>E.T. the Extra-Terrestrial</td>\n      <td>He is afraid. He is alone. He is three million...</td>\n      <td>1982-04-03</td>\n      <td>Science Fiction|Adventure|Family|Fantasy</td>\n      <td>NaN</td>\n      <td>en</td>\n      <td>10.5</td>\n      <td>792.965326</td>\n      <td>Universal Pictures|Amblin Entertainment</td>\n      <td>...</td>\n      <td>19.358546</td>\n      <td>115.0</td>\n      <td>After a gentle alien becomes stranded on Earth...</td>\n      <td>English</td>\n      <td>&lt;img src='http://image.tmdb.org/t/p/w185//cBfk...</td>\n      <td>Henry Thomas|Drew Barrymore|Robert MacNaughton...</td>\n      <td>13</td>\n      <td>21</td>\n      <td>Steven Spielberg</td>\n      <td>75.520507</td>\n    </tr>\n    <tr>\n      <th>255</th>\n      <td>11</td>\n      <td>Star Wars</td>\n      <td>A long time ago in a galaxy far, far away...</td>\n      <td>1977-05-25</td>\n      <td>Adventure|Action|Science Fiction</td>\n      <td>Star Wars Collection</td>\n      <td>en</td>\n      <td>11.0</td>\n      <td>775.398007</td>\n      <td>Lucasfilm|Twentieth Century Fox Film Corporation</td>\n      <td>...</td>\n      <td>42.149697</td>\n      <td>121.0</td>\n      <td>Princess Leia is captured and held hostage by ...</td>\n      <td>English</td>\n      <td>&lt;img src='http://image.tmdb.org/t/p/w185//6FfC...</td>\n      <td>Mark Hamill|Harrison Ford|Carrie Fisher|Peter ...</td>\n      <td>106</td>\n      <td>20</td>\n      <td>George Lucas</td>\n      <td>70.490728</td>\n    </tr>\n    <tr>\n      <th>588</th>\n      <td>114</td>\n      <td>Pretty Woman</td>\n      <td>Who knew it was so much fun to be a hooker?</td>\n      <td>1990-03-23</td>\n      <td>Romance|Comedy</td>\n      <td>NaN</td>\n      <td>en</td>\n      <td>14.0</td>\n      <td>463.000000</td>\n      <td>Touchstone Pictures|Silver Screen Partners IV</td>\n      <td>...</td>\n      <td>13.348451</td>\n      <td>119.0</td>\n      <td>When millionaire wheeler-dealer Edward Lewis e...</td>\n      <td>English|Italiano|日本語</td>\n      <td>&lt;img src='http://image.tmdb.org/t/p/w185//hMVM...</td>\n      <td>Julia Roberts|Richard Gere|Ralph Bellamy|Jason...</td>\n      <td>17</td>\n      <td>10</td>\n      <td>Garry Marshall</td>\n      <td>33.071429</td>\n    </tr>\n    <tr>\n      <th>18300</th>\n      <td>77338</td>\n      <td>The Intouchables</td>\n      <td>Sometimes you have to reach into someone else'...</td>\n      <td>2011-11-02</td>\n      <td>Drama|Comedy</td>\n      <td>NaN</td>\n      <td>fr</td>\n      <td>13.0</td>\n      <td>426.480871</td>\n      <td>Gaumont|TF1 Films Production|Canal+|CinéCinéma...</td>\n      <td>...</td>\n      <td>16.086919</td>\n      <td>112.0</td>\n      <td>A true story of two men who should never have ...</td>\n      <td>English|Français</td>\n      <td>&lt;img src='http://image.tmdb.org/t/p/w185//w7Wx...</td>\n      <td>François Cluzet|Omar Sy|Audrey Fleurot|Anne Le...</td>\n      <td>32</td>\n      <td>34</td>\n      <td>Eric Toledano</td>\n      <td>32.806221</td>\n    </tr>\n    <tr>\n      <th>1144</th>\n      <td>1891</td>\n      <td>The Empire Strikes Back</td>\n      <td>The Adventure Continues...</td>\n      <td>1980-05-17</td>\n      <td>Adventure|Action|Science Fiction</td>\n      <td>Star Wars Collection</td>\n      <td>en</td>\n      <td>18.0</td>\n      <td>538.400000</td>\n      <td>Lucasfilm|Twentieth Century Fox Film Corporation</td>\n      <td>...</td>\n      <td>19.470959</td>\n      <td>124.0</td>\n      <td>The epic saga continues as Luke Skywalker, in ...</td>\n      <td>English</td>\n      <td>&lt;img src='http://image.tmdb.org/t/p/w185//7BuH...</td>\n      <td>Mark Hamill|Harrison Ford|Carrie Fisher|Billy ...</td>\n      <td>76</td>\n      <td>51</td>\n      <td>Irvin Kershner</td>\n      <td>29.911111</td>\n    </tr>\n  </tbody>\n</table>\n<p>5 rows × 23 columns</p>\n</div>"
     },
     "execution_count": 151,
     "metadata": {},
     "output_type": "execute_result"
    }
   ],
   "source": [
    "df_roi = df.copy()\n",
    "df_roi['roi'] = df_roi['revenue_musd'] / df_roi['budget_musd']\n",
    "df_roi['roi'] = df_roi['roi'].round(6)\n",
    "df_roi[df_roi['budget_musd'] >=10].sort_values(by='roi', ascending= False).head(5)"
   ]
  },
  {
   "cell_type": "markdown",
   "metadata": {},
   "source": [
    "__Movies Top 5 - Lowest ROI__"
   ]
  },
  {
   "cell_type": "code",
   "execution_count": 152,
   "metadata": {
    "ExecuteTime": {
     "end_time": "2024-04-23T19:05:37.413906600Z",
     "start_time": "2024-04-23T19:05:37.245123100Z"
    }
   },
   "outputs": [
    {
     "data": {
      "text/plain": "          id            title  \\\n6955   14844  Chasing Liberty   \n8041   18475      The Cookout   \n17381  33927         Deadfall   \n6678   10944       In the Cut   \n20015  98339    The Samaritan   \n\n                                                 tagline release_date  \\\n6955   How do you fall in love with the whole world w...   2004-01-09   \n8041                     This summer, get your grill on!   2004-09-03   \n17381                                ...The ultimate con   1993-10-08   \n6678     Everything you know about desire is dead wrong.   2003-09-09   \n20015                                                NaN   2012-03-02   \n\n                     genres belongs_to_collection original_language  \\\n6955         Comedy|Romance                   NaN                en   \n8041           Comedy|Drama                   NaN                en   \n17381  Crime|Drama|Thriller                   NaN                en   \n6678       Mystery|Thriller                   NaN                en   \n20015              Thriller                   NaN                en   \n\n       budget_musd  revenue_musd  \\\n6955          23.0      0.000012   \n8041          16.0      0.000012   \n17381         10.0      0.000018   \n6678          12.0      0.000023   \n20015         12.0      0.002521   \n\n                                    production_companies  ... popularity  \\\n6955   Alcon Entertainment|ETIC Films|C.R.G. Internat...  ...   5.950792   \n8041                                 Cookout Productions  ...   1.758079   \n17381                                   Trimark Pictures  ...   1.145806   \n6678                        Pathe Productions|Red Turtle  ...   5.799628   \n20015  Quickfire Films|H2O Motion Pictures|2262730 On...  ...  11.521280   \n\n       runtime                                           overview  \\\n6955     111.0  The President's daughter, unable to experience...   \n8041      97.0  When Todd Anderson signs a $30 million deal wi...   \n17381     98.0  After he accidentally kills his father, Mike, ...   \n6678     119.0  Following the gruesome murder of a young woman...   \n20015     90.0  After twenty years in prison, Foley is finishe...   \n\n                                        spoken_languages  \\\n6955   English|Français|עִבְרִית|Italiano|Español|Deu...   \n8041                                             English   \n17381                                    English|Español   \n6678                                             English   \n20015                                            English   \n\n                                             poster_path  \\\n6955   <img src='http://image.tmdb.org/t/p/w185//7qzv...   \n8041   <img src='http://image.tmdb.org/t/p/w185//eUVE...   \n17381  <img src='http://image.tmdb.org/t/p/w185//kgfv...   \n6678   <img src='http://image.tmdb.org/t/p/w185//lcor...   \n20015  <img src='http://image.tmdb.org/t/p/w185//zSwC...   \n\n                                                    cast cast_size crew_size  \\\n6955   Mandy Moore|Stark Sands|Tony Jayawardena|Jerem...        11        26   \n8041   Ja Rule|Tim Meadows|Jenifer Lewis|Jonathan Sil...         6         4   \n17381  Michael Biehn|Sarah Trigger|Nicolas Cage|James...        12         3   \n6678   Meg Ryan|Mark Ruffalo|Jennifer Jason Leigh|Nic...         6        25   \n20015  Samuel L. Jackson|Luke Kirby|Ruth Negga|Tom Wi...        13        34   \n\n                  director       roi  \n6955           Andy Cadiff  0.000001  \n8041          Lance Rivera  0.000001  \n17381  Christopher Coppola  0.000002  \n6678          Jane Campion  0.000002  \n20015         David Weaver  0.000210  \n\n[5 rows x 23 columns]",
      "text/html": "<div>\n<style scoped>\n    .dataframe tbody tr th:only-of-type {\n        vertical-align: middle;\n    }\n\n    .dataframe tbody tr th {\n        vertical-align: top;\n    }\n\n    .dataframe thead th {\n        text-align: right;\n    }\n</style>\n<table border=\"1\" class=\"dataframe\">\n  <thead>\n    <tr style=\"text-align: right;\">\n      <th></th>\n      <th>id</th>\n      <th>title</th>\n      <th>tagline</th>\n      <th>release_date</th>\n      <th>genres</th>\n      <th>belongs_to_collection</th>\n      <th>original_language</th>\n      <th>budget_musd</th>\n      <th>revenue_musd</th>\n      <th>production_companies</th>\n      <th>...</th>\n      <th>popularity</th>\n      <th>runtime</th>\n      <th>overview</th>\n      <th>spoken_languages</th>\n      <th>poster_path</th>\n      <th>cast</th>\n      <th>cast_size</th>\n      <th>crew_size</th>\n      <th>director</th>\n      <th>roi</th>\n    </tr>\n  </thead>\n  <tbody>\n    <tr>\n      <th>6955</th>\n      <td>14844</td>\n      <td>Chasing Liberty</td>\n      <td>How do you fall in love with the whole world w...</td>\n      <td>2004-01-09</td>\n      <td>Comedy|Romance</td>\n      <td>NaN</td>\n      <td>en</td>\n      <td>23.0</td>\n      <td>0.000012</td>\n      <td>Alcon Entertainment|ETIC Films|C.R.G. Internat...</td>\n      <td>...</td>\n      <td>5.950792</td>\n      <td>111.0</td>\n      <td>The President's daughter, unable to experience...</td>\n      <td>English|Français|עִבְרִית|Italiano|Español|Deu...</td>\n      <td>&lt;img src='http://image.tmdb.org/t/p/w185//7qzv...</td>\n      <td>Mandy Moore|Stark Sands|Tony Jayawardena|Jerem...</td>\n      <td>11</td>\n      <td>26</td>\n      <td>Andy Cadiff</td>\n      <td>0.000001</td>\n    </tr>\n    <tr>\n      <th>8041</th>\n      <td>18475</td>\n      <td>The Cookout</td>\n      <td>This summer, get your grill on!</td>\n      <td>2004-09-03</td>\n      <td>Comedy|Drama</td>\n      <td>NaN</td>\n      <td>en</td>\n      <td>16.0</td>\n      <td>0.000012</td>\n      <td>Cookout Productions</td>\n      <td>...</td>\n      <td>1.758079</td>\n      <td>97.0</td>\n      <td>When Todd Anderson signs a $30 million deal wi...</td>\n      <td>English</td>\n      <td>&lt;img src='http://image.tmdb.org/t/p/w185//eUVE...</td>\n      <td>Ja Rule|Tim Meadows|Jenifer Lewis|Jonathan Sil...</td>\n      <td>6</td>\n      <td>4</td>\n      <td>Lance Rivera</td>\n      <td>0.000001</td>\n    </tr>\n    <tr>\n      <th>17381</th>\n      <td>33927</td>\n      <td>Deadfall</td>\n      <td>...The ultimate con</td>\n      <td>1993-10-08</td>\n      <td>Crime|Drama|Thriller</td>\n      <td>NaN</td>\n      <td>en</td>\n      <td>10.0</td>\n      <td>0.000018</td>\n      <td>Trimark Pictures</td>\n      <td>...</td>\n      <td>1.145806</td>\n      <td>98.0</td>\n      <td>After he accidentally kills his father, Mike, ...</td>\n      <td>English|Español</td>\n      <td>&lt;img src='http://image.tmdb.org/t/p/w185//kgfv...</td>\n      <td>Michael Biehn|Sarah Trigger|Nicolas Cage|James...</td>\n      <td>12</td>\n      <td>3</td>\n      <td>Christopher Coppola</td>\n      <td>0.000002</td>\n    </tr>\n    <tr>\n      <th>6678</th>\n      <td>10944</td>\n      <td>In the Cut</td>\n      <td>Everything you know about desire is dead wrong.</td>\n      <td>2003-09-09</td>\n      <td>Mystery|Thriller</td>\n      <td>NaN</td>\n      <td>en</td>\n      <td>12.0</td>\n      <td>0.000023</td>\n      <td>Pathe Productions|Red Turtle</td>\n      <td>...</td>\n      <td>5.799628</td>\n      <td>119.0</td>\n      <td>Following the gruesome murder of a young woman...</td>\n      <td>English</td>\n      <td>&lt;img src='http://image.tmdb.org/t/p/w185//lcor...</td>\n      <td>Meg Ryan|Mark Ruffalo|Jennifer Jason Leigh|Nic...</td>\n      <td>6</td>\n      <td>25</td>\n      <td>Jane Campion</td>\n      <td>0.000002</td>\n    </tr>\n    <tr>\n      <th>20015</th>\n      <td>98339</td>\n      <td>The Samaritan</td>\n      <td>NaN</td>\n      <td>2012-03-02</td>\n      <td>Thriller</td>\n      <td>NaN</td>\n      <td>en</td>\n      <td>12.0</td>\n      <td>0.002521</td>\n      <td>Quickfire Films|H2O Motion Pictures|2262730 On...</td>\n      <td>...</td>\n      <td>11.521280</td>\n      <td>90.0</td>\n      <td>After twenty years in prison, Foley is finishe...</td>\n      <td>English</td>\n      <td>&lt;img src='http://image.tmdb.org/t/p/w185//zSwC...</td>\n      <td>Samuel L. Jackson|Luke Kirby|Ruth Negga|Tom Wi...</td>\n      <td>13</td>\n      <td>34</td>\n      <td>David Weaver</td>\n      <td>0.000210</td>\n    </tr>\n  </tbody>\n</table>\n<p>5 rows × 23 columns</p>\n</div>"
     },
     "execution_count": 152,
     "metadata": {},
     "output_type": "execute_result"
    }
   ],
   "source": [
    "df_roi[df_roi['budget_musd'] >=10].sort_values(by='roi').head(5)\n"
   ]
  },
  {
   "cell_type": "markdown",
   "metadata": {},
   "source": [
    "__Movies Top 5 - Most Votes__"
   ]
  },
  {
   "cell_type": "code",
   "execution_count": 153,
   "metadata": {
    "ExecuteTime": {
     "end_time": "2024-04-23T19:05:37.441401300Z",
     "start_time": "2024-04-23T19:05:37.266625900Z"
    }
   },
   "outputs": [
    {
     "data": {
      "text/plain": "           id                                       title  \\\n36996  162611  Portrait of a Young Man in Three Movements   \n33891  143980                         Brave Revolutionary   \n1615    64562                    Other Voices Other Rooms   \n35505  211139                          The Lion of Thebes   \n25882  287299         Katt Williams: Priceless: Afterlife   \n\n                                                 tagline release_date  \\\n36996                                                NaN   1931-04-15   \n33891                                                NaN   1994-07-22   \n1615                                                 NaN   1995-09-15   \n35505                                                NaN   1964-06-27   \n25882  Everybody has a price, because if you didn't y...   2014-08-16   \n\n                       genres belongs_to_collection original_language  \\\n36996                     NaN                   NaN                en   \n33891                     NaN                   NaN                hi   \n1615                    Drama                   NaN                en   \n35505  Drama|Action|Adventure                   NaN                en   \n25882         TV Movie|Comedy                   NaN                en   \n\n       budget_musd  revenue_musd               production_companies  ...  \\\n36996          NaN           NaN                                NaN  ...   \n33891          NaN           NaN                                NaN  ...   \n1615           NaN           NaN                                NaN  ...   \n35505          NaN           NaN        La Société des Films Sirius  ...   \n25882          NaN           NaN  New Wave Entertainment Television  ...   \n\n      vote_average  popularity  runtime  \\\n36996         10.0    0.036471     54.0   \n33891         10.0    0.318826    159.0   \n1615          10.0    0.036680      NaN   \n35505         10.0    1.783625     89.0   \n25882         10.0    0.476007     58.0   \n\n                                                overview  spoken_languages  \\\n36996  This is a non-narrative film comprised mostly ...               NaN   \n33891  Lack-lustred and alcoholic Pratap Narayan Tila...            हिन्दी   \n1615   Truman Capote's semi-autobiographical first no...               NaN   \n35505  Fleeing Troy in the wake of its destruction, f...  Italiano|Español   \n25882  Katt Williams performs in an all-new stand-up ...           English   \n\n                                             poster_path  \\\n36996                                                NaN   \n33891  <img src='http://image.tmdb.org/t/p/w185//zAb2...   \n1615   <img src='http://image.tmdb.org/t/p/w185//4ifP...   \n35505  <img src='http://image.tmdb.org/t/p/w185//tdOc...   \n25882  <img src='http://image.tmdb.org/t/p/w185//wKrH...   \n\n                                                    cast cast_size crew_size  \\\n36996                                                NaN         0         1   \n33891  Nana Patekar|Dimple Kapadia|Atul Agnihotri|Mam...        27         9   \n1615                                         Anna Levine         1         0   \n35505  Mark Forest|Yvonne Furneaux|Massimo Serato|Pie...         7        10   \n25882  Katt Williams|Phedra Syndelle|Christina Ingram...         4         2   \n\n                 director  \n36996  Henwar Rodakiewicz  \n33891         Mehul Kumar  \n1615                  NaN  \n35505     Giorgio Ferroni  \n25882           Spike Lee  \n\n[5 rows x 22 columns]",
      "text/html": "<div>\n<style scoped>\n    .dataframe tbody tr th:only-of-type {\n        vertical-align: middle;\n    }\n\n    .dataframe tbody tr th {\n        vertical-align: top;\n    }\n\n    .dataframe thead th {\n        text-align: right;\n    }\n</style>\n<table border=\"1\" class=\"dataframe\">\n  <thead>\n    <tr style=\"text-align: right;\">\n      <th></th>\n      <th>id</th>\n      <th>title</th>\n      <th>tagline</th>\n      <th>release_date</th>\n      <th>genres</th>\n      <th>belongs_to_collection</th>\n      <th>original_language</th>\n      <th>budget_musd</th>\n      <th>revenue_musd</th>\n      <th>production_companies</th>\n      <th>...</th>\n      <th>vote_average</th>\n      <th>popularity</th>\n      <th>runtime</th>\n      <th>overview</th>\n      <th>spoken_languages</th>\n      <th>poster_path</th>\n      <th>cast</th>\n      <th>cast_size</th>\n      <th>crew_size</th>\n      <th>director</th>\n    </tr>\n  </thead>\n  <tbody>\n    <tr>\n      <th>36996</th>\n      <td>162611</td>\n      <td>Portrait of a Young Man in Three Movements</td>\n      <td>NaN</td>\n      <td>1931-04-15</td>\n      <td>NaN</td>\n      <td>NaN</td>\n      <td>en</td>\n      <td>NaN</td>\n      <td>NaN</td>\n      <td>NaN</td>\n      <td>...</td>\n      <td>10.0</td>\n      <td>0.036471</td>\n      <td>54.0</td>\n      <td>This is a non-narrative film comprised mostly ...</td>\n      <td>NaN</td>\n      <td>NaN</td>\n      <td>NaN</td>\n      <td>0</td>\n      <td>1</td>\n      <td>Henwar Rodakiewicz</td>\n    </tr>\n    <tr>\n      <th>33891</th>\n      <td>143980</td>\n      <td>Brave Revolutionary</td>\n      <td>NaN</td>\n      <td>1994-07-22</td>\n      <td>NaN</td>\n      <td>NaN</td>\n      <td>hi</td>\n      <td>NaN</td>\n      <td>NaN</td>\n      <td>NaN</td>\n      <td>...</td>\n      <td>10.0</td>\n      <td>0.318826</td>\n      <td>159.0</td>\n      <td>Lack-lustred and alcoholic Pratap Narayan Tila...</td>\n      <td>हिन्दी</td>\n      <td>&lt;img src='http://image.tmdb.org/t/p/w185//zAb2...</td>\n      <td>Nana Patekar|Dimple Kapadia|Atul Agnihotri|Mam...</td>\n      <td>27</td>\n      <td>9</td>\n      <td>Mehul Kumar</td>\n    </tr>\n    <tr>\n      <th>1615</th>\n      <td>64562</td>\n      <td>Other Voices Other Rooms</td>\n      <td>NaN</td>\n      <td>1995-09-15</td>\n      <td>Drama</td>\n      <td>NaN</td>\n      <td>en</td>\n      <td>NaN</td>\n      <td>NaN</td>\n      <td>NaN</td>\n      <td>...</td>\n      <td>10.0</td>\n      <td>0.036680</td>\n      <td>NaN</td>\n      <td>Truman Capote's semi-autobiographical first no...</td>\n      <td>NaN</td>\n      <td>&lt;img src='http://image.tmdb.org/t/p/w185//4ifP...</td>\n      <td>Anna Levine</td>\n      <td>1</td>\n      <td>0</td>\n      <td>NaN</td>\n    </tr>\n    <tr>\n      <th>35505</th>\n      <td>211139</td>\n      <td>The Lion of Thebes</td>\n      <td>NaN</td>\n      <td>1964-06-27</td>\n      <td>Drama|Action|Adventure</td>\n      <td>NaN</td>\n      <td>en</td>\n      <td>NaN</td>\n      <td>NaN</td>\n      <td>La Société des Films Sirius</td>\n      <td>...</td>\n      <td>10.0</td>\n      <td>1.783625</td>\n      <td>89.0</td>\n      <td>Fleeing Troy in the wake of its destruction, f...</td>\n      <td>Italiano|Español</td>\n      <td>&lt;img src='http://image.tmdb.org/t/p/w185//tdOc...</td>\n      <td>Mark Forest|Yvonne Furneaux|Massimo Serato|Pie...</td>\n      <td>7</td>\n      <td>10</td>\n      <td>Giorgio Ferroni</td>\n    </tr>\n    <tr>\n      <th>25882</th>\n      <td>287299</td>\n      <td>Katt Williams: Priceless: Afterlife</td>\n      <td>Everybody has a price, because if you didn't y...</td>\n      <td>2014-08-16</td>\n      <td>TV Movie|Comedy</td>\n      <td>NaN</td>\n      <td>en</td>\n      <td>NaN</td>\n      <td>NaN</td>\n      <td>New Wave Entertainment Television</td>\n      <td>...</td>\n      <td>10.0</td>\n      <td>0.476007</td>\n      <td>58.0</td>\n      <td>Katt Williams performs in an all-new stand-up ...</td>\n      <td>English</td>\n      <td>&lt;img src='http://image.tmdb.org/t/p/w185//wKrH...</td>\n      <td>Katt Williams|Phedra Syndelle|Christina Ingram...</td>\n      <td>4</td>\n      <td>2</td>\n      <td>Spike Lee</td>\n    </tr>\n  </tbody>\n</table>\n<p>5 rows × 22 columns</p>\n</div>"
     },
     "execution_count": 153,
     "metadata": {},
     "output_type": "execute_result"
    }
   ],
   "source": [
    "df.sort_values(by='vote_average', ascending= False).head(5)"
   ]
  },
  {
   "cell_type": "markdown",
   "metadata": {},
   "source": [
    "__Movies Top 5 - Highest Rating__"
   ]
  },
  {
   "cell_type": "code",
   "execution_count": 154,
   "metadata": {
    "ExecuteTime": {
     "end_time": "2024-04-23T19:05:37.505868700Z",
     "start_time": "2024-04-23T19:05:37.293406100Z"
    }
   },
   "outputs": [
    {
     "data": {
      "text/plain": "           id                                              title  \\\n20787  130824  As I Was Moving Ahead Occasionally I Saw Brief...   \n42626  420714                                    Planet Earth II   \n18462   26397                                      The Civil War   \n10233   19404                        Dilwale Dulhania Le Jayenge   \n42822  409926                                             Cosmos   \n\n                                                 tagline release_date  \\\n20787  The ultimate Dogma movie before the birth of D...   2000-07-19   \n42626                                                NaN   2016-11-06   \n18462         It divided a country. It created a nation.   1990-09-23   \n10233                               Come... Fall In Love   1995-10-20   \n42822                                                NaN          NaN   \n\n                     genres belongs_to_collection original_language  \\\n20787           Documentary                   NaN                en   \n42626           Documentary                   NaN                en   \n18462           Documentary                   NaN                en   \n10233  Comedy|Drama|Romance                   NaN                hi   \n42822                   NaN                   NaN                en   \n\n       budget_musd  revenue_musd  \\\n20787          NaN           NaN   \n42626          NaN           NaN   \n18462          NaN           NaN   \n10233         13.2         100.0   \n42822          NaN           NaN   \n\n                                    production_companies  ... vote_average  \\\n20787                                                NaN  ...          9.5   \n42626             BBC|France Télévisions|ZDF|BBC America  ...          9.5   \n18462  Florentine Films|American Documentaries Inc.|K...  ...          9.2   \n10233                                     Yash Raj Films  ...          9.1   \n42822                                                NaN  ...          9.1   \n\n       popularity  runtime                                           overview  \\\n20787    0.798400    288.0  My film diaries 1970-1979: my marriage, childr...   \n42626    5.651997    300.0  David Attenborough presents a documentary seri...   \n18462    3.431403    680.0  This highly acclaimed mini series traces the c...   \n10233   34.457024    190.0  Raj is a rich, carefree, happy-go-lucky second...   \n42822    0.282584     60.0  Astronomer Dr. Carl Sagan is host and narrator...   \n\n       spoken_languages                                        poster_path  \\\n20787           English  <img src='http://image.tmdb.org/t/p/w185//k0I6...   \n42626           English  <img src='http://image.tmdb.org/t/p/w185//gTvA...   \n18462  English|Français  <img src='http://image.tmdb.org/t/p/w185//r4sW...   \n10233            हिन्दी  <img src='http://image.tmdb.org/t/p/w185//2CAL...   \n42822               NaN  <img src='http://image.tmdb.org/t/p/w185//mYrn...   \n\n                                                    cast cast_size crew_size  \\\n20787  Jane Brakhage|Stan Brakhage|Robert Breer|Holli...        15         5   \n42626                                 David Attenborough         1         4   \n18462  Sam Waterston|Julie Harris|Jason Robards|Morga...        15         7   \n10233  Shah Rukh Khan|Kajol|Amrish Puri|Anupam Kher|S...        27        30   \n42822                                                NaN         0         0   \n\n            director  \n20787    Jonas Mekas  \n42626            NaN  \n18462      Ken Burns  \n10233  Aditya Chopra  \n42822            NaN  \n\n[5 rows x 22 columns]",
      "text/html": "<div>\n<style scoped>\n    .dataframe tbody tr th:only-of-type {\n        vertical-align: middle;\n    }\n\n    .dataframe tbody tr th {\n        vertical-align: top;\n    }\n\n    .dataframe thead th {\n        text-align: right;\n    }\n</style>\n<table border=\"1\" class=\"dataframe\">\n  <thead>\n    <tr style=\"text-align: right;\">\n      <th></th>\n      <th>id</th>\n      <th>title</th>\n      <th>tagline</th>\n      <th>release_date</th>\n      <th>genres</th>\n      <th>belongs_to_collection</th>\n      <th>original_language</th>\n      <th>budget_musd</th>\n      <th>revenue_musd</th>\n      <th>production_companies</th>\n      <th>...</th>\n      <th>vote_average</th>\n      <th>popularity</th>\n      <th>runtime</th>\n      <th>overview</th>\n      <th>spoken_languages</th>\n      <th>poster_path</th>\n      <th>cast</th>\n      <th>cast_size</th>\n      <th>crew_size</th>\n      <th>director</th>\n    </tr>\n  </thead>\n  <tbody>\n    <tr>\n      <th>20787</th>\n      <td>130824</td>\n      <td>As I Was Moving Ahead Occasionally I Saw Brief...</td>\n      <td>The ultimate Dogma movie before the birth of D...</td>\n      <td>2000-07-19</td>\n      <td>Documentary</td>\n      <td>NaN</td>\n      <td>en</td>\n      <td>NaN</td>\n      <td>NaN</td>\n      <td>NaN</td>\n      <td>...</td>\n      <td>9.5</td>\n      <td>0.798400</td>\n      <td>288.0</td>\n      <td>My film diaries 1970-1979: my marriage, childr...</td>\n      <td>English</td>\n      <td>&lt;img src='http://image.tmdb.org/t/p/w185//k0I6...</td>\n      <td>Jane Brakhage|Stan Brakhage|Robert Breer|Holli...</td>\n      <td>15</td>\n      <td>5</td>\n      <td>Jonas Mekas</td>\n    </tr>\n    <tr>\n      <th>42626</th>\n      <td>420714</td>\n      <td>Planet Earth II</td>\n      <td>NaN</td>\n      <td>2016-11-06</td>\n      <td>Documentary</td>\n      <td>NaN</td>\n      <td>en</td>\n      <td>NaN</td>\n      <td>NaN</td>\n      <td>BBC|France Télévisions|ZDF|BBC America</td>\n      <td>...</td>\n      <td>9.5</td>\n      <td>5.651997</td>\n      <td>300.0</td>\n      <td>David Attenborough presents a documentary seri...</td>\n      <td>English</td>\n      <td>&lt;img src='http://image.tmdb.org/t/p/w185//gTvA...</td>\n      <td>David Attenborough</td>\n      <td>1</td>\n      <td>4</td>\n      <td>NaN</td>\n    </tr>\n    <tr>\n      <th>18462</th>\n      <td>26397</td>\n      <td>The Civil War</td>\n      <td>It divided a country. It created a nation.</td>\n      <td>1990-09-23</td>\n      <td>Documentary</td>\n      <td>NaN</td>\n      <td>en</td>\n      <td>NaN</td>\n      <td>NaN</td>\n      <td>Florentine Films|American Documentaries Inc.|K...</td>\n      <td>...</td>\n      <td>9.2</td>\n      <td>3.431403</td>\n      <td>680.0</td>\n      <td>This highly acclaimed mini series traces the c...</td>\n      <td>English|Français</td>\n      <td>&lt;img src='http://image.tmdb.org/t/p/w185//r4sW...</td>\n      <td>Sam Waterston|Julie Harris|Jason Robards|Morga...</td>\n      <td>15</td>\n      <td>7</td>\n      <td>Ken Burns</td>\n    </tr>\n    <tr>\n      <th>10233</th>\n      <td>19404</td>\n      <td>Dilwale Dulhania Le Jayenge</td>\n      <td>Come... Fall In Love</td>\n      <td>1995-10-20</td>\n      <td>Comedy|Drama|Romance</td>\n      <td>NaN</td>\n      <td>hi</td>\n      <td>13.2</td>\n      <td>100.0</td>\n      <td>Yash Raj Films</td>\n      <td>...</td>\n      <td>9.1</td>\n      <td>34.457024</td>\n      <td>190.0</td>\n      <td>Raj is a rich, carefree, happy-go-lucky second...</td>\n      <td>हिन्दी</td>\n      <td>&lt;img src='http://image.tmdb.org/t/p/w185//2CAL...</td>\n      <td>Shah Rukh Khan|Kajol|Amrish Puri|Anupam Kher|S...</td>\n      <td>27</td>\n      <td>30</td>\n      <td>Aditya Chopra</td>\n    </tr>\n    <tr>\n      <th>42822</th>\n      <td>409926</td>\n      <td>Cosmos</td>\n      <td>NaN</td>\n      <td>NaN</td>\n      <td>NaN</td>\n      <td>NaN</td>\n      <td>en</td>\n      <td>NaN</td>\n      <td>NaN</td>\n      <td>NaN</td>\n      <td>...</td>\n      <td>9.1</td>\n      <td>0.282584</td>\n      <td>60.0</td>\n      <td>Astronomer Dr. Carl Sagan is host and narrator...</td>\n      <td>NaN</td>\n      <td>&lt;img src='http://image.tmdb.org/t/p/w185//mYrn...</td>\n      <td>NaN</td>\n      <td>0</td>\n      <td>0</td>\n      <td>NaN</td>\n    </tr>\n  </tbody>\n</table>\n<p>5 rows × 22 columns</p>\n</div>"
     },
     "execution_count": 154,
     "metadata": {},
     "output_type": "execute_result"
    }
   ],
   "source": [
    "df[df['vote_count'] >= 10].sort_values(by= 'vote_average', ascending= False).head(5)"
   ]
  },
  {
   "cell_type": "markdown",
   "metadata": {},
   "source": [
    "__Movies Top 5 - Lowest Rating__"
   ]
  },
  {
   "cell_type": "code",
   "execution_count": 155,
   "metadata": {
    "ExecuteTime": {
     "end_time": "2024-04-23T19:05:37.578898800Z",
     "start_time": "2024-04-23T19:05:37.321396800Z"
    }
   },
   "outputs": [
    {
     "data": {
      "text/plain": "           id                            title  \\\n41602  398818             Call Me by Your Name   \n30618  279988   Extinction: Nature Has Evolved   \n43576  341689  How to Talk to Girls at Parties   \n25418   13383                      Santa Claus   \n7030    22727         The Beast of Yucca Flats   \n\n                                            tagline release_date  \\\n41602                                           NaN   2017-10-27   \n30618                Extinction: Nature Has Evolved   2017-03-10   \n43576             Some girls are out of this world.   2017-12-27   \n25418  Better Than a Visit from Saint Nick Himself!   1959-11-26   \n7030             Commies made him an atomic mutant!   1961-06-02   \n\n                                     genres belongs_to_collection  \\\n41602                         Romance|Drama                   NaN   \n30618                    Thriller|Adventure                   NaN   \n43576  Comedy|Music|Romance|Science Fiction                   NaN   \n25418                  Drama|Family|Fantasy                   NaN   \n7030                 Horror|Science Fiction                   NaN   \n\n      original_language  budget_musd  revenue_musd  \\\n41602                en     4.696772           NaN   \n30618                en     3.400000           NaN   \n43576                en          NaN           NaN   \n25418                es          NaN           NaN   \n7030                 en          NaN           NaN   \n\n                                    production_companies  ... vote_average  \\\n41602  Sony Pictures Classics|La Cinéfacture|Minister...  ...          0.0   \n30618     Pinnacle Media|Hollywood Vision|Dark Art Films  ...          0.0   \n43576             HanWay Films|See-Saw Films|Little Punk  ...          0.0   \n25418                      Cinematográfica Calderón S.A.  ...          1.6   \n7030                                                 NaN  ...          1.6   \n\n       popularity  runtime                                           overview  \\\n41602    4.300874    130.0  Elio Perlman is spending the summer with his f...   \n30618    1.862426    100.0  The amazing footage you will see in this docum...   \n43576    2.068008    102.0  A couple of British 1970s teen-aged boys, Enn ...   \n25418    1.248299     94.0  Pitch, the mean-spirited devil, is trying to r...   \n7030     0.930790     54.0  A Russian scientist is arriving to the states ...   \n\n                spoken_languages  \\\n41602  Français|English|Italiano   \n30618           English|Français   \n43576                    English   \n25418                    Español   \n7030                     English   \n\n                                             poster_path  \\\n41602  <img src='http://image.tmdb.org/t/p/w185//tcNn...   \n30618  <img src='http://image.tmdb.org/t/p/w185//13LT...   \n43576  <img src='http://image.tmdb.org/t/p/w185//v6mP...   \n25418  <img src='http://image.tmdb.org/t/p/w185//xurQ...   \n7030   <img src='http://image.tmdb.org/t/p/w185//cehv...   \n\n                                                    cast cast_size crew_size  \\\n41602  Timothée Chalamet|Armie Hammer|Michael Stuhlba...        12        62   \n30618  Ben Loyd-Holmes|Sarah Mac|Neil Newbon|Daniel C...         5         3   \n43576  Elle Fanning|Nicole Kidman|Ruth Wilson|Matt Lu...        17        24   \n25418  José Elías Moreno|Cesáreo Quezadas|José Luis A...         8         4   \n7030   Tor Johnson|Douglas Mellor|Barbara Francis|Bin...        14        17   \n\n                    director  \n41602        Luca Guadagnino  \n30618            Adam Spinks  \n43576  John Cameron Mitchell  \n25418           René Cardona  \n7030         Coleman Francis  \n\n[5 rows x 22 columns]",
      "text/html": "<div>\n<style scoped>\n    .dataframe tbody tr th:only-of-type {\n        vertical-align: middle;\n    }\n\n    .dataframe tbody tr th {\n        vertical-align: top;\n    }\n\n    .dataframe thead th {\n        text-align: right;\n    }\n</style>\n<table border=\"1\" class=\"dataframe\">\n  <thead>\n    <tr style=\"text-align: right;\">\n      <th></th>\n      <th>id</th>\n      <th>title</th>\n      <th>tagline</th>\n      <th>release_date</th>\n      <th>genres</th>\n      <th>belongs_to_collection</th>\n      <th>original_language</th>\n      <th>budget_musd</th>\n      <th>revenue_musd</th>\n      <th>production_companies</th>\n      <th>...</th>\n      <th>vote_average</th>\n      <th>popularity</th>\n      <th>runtime</th>\n      <th>overview</th>\n      <th>spoken_languages</th>\n      <th>poster_path</th>\n      <th>cast</th>\n      <th>cast_size</th>\n      <th>crew_size</th>\n      <th>director</th>\n    </tr>\n  </thead>\n  <tbody>\n    <tr>\n      <th>41602</th>\n      <td>398818</td>\n      <td>Call Me by Your Name</td>\n      <td>NaN</td>\n      <td>2017-10-27</td>\n      <td>Romance|Drama</td>\n      <td>NaN</td>\n      <td>en</td>\n      <td>4.696772</td>\n      <td>NaN</td>\n      <td>Sony Pictures Classics|La Cinéfacture|Minister...</td>\n      <td>...</td>\n      <td>0.0</td>\n      <td>4.300874</td>\n      <td>130.0</td>\n      <td>Elio Perlman is spending the summer with his f...</td>\n      <td>Français|English|Italiano</td>\n      <td>&lt;img src='http://image.tmdb.org/t/p/w185//tcNn...</td>\n      <td>Timothée Chalamet|Armie Hammer|Michael Stuhlba...</td>\n      <td>12</td>\n      <td>62</td>\n      <td>Luca Guadagnino</td>\n    </tr>\n    <tr>\n      <th>30618</th>\n      <td>279988</td>\n      <td>Extinction: Nature Has Evolved</td>\n      <td>Extinction: Nature Has Evolved</td>\n      <td>2017-03-10</td>\n      <td>Thriller|Adventure</td>\n      <td>NaN</td>\n      <td>en</td>\n      <td>3.400000</td>\n      <td>NaN</td>\n      <td>Pinnacle Media|Hollywood Vision|Dark Art Films</td>\n      <td>...</td>\n      <td>0.0</td>\n      <td>1.862426</td>\n      <td>100.0</td>\n      <td>The amazing footage you will see in this docum...</td>\n      <td>English|Français</td>\n      <td>&lt;img src='http://image.tmdb.org/t/p/w185//13LT...</td>\n      <td>Ben Loyd-Holmes|Sarah Mac|Neil Newbon|Daniel C...</td>\n      <td>5</td>\n      <td>3</td>\n      <td>Adam Spinks</td>\n    </tr>\n    <tr>\n      <th>43576</th>\n      <td>341689</td>\n      <td>How to Talk to Girls at Parties</td>\n      <td>Some girls are out of this world.</td>\n      <td>2017-12-27</td>\n      <td>Comedy|Music|Romance|Science Fiction</td>\n      <td>NaN</td>\n      <td>en</td>\n      <td>NaN</td>\n      <td>NaN</td>\n      <td>HanWay Films|See-Saw Films|Little Punk</td>\n      <td>...</td>\n      <td>0.0</td>\n      <td>2.068008</td>\n      <td>102.0</td>\n      <td>A couple of British 1970s teen-aged boys, Enn ...</td>\n      <td>English</td>\n      <td>&lt;img src='http://image.tmdb.org/t/p/w185//v6mP...</td>\n      <td>Elle Fanning|Nicole Kidman|Ruth Wilson|Matt Lu...</td>\n      <td>17</td>\n      <td>24</td>\n      <td>John Cameron Mitchell</td>\n    </tr>\n    <tr>\n      <th>25418</th>\n      <td>13383</td>\n      <td>Santa Claus</td>\n      <td>Better Than a Visit from Saint Nick Himself!</td>\n      <td>1959-11-26</td>\n      <td>Drama|Family|Fantasy</td>\n      <td>NaN</td>\n      <td>es</td>\n      <td>NaN</td>\n      <td>NaN</td>\n      <td>Cinematográfica Calderón S.A.</td>\n      <td>...</td>\n      <td>1.6</td>\n      <td>1.248299</td>\n      <td>94.0</td>\n      <td>Pitch, the mean-spirited devil, is trying to r...</td>\n      <td>Español</td>\n      <td>&lt;img src='http://image.tmdb.org/t/p/w185//xurQ...</td>\n      <td>José Elías Moreno|Cesáreo Quezadas|José Luis A...</td>\n      <td>8</td>\n      <td>4</td>\n      <td>René Cardona</td>\n    </tr>\n    <tr>\n      <th>7030</th>\n      <td>22727</td>\n      <td>The Beast of Yucca Flats</td>\n      <td>Commies made him an atomic mutant!</td>\n      <td>1961-06-02</td>\n      <td>Horror|Science Fiction</td>\n      <td>NaN</td>\n      <td>en</td>\n      <td>NaN</td>\n      <td>NaN</td>\n      <td>NaN</td>\n      <td>...</td>\n      <td>1.6</td>\n      <td>0.930790</td>\n      <td>54.0</td>\n      <td>A Russian scientist is arriving to the states ...</td>\n      <td>English</td>\n      <td>&lt;img src='http://image.tmdb.org/t/p/w185//cehv...</td>\n      <td>Tor Johnson|Douglas Mellor|Barbara Francis|Bin...</td>\n      <td>14</td>\n      <td>17</td>\n      <td>Coleman Francis</td>\n    </tr>\n  </tbody>\n</table>\n<p>5 rows × 22 columns</p>\n</div>"
     },
     "execution_count": 155,
     "metadata": {},
     "output_type": "execute_result"
    }
   ],
   "source": [
    "df[df['vote_count'] >= 10].sort_values(by= 'vote_average').head(5)\n"
   ]
  },
  {
   "cell_type": "markdown",
   "metadata": {},
   "source": [
    "__Movies Top 5 - Most Popular__"
   ]
  },
  {
   "cell_type": "code",
   "execution_count": 156,
   "metadata": {
    "ExecuteTime": {
     "end_time": "2024-04-23T19:05:37.663986100Z",
     "start_time": "2024-04-23T19:05:37.348837600Z"
    }
   },
   "outputs": [
    {
     "data": {
      "text/plain": "           id                 title  \\\n30330  211672               Minions   \n32927  297762          Wonder Woman   \n41556  321612  Beauty and the Beast   \n42940  339403           Baby Driver   \n24187  177572            Big Hero 6   \n\n                                              tagline release_date  \\\n30330    Before Gru, they had a history of bad bosses   2015-06-17   \n32927                   Power. Grace. Wisdom. Wonder.   2017-05-30   \n41556                                   Be our guest.   2017-03-16   \n42940               All you need is one killer track.   2017-06-28   \n24187  From the creators of Wreck-it Ralph and Frozen   2014-10-24   \n\n                                         genres     belongs_to_collection  \\\n30330         Family|Animation|Adventure|Comedy  Despicable Me Collection   \n32927                  Action|Adventure|Fantasy   Wonder Woman Collection   \n41556                    Family|Fantasy|Romance                       NaN   \n42940                              Action|Crime                       NaN   \n24187  Adventure|Family|Animation|Action|Comedy                       NaN   \n\n      original_language  budget_musd  revenue_musd  \\\n30330                en         74.0   1156.730962   \n32927                en        149.0    820.580447   \n41556                en        160.0   1262.886337   \n42940                en         34.0    224.511319   \n24187                en        165.0    652.105443   \n\n                                    production_companies  ... vote_average  \\\n30330      Universal Pictures|Illumination Entertainment  ...          6.4   \n32927  Dune Entertainment|Atlas Entertainment|Warner ...  ...          7.2   \n41556              Walt Disney Pictures|Mandeville Films  ...          6.8   \n42940  Big Talk Productions|TriStar Pictures|Media Ri...  ...          7.2   \n24187  Walt Disney Pictures|Walt Disney Animation Stu...  ...          7.8   \n\n       popularity  runtime                                           overview  \\\n30330  547.488298     91.0  Minions Stuart, Kevin and Bob are recruited by...   \n32927  294.337037    141.0  An Amazon princess comes to the world of Man t...   \n41556  287.253654    129.0  A live-action adaptation of Disney's version o...   \n42940  228.032744    113.0  After being coerced into working for a crime b...   \n24187  213.849907    102.0  The special bond that develops between plus-si...   \n\n       spoken_languages                                        poster_path  \\\n30330           English  <img src='http://image.tmdb.org/t/p/w185//tMaG...   \n32927   Deutsch|English  <img src='http://image.tmdb.org/t/p/w185//gfJG...   \n41556           English  <img src='http://image.tmdb.org/t/p/w185//tWqi...   \n42940           English  <img src='http://image.tmdb.org/t/p/w185//rmnQ...   \n24187           English  <img src='http://image.tmdb.org/t/p/w185//xozr...   \n\n                                                    cast cast_size crew_size  \\\n30330  Sandra Bullock|Jon Hamm|Michael Keaton|Allison...        17        12   \n32927  Gal Gadot|Chris Pine|Robin Wright|Danny Huston...       106       195   \n41556  Emma Watson|Dan Stevens|Luke Evans|Kevin Kline...       156       115   \n42940  Ansel Elgort|Lily James|Kevin Spacey|Jamie Fox...        56       183   \n24187  Scott Adsit|Ryan Potter|Daniel Henney|T.J. Mil...        46        39   \n\n             director  \n30330      Kyle Balda  \n32927   Patty Jenkins  \n41556     Bill Condon  \n42940    Edgar Wright  \n24187  Chris Williams  \n\n[5 rows x 22 columns]",
      "text/html": "<div>\n<style scoped>\n    .dataframe tbody tr th:only-of-type {\n        vertical-align: middle;\n    }\n\n    .dataframe tbody tr th {\n        vertical-align: top;\n    }\n\n    .dataframe thead th {\n        text-align: right;\n    }\n</style>\n<table border=\"1\" class=\"dataframe\">\n  <thead>\n    <tr style=\"text-align: right;\">\n      <th></th>\n      <th>id</th>\n      <th>title</th>\n      <th>tagline</th>\n      <th>release_date</th>\n      <th>genres</th>\n      <th>belongs_to_collection</th>\n      <th>original_language</th>\n      <th>budget_musd</th>\n      <th>revenue_musd</th>\n      <th>production_companies</th>\n      <th>...</th>\n      <th>vote_average</th>\n      <th>popularity</th>\n      <th>runtime</th>\n      <th>overview</th>\n      <th>spoken_languages</th>\n      <th>poster_path</th>\n      <th>cast</th>\n      <th>cast_size</th>\n      <th>crew_size</th>\n      <th>director</th>\n    </tr>\n  </thead>\n  <tbody>\n    <tr>\n      <th>30330</th>\n      <td>211672</td>\n      <td>Minions</td>\n      <td>Before Gru, they had a history of bad bosses</td>\n      <td>2015-06-17</td>\n      <td>Family|Animation|Adventure|Comedy</td>\n      <td>Despicable Me Collection</td>\n      <td>en</td>\n      <td>74.0</td>\n      <td>1156.730962</td>\n      <td>Universal Pictures|Illumination Entertainment</td>\n      <td>...</td>\n      <td>6.4</td>\n      <td>547.488298</td>\n      <td>91.0</td>\n      <td>Minions Stuart, Kevin and Bob are recruited by...</td>\n      <td>English</td>\n      <td>&lt;img src='http://image.tmdb.org/t/p/w185//tMaG...</td>\n      <td>Sandra Bullock|Jon Hamm|Michael Keaton|Allison...</td>\n      <td>17</td>\n      <td>12</td>\n      <td>Kyle Balda</td>\n    </tr>\n    <tr>\n      <th>32927</th>\n      <td>297762</td>\n      <td>Wonder Woman</td>\n      <td>Power. Grace. Wisdom. Wonder.</td>\n      <td>2017-05-30</td>\n      <td>Action|Adventure|Fantasy</td>\n      <td>Wonder Woman Collection</td>\n      <td>en</td>\n      <td>149.0</td>\n      <td>820.580447</td>\n      <td>Dune Entertainment|Atlas Entertainment|Warner ...</td>\n      <td>...</td>\n      <td>7.2</td>\n      <td>294.337037</td>\n      <td>141.0</td>\n      <td>An Amazon princess comes to the world of Man t...</td>\n      <td>Deutsch|English</td>\n      <td>&lt;img src='http://image.tmdb.org/t/p/w185//gfJG...</td>\n      <td>Gal Gadot|Chris Pine|Robin Wright|Danny Huston...</td>\n      <td>106</td>\n      <td>195</td>\n      <td>Patty Jenkins</td>\n    </tr>\n    <tr>\n      <th>41556</th>\n      <td>321612</td>\n      <td>Beauty and the Beast</td>\n      <td>Be our guest.</td>\n      <td>2017-03-16</td>\n      <td>Family|Fantasy|Romance</td>\n      <td>NaN</td>\n      <td>en</td>\n      <td>160.0</td>\n      <td>1262.886337</td>\n      <td>Walt Disney Pictures|Mandeville Films</td>\n      <td>...</td>\n      <td>6.8</td>\n      <td>287.253654</td>\n      <td>129.0</td>\n      <td>A live-action adaptation of Disney's version o...</td>\n      <td>English</td>\n      <td>&lt;img src='http://image.tmdb.org/t/p/w185//tWqi...</td>\n      <td>Emma Watson|Dan Stevens|Luke Evans|Kevin Kline...</td>\n      <td>156</td>\n      <td>115</td>\n      <td>Bill Condon</td>\n    </tr>\n    <tr>\n      <th>42940</th>\n      <td>339403</td>\n      <td>Baby Driver</td>\n      <td>All you need is one killer track.</td>\n      <td>2017-06-28</td>\n      <td>Action|Crime</td>\n      <td>NaN</td>\n      <td>en</td>\n      <td>34.0</td>\n      <td>224.511319</td>\n      <td>Big Talk Productions|TriStar Pictures|Media Ri...</td>\n      <td>...</td>\n      <td>7.2</td>\n      <td>228.032744</td>\n      <td>113.0</td>\n      <td>After being coerced into working for a crime b...</td>\n      <td>English</td>\n      <td>&lt;img src='http://image.tmdb.org/t/p/w185//rmnQ...</td>\n      <td>Ansel Elgort|Lily James|Kevin Spacey|Jamie Fox...</td>\n      <td>56</td>\n      <td>183</td>\n      <td>Edgar Wright</td>\n    </tr>\n    <tr>\n      <th>24187</th>\n      <td>177572</td>\n      <td>Big Hero 6</td>\n      <td>From the creators of Wreck-it Ralph and Frozen</td>\n      <td>2014-10-24</td>\n      <td>Adventure|Family|Animation|Action|Comedy</td>\n      <td>NaN</td>\n      <td>en</td>\n      <td>165.0</td>\n      <td>652.105443</td>\n      <td>Walt Disney Pictures|Walt Disney Animation Stu...</td>\n      <td>...</td>\n      <td>7.8</td>\n      <td>213.849907</td>\n      <td>102.0</td>\n      <td>The special bond that develops between plus-si...</td>\n      <td>English</td>\n      <td>&lt;img src='http://image.tmdb.org/t/p/w185//xozr...</td>\n      <td>Scott Adsit|Ryan Potter|Daniel Henney|T.J. Mil...</td>\n      <td>46</td>\n      <td>39</td>\n      <td>Chris Williams</td>\n    </tr>\n  </tbody>\n</table>\n<p>5 rows × 22 columns</p>\n</div>"
     },
     "execution_count": 156,
     "metadata": {},
     "output_type": "execute_result"
    }
   ],
   "source": [
    "df.sort_values(by='popularity', ascending= False).head(5)"
   ]
  },
  {
   "cell_type": "markdown",
   "metadata": {},
   "source": [
    "## Find your next Movie"
   ]
  },
  {
   "cell_type": "markdown",
   "metadata": {},
   "source": [
    "3. __Filter__ the Dataset for movies that meet the following conditions:"
   ]
  },
  {
   "cell_type": "markdown",
   "metadata": {},
   "source": [
    "__Search 1: Science Fiction Action Movie with Bruce Willis (sorted from high to low Rating)__"
   ]
  },
  {
   "cell_type": "code",
   "outputs": [
    {
     "data": {
      "text/plain": "           id                  title  \\\n19218   59967                 Looper   \n1448       18      The Fifth Element   \n20333   72559  G.I. Joe: Retaliation   \n1786       95             Armageddon   \n31         63         Twelve Monkeys   \n3836     9741            Unbreakable   \n14135   19959             Surrogates   \n27619  307663                   Vice   \n11489    5172   The Astronaut Farmer   \n499     31586                  North   \n\n                                                 tagline release_date  \\\n19218        Hunted By Your Future, Haunted By Your Past   2012-09-26   \n1448                      There is no future without it.   1997-05-07   \n20333                                                NaN   2013-03-26   \n1786   The Earth's Darkest Day Will Be Man's Finest Hour   1998-07-01   \n31                                The future is history.   1995-12-29   \n3836          Some things are only revealed by accident.   2000-11-13   \n14135  How do you save humanity when the only thing t...   2009-09-24   \n27619                     Where the future is your past.   2015-01-16   \n11489                                                NaN   2006-10-15   \n499    A family comedy that appeals to the child in e...   1994-07-22   \n\n                                                  genres  \\\n19218                    Action|Thriller|Science Fiction   \n1448   Adventure|Fantasy|Action|Thriller|Science Fiction   \n20333          Adventure|Action|Science Fiction|Thriller   \n1786           Action|Thriller|Science Fiction|Adventure   \n31                      Science Fiction|Thriller|Mystery   \n3836                      Science Fiction|Thriller|Drama   \n14135                    Action|Science Fiction|Thriller   \n27619          Thriller|Science Fiction|Action|Adventure   \n11489             Adventure|Comedy|Drama|Science Fiction   \n499          Comedy|Drama|Family|Fantasy|Science Fiction   \n\n                   belongs_to_collection original_language  budget_musd  \\\n19218                                NaN                en         30.0   \n1448                                 NaN                en         90.0   \n20333  G.I. Joe (Live-Action) Collection                en        130.0   \n1786                                 NaN                en        140.0   \n31                                   NaN                en         29.5   \n3836                                 NaN                en         75.0   \n14135                                NaN                en         80.0   \n27619                                NaN                en         10.0   \n11489                                NaN                en         13.0   \n499                                  NaN                en         40.0   \n\n       revenue_musd                               production_companies  ...  \\\n19218     47.042000  Endgame Entertainment|FilmDistrict|DMG Enterta...  ...   \n1448     263.920180                          Columbia Pictures|Gaumont  ...   \n20333    371.876278  Paramount Pictures|Di Bonaventura Pictures|Has...  ...   \n1786     553.799566  Jerry Bruckheimer Films|Touchstone Pictures|Va...  ...   \n31       168.840000    Universal Pictures|Atlas Entertainment|Classico  ...   \n3836     248.118121  Limited Edition Productions Inc.|Touchstone Pi...  ...   \n14135    122.444772  Touchstone Pictures|Mandeville Films|Wintergre...  ...   \n27619           NaN  Grindstone Entertainment Group|K5 Internationa...  ...   \n11489     11.130889                       Polish Brothers Construction  ...   \n499             NaN  Columbia Pictures|New Line Cinema|Castle Rock ...  ...   \n\n      vote_average  popularity  runtime  \\\n19218          6.6   12.727269    118.0   \n1448           7.3   24.305260    126.0   \n20333          5.4   10.560608    110.0   \n1786           6.5   13.235112    151.0   \n31             7.4   12.297305    129.0   \n3836           6.9   14.678550    106.0   \n14135          5.9   16.211937     89.0   \n27619          4.1   19.236571     96.0   \n11489          6.2    6.862146    104.0   \n499            4.8   15.534707     87.0   \n\n                                                overview  \\\n19218  In the futuristic action thriller Looper, time...   \n1448   In 2257, a taxi driver is unintentionally give...   \n20333  Framed for crimes against the country, the G.I...   \n1786   When an asteroid threatens to collide with Ear...   \n31     In the year 2035, convict James Cole reluctant...   \n3836   An ordinary man makes an extraordinary discove...   \n14135  Set in a futuristic world where humans live in...   \n27619  Julian Michaels has designed the ultimate reso...   \n11489  Texan Charles Farmer left the Air Force as a y...   \n499    Eleven-year-old North has had it with his pare...   \n\n              spoken_languages  \\\n19218                  English   \n1448   English|svenska|Deutsch   \n20333                  English   \n1786           English|Pусский   \n31            English|Français   \n3836                   English   \n14135         English|Français   \n27619                  English   \n11489                  English   \n499                    English   \n\n                                             poster_path  \\\n19218  <img src='http://image.tmdb.org/t/p/w185//sNjL...   \n1448   <img src='http://image.tmdb.org/t/p/w185//fPtl...   \n20333  <img src='http://image.tmdb.org/t/p/w185//3rWI...   \n1786   <img src='http://image.tmdb.org/t/p/w185//fMtO...   \n31     <img src='http://image.tmdb.org/t/p/w185//2F9K...   \n3836   <img src='http://image.tmdb.org/t/p/w185//kXkV...   \n14135  <img src='http://image.tmdb.org/t/p/w185//v3Z0...   \n27619  <img src='http://image.tmdb.org/t/p/w185//nPqN...   \n11489  <img src='http://image.tmdb.org/t/p/w185//19uG...   \n499    <img src='http://image.tmdb.org/t/p/w185//qXTw...   \n\n                                                    cast cast_size crew_size  \\\n19218  Joseph Gordon-Levitt|Bruce Willis|Emily Blunt|...        34        42   \n1448   Bruce Willis|Gary Oldman|Ian Holm|Milla Jovovi...       114       134   \n20333  Dwayne Johnson|D.J. Cotrona|Adrianne Palicki|B...        20        28   \n1786   Bruce Willis|Billy Bob Thornton|Ben Affleck|Li...        67       108   \n31     Bruce Willis|Madeleine Stowe|Brad Pitt|Christo...        65       151   \n3836   Bruce Willis|Samuel L. Jackson|Robin Wright|Sp...        40        56   \n14135  Bruce Willis|Radha Mitchell|Rosamund Pike|Jame...        44        25   \n27619  Ambyr Childers|Thomas Jane|Bryan Greenberg|Bru...        51        56   \n11489  Billy Bob Thornton|Virginia Madsen|Max Thierio...        60        16   \n499    Elijah Wood|Jason Alexander|Julia Louis-Dreyfu...        56        18   \n\n                 director  \n19218        Rian Johnson  \n1448           Luc Besson  \n20333          Jon M. Chu  \n1786          Michael Bay  \n31          Terry Gilliam  \n3836   M. Night Shyamalan  \n14135     Jonathan Mostow  \n27619      Brian A Miller  \n11489      Michael Polish  \n499            Rob Reiner  \n\n[10 rows x 22 columns]",
      "text/html": "<div>\n<style scoped>\n    .dataframe tbody tr th:only-of-type {\n        vertical-align: middle;\n    }\n\n    .dataframe tbody tr th {\n        vertical-align: top;\n    }\n\n    .dataframe thead th {\n        text-align: right;\n    }\n</style>\n<table border=\"1\" class=\"dataframe\">\n  <thead>\n    <tr style=\"text-align: right;\">\n      <th></th>\n      <th>id</th>\n      <th>title</th>\n      <th>tagline</th>\n      <th>release_date</th>\n      <th>genres</th>\n      <th>belongs_to_collection</th>\n      <th>original_language</th>\n      <th>budget_musd</th>\n      <th>revenue_musd</th>\n      <th>production_companies</th>\n      <th>...</th>\n      <th>vote_average</th>\n      <th>popularity</th>\n      <th>runtime</th>\n      <th>overview</th>\n      <th>spoken_languages</th>\n      <th>poster_path</th>\n      <th>cast</th>\n      <th>cast_size</th>\n      <th>crew_size</th>\n      <th>director</th>\n    </tr>\n  </thead>\n  <tbody>\n    <tr>\n      <th>19218</th>\n      <td>59967</td>\n      <td>Looper</td>\n      <td>Hunted By Your Future, Haunted By Your Past</td>\n      <td>2012-09-26</td>\n      <td>Action|Thriller|Science Fiction</td>\n      <td>NaN</td>\n      <td>en</td>\n      <td>30.0</td>\n      <td>47.042000</td>\n      <td>Endgame Entertainment|FilmDistrict|DMG Enterta...</td>\n      <td>...</td>\n      <td>6.6</td>\n      <td>12.727269</td>\n      <td>118.0</td>\n      <td>In the futuristic action thriller Looper, time...</td>\n      <td>English</td>\n      <td>&lt;img src='http://image.tmdb.org/t/p/w185//sNjL...</td>\n      <td>Joseph Gordon-Levitt|Bruce Willis|Emily Blunt|...</td>\n      <td>34</td>\n      <td>42</td>\n      <td>Rian Johnson</td>\n    </tr>\n    <tr>\n      <th>1448</th>\n      <td>18</td>\n      <td>The Fifth Element</td>\n      <td>There is no future without it.</td>\n      <td>1997-05-07</td>\n      <td>Adventure|Fantasy|Action|Thriller|Science Fiction</td>\n      <td>NaN</td>\n      <td>en</td>\n      <td>90.0</td>\n      <td>263.920180</td>\n      <td>Columbia Pictures|Gaumont</td>\n      <td>...</td>\n      <td>7.3</td>\n      <td>24.305260</td>\n      <td>126.0</td>\n      <td>In 2257, a taxi driver is unintentionally give...</td>\n      <td>English|svenska|Deutsch</td>\n      <td>&lt;img src='http://image.tmdb.org/t/p/w185//fPtl...</td>\n      <td>Bruce Willis|Gary Oldman|Ian Holm|Milla Jovovi...</td>\n      <td>114</td>\n      <td>134</td>\n      <td>Luc Besson</td>\n    </tr>\n    <tr>\n      <th>20333</th>\n      <td>72559</td>\n      <td>G.I. Joe: Retaliation</td>\n      <td>NaN</td>\n      <td>2013-03-26</td>\n      <td>Adventure|Action|Science Fiction|Thriller</td>\n      <td>G.I. Joe (Live-Action) Collection</td>\n      <td>en</td>\n      <td>130.0</td>\n      <td>371.876278</td>\n      <td>Paramount Pictures|Di Bonaventura Pictures|Has...</td>\n      <td>...</td>\n      <td>5.4</td>\n      <td>10.560608</td>\n      <td>110.0</td>\n      <td>Framed for crimes against the country, the G.I...</td>\n      <td>English</td>\n      <td>&lt;img src='http://image.tmdb.org/t/p/w185//3rWI...</td>\n      <td>Dwayne Johnson|D.J. Cotrona|Adrianne Palicki|B...</td>\n      <td>20</td>\n      <td>28</td>\n      <td>Jon M. Chu</td>\n    </tr>\n    <tr>\n      <th>1786</th>\n      <td>95</td>\n      <td>Armageddon</td>\n      <td>The Earth's Darkest Day Will Be Man's Finest Hour</td>\n      <td>1998-07-01</td>\n      <td>Action|Thriller|Science Fiction|Adventure</td>\n      <td>NaN</td>\n      <td>en</td>\n      <td>140.0</td>\n      <td>553.799566</td>\n      <td>Jerry Bruckheimer Films|Touchstone Pictures|Va...</td>\n      <td>...</td>\n      <td>6.5</td>\n      <td>13.235112</td>\n      <td>151.0</td>\n      <td>When an asteroid threatens to collide with Ear...</td>\n      <td>English|Pусский</td>\n      <td>&lt;img src='http://image.tmdb.org/t/p/w185//fMtO...</td>\n      <td>Bruce Willis|Billy Bob Thornton|Ben Affleck|Li...</td>\n      <td>67</td>\n      <td>108</td>\n      <td>Michael Bay</td>\n    </tr>\n    <tr>\n      <th>31</th>\n      <td>63</td>\n      <td>Twelve Monkeys</td>\n      <td>The future is history.</td>\n      <td>1995-12-29</td>\n      <td>Science Fiction|Thriller|Mystery</td>\n      <td>NaN</td>\n      <td>en</td>\n      <td>29.5</td>\n      <td>168.840000</td>\n      <td>Universal Pictures|Atlas Entertainment|Classico</td>\n      <td>...</td>\n      <td>7.4</td>\n      <td>12.297305</td>\n      <td>129.0</td>\n      <td>In the year 2035, convict James Cole reluctant...</td>\n      <td>English|Français</td>\n      <td>&lt;img src='http://image.tmdb.org/t/p/w185//2F9K...</td>\n      <td>Bruce Willis|Madeleine Stowe|Brad Pitt|Christo...</td>\n      <td>65</td>\n      <td>151</td>\n      <td>Terry Gilliam</td>\n    </tr>\n    <tr>\n      <th>3836</th>\n      <td>9741</td>\n      <td>Unbreakable</td>\n      <td>Some things are only revealed by accident.</td>\n      <td>2000-11-13</td>\n      <td>Science Fiction|Thriller|Drama</td>\n      <td>NaN</td>\n      <td>en</td>\n      <td>75.0</td>\n      <td>248.118121</td>\n      <td>Limited Edition Productions Inc.|Touchstone Pi...</td>\n      <td>...</td>\n      <td>6.9</td>\n      <td>14.678550</td>\n      <td>106.0</td>\n      <td>An ordinary man makes an extraordinary discove...</td>\n      <td>English</td>\n      <td>&lt;img src='http://image.tmdb.org/t/p/w185//kXkV...</td>\n      <td>Bruce Willis|Samuel L. Jackson|Robin Wright|Sp...</td>\n      <td>40</td>\n      <td>56</td>\n      <td>M. Night Shyamalan</td>\n    </tr>\n    <tr>\n      <th>14135</th>\n      <td>19959</td>\n      <td>Surrogates</td>\n      <td>How do you save humanity when the only thing t...</td>\n      <td>2009-09-24</td>\n      <td>Action|Science Fiction|Thriller</td>\n      <td>NaN</td>\n      <td>en</td>\n      <td>80.0</td>\n      <td>122.444772</td>\n      <td>Touchstone Pictures|Mandeville Films|Wintergre...</td>\n      <td>...</td>\n      <td>5.9</td>\n      <td>16.211937</td>\n      <td>89.0</td>\n      <td>Set in a futuristic world where humans live in...</td>\n      <td>English|Français</td>\n      <td>&lt;img src='http://image.tmdb.org/t/p/w185//v3Z0...</td>\n      <td>Bruce Willis|Radha Mitchell|Rosamund Pike|Jame...</td>\n      <td>44</td>\n      <td>25</td>\n      <td>Jonathan Mostow</td>\n    </tr>\n    <tr>\n      <th>27619</th>\n      <td>307663</td>\n      <td>Vice</td>\n      <td>Where the future is your past.</td>\n      <td>2015-01-16</td>\n      <td>Thriller|Science Fiction|Action|Adventure</td>\n      <td>NaN</td>\n      <td>en</td>\n      <td>10.0</td>\n      <td>NaN</td>\n      <td>Grindstone Entertainment Group|K5 Internationa...</td>\n      <td>...</td>\n      <td>4.1</td>\n      <td>19.236571</td>\n      <td>96.0</td>\n      <td>Julian Michaels has designed the ultimate reso...</td>\n      <td>English</td>\n      <td>&lt;img src='http://image.tmdb.org/t/p/w185//nPqN...</td>\n      <td>Ambyr Childers|Thomas Jane|Bryan Greenberg|Bru...</td>\n      <td>51</td>\n      <td>56</td>\n      <td>Brian A Miller</td>\n    </tr>\n    <tr>\n      <th>11489</th>\n      <td>5172</td>\n      <td>The Astronaut Farmer</td>\n      <td>NaN</td>\n      <td>2006-10-15</td>\n      <td>Adventure|Comedy|Drama|Science Fiction</td>\n      <td>NaN</td>\n      <td>en</td>\n      <td>13.0</td>\n      <td>11.130889</td>\n      <td>Polish Brothers Construction</td>\n      <td>...</td>\n      <td>6.2</td>\n      <td>6.862146</td>\n      <td>104.0</td>\n      <td>Texan Charles Farmer left the Air Force as a y...</td>\n      <td>English</td>\n      <td>&lt;img src='http://image.tmdb.org/t/p/w185//19uG...</td>\n      <td>Billy Bob Thornton|Virginia Madsen|Max Thierio...</td>\n      <td>60</td>\n      <td>16</td>\n      <td>Michael Polish</td>\n    </tr>\n    <tr>\n      <th>499</th>\n      <td>31586</td>\n      <td>North</td>\n      <td>A family comedy that appeals to the child in e...</td>\n      <td>1994-07-22</td>\n      <td>Comedy|Drama|Family|Fantasy|Science Fiction</td>\n      <td>NaN</td>\n      <td>en</td>\n      <td>40.0</td>\n      <td>NaN</td>\n      <td>Columbia Pictures|New Line Cinema|Castle Rock ...</td>\n      <td>...</td>\n      <td>4.8</td>\n      <td>15.534707</td>\n      <td>87.0</td>\n      <td>Eleven-year-old North has had it with his pare...</td>\n      <td>English</td>\n      <td>&lt;img src='http://image.tmdb.org/t/p/w185//qXTw...</td>\n      <td>Elijah Wood|Jason Alexander|Julia Louis-Dreyfu...</td>\n      <td>56</td>\n      <td>18</td>\n      <td>Rob Reiner</td>\n    </tr>\n  </tbody>\n</table>\n<p>10 rows × 22 columns</p>\n</div>"
     },
     "execution_count": 157,
     "metadata": {},
     "output_type": "execute_result"
    }
   ],
   "source": [
    "df[df['genres'].str.contains('Science Fiction', na= False) & df['cast'].str.contains\n",
    "    ('Bruce Willis', na= False)].sort_values(by='vote_count', ascending= False)"
   ],
   "metadata": {
    "collapsed": false,
    "ExecuteTime": {
     "end_time": "2024-04-23T19:05:37.698762800Z",
     "start_time": "2024-04-23T19:05:37.380568900Z"
    }
   },
   "execution_count": 157
  },
  {
   "cell_type": "markdown",
   "metadata": {},
   "source": [
    "__Search 2: Movies with Uma Thurman and directed by Quentin Tarantino (sorted from short to long runtime)__"
   ]
  },
  {
   "cell_type": "code",
   "outputs": [
    {
     "data": {
      "text/plain": "       id              title  \\\n291   680       Pulp Fiction   \n7208  393  Kill Bill: Vol. 2   \n6667   24  Kill Bill: Vol. 1   \n\n                                                tagline release_date  \\\n291   Just because you are a character doesn't mean ...   1994-09-10   \n7208               The bride is back for the final cut.   2004-04-16   \n6667                                   Go for the kill.   2003-10-10   \n\n                     genres belongs_to_collection original_language  \\\n291          Thriller|Crime                   NaN                en   \n7208  Action|Crime|Thriller  Kill Bill Collection                en   \n6667           Action|Crime  Kill Bill Collection                en   \n\n      budget_musd  revenue_musd                          production_companies  \\\n291           8.0    213.928762       Miramax Films|A Band Apart|Jersey Films   \n7208         30.0    152.159461  Miramax Films|A Band Apart|Super Cool ManChu   \n6667         30.0    180.949000  Miramax Films|A Band Apart|Super Cool ManChu   \n\n      ... vote_average  popularity  runtime  \\\n291   ...          8.3  140.950236    154.0   \n7208  ...          7.7   21.533072    136.0   \n6667  ...          7.7   25.261865    111.0   \n\n                                               overview  \\\n291   A burger-loving hit man, his philosophical par...   \n7208  The Bride unwaveringly continues on her roarin...   \n6667  An assassin is shot at the altar by her ruthle...   \n\n                   spoken_languages  \\\n291        English|Español|Français   \n7208  English|普通话|Español|广州话 / 廣州話   \n6667           English|日本語|Français   \n\n                                            poster_path  \\\n291   <img src='http://image.tmdb.org/t/p/w185//d5iI...   \n7208  <img src='http://image.tmdb.org/t/p/w185//2yhg...   \n6667  <img src='http://image.tmdb.org/t/p/w185//v7Ta...   \n\n                                                   cast cast_size crew_size  \\\n291   John Travolta|Samuel L. Jackson|Uma Thurman|Br...        54        87   \n7208  Uma Thurman|David Carradine|Daryl Hannah|Micha...        27       130   \n6667  Uma Thurman|Lucy Liu|Vivica A. Fox|Daryl Hanna...        36       161   \n\n               director  \n291   Quentin Tarantino  \n7208  Quentin Tarantino  \n6667  Quentin Tarantino  \n\n[3 rows x 22 columns]",
      "text/html": "<div>\n<style scoped>\n    .dataframe tbody tr th:only-of-type {\n        vertical-align: middle;\n    }\n\n    .dataframe tbody tr th {\n        vertical-align: top;\n    }\n\n    .dataframe thead th {\n        text-align: right;\n    }\n</style>\n<table border=\"1\" class=\"dataframe\">\n  <thead>\n    <tr style=\"text-align: right;\">\n      <th></th>\n      <th>id</th>\n      <th>title</th>\n      <th>tagline</th>\n      <th>release_date</th>\n      <th>genres</th>\n      <th>belongs_to_collection</th>\n      <th>original_language</th>\n      <th>budget_musd</th>\n      <th>revenue_musd</th>\n      <th>production_companies</th>\n      <th>...</th>\n      <th>vote_average</th>\n      <th>popularity</th>\n      <th>runtime</th>\n      <th>overview</th>\n      <th>spoken_languages</th>\n      <th>poster_path</th>\n      <th>cast</th>\n      <th>cast_size</th>\n      <th>crew_size</th>\n      <th>director</th>\n    </tr>\n  </thead>\n  <tbody>\n    <tr>\n      <th>291</th>\n      <td>680</td>\n      <td>Pulp Fiction</td>\n      <td>Just because you are a character doesn't mean ...</td>\n      <td>1994-09-10</td>\n      <td>Thriller|Crime</td>\n      <td>NaN</td>\n      <td>en</td>\n      <td>8.0</td>\n      <td>213.928762</td>\n      <td>Miramax Films|A Band Apart|Jersey Films</td>\n      <td>...</td>\n      <td>8.3</td>\n      <td>140.950236</td>\n      <td>154.0</td>\n      <td>A burger-loving hit man, his philosophical par...</td>\n      <td>English|Español|Français</td>\n      <td>&lt;img src='http://image.tmdb.org/t/p/w185//d5iI...</td>\n      <td>John Travolta|Samuel L. Jackson|Uma Thurman|Br...</td>\n      <td>54</td>\n      <td>87</td>\n      <td>Quentin Tarantino</td>\n    </tr>\n    <tr>\n      <th>7208</th>\n      <td>393</td>\n      <td>Kill Bill: Vol. 2</td>\n      <td>The bride is back for the final cut.</td>\n      <td>2004-04-16</td>\n      <td>Action|Crime|Thriller</td>\n      <td>Kill Bill Collection</td>\n      <td>en</td>\n      <td>30.0</td>\n      <td>152.159461</td>\n      <td>Miramax Films|A Band Apart|Super Cool ManChu</td>\n      <td>...</td>\n      <td>7.7</td>\n      <td>21.533072</td>\n      <td>136.0</td>\n      <td>The Bride unwaveringly continues on her roarin...</td>\n      <td>English|普通话|Español|广州话 / 廣州話</td>\n      <td>&lt;img src='http://image.tmdb.org/t/p/w185//2yhg...</td>\n      <td>Uma Thurman|David Carradine|Daryl Hannah|Micha...</td>\n      <td>27</td>\n      <td>130</td>\n      <td>Quentin Tarantino</td>\n    </tr>\n    <tr>\n      <th>6667</th>\n      <td>24</td>\n      <td>Kill Bill: Vol. 1</td>\n      <td>Go for the kill.</td>\n      <td>2003-10-10</td>\n      <td>Action|Crime</td>\n      <td>Kill Bill Collection</td>\n      <td>en</td>\n      <td>30.0</td>\n      <td>180.949000</td>\n      <td>Miramax Films|A Band Apart|Super Cool ManChu</td>\n      <td>...</td>\n      <td>7.7</td>\n      <td>25.261865</td>\n      <td>111.0</td>\n      <td>An assassin is shot at the altar by her ruthle...</td>\n      <td>English|日本語|Français</td>\n      <td>&lt;img src='http://image.tmdb.org/t/p/w185//v7Ta...</td>\n      <td>Uma Thurman|Lucy Liu|Vivica A. Fox|Daryl Hanna...</td>\n      <td>36</td>\n      <td>161</td>\n      <td>Quentin Tarantino</td>\n    </tr>\n  </tbody>\n</table>\n<p>3 rows × 22 columns</p>\n</div>"
     },
     "execution_count": 158,
     "metadata": {},
     "output_type": "execute_result"
    }
   ],
   "source": [
    "df[df['cast'].str.contains('Uma Thurman', na= False) & df['director'].str.contains\n",
    "    ('Quentin Tarantino', na= False)].sort_values(by='runtime', ascending=False)"
   ],
   "metadata": {
    "collapsed": false,
    "ExecuteTime": {
     "end_time": "2024-04-23T19:05:37.730700700Z",
     "start_time": "2024-04-23T19:05:37.434577600Z"
    }
   },
   "execution_count": 158
  },
  {
   "cell_type": "markdown",
   "metadata": {},
   "source": [
    "__Search 3: Most Successful Pixar Studio Movies between 2010 and 2015 (sorted from high to low Revenue)__"
   ]
  },
  {
   "cell_type": "code",
   "outputs": [
    {
     "data": {
      "text/plain": "           id                       title  \\\n15236   10193                 Toy Story 3   \n16392   40619                 Day & Night   \n17220   49013                      Cars 2   \n18900   62177                       Brave   \n20888   62211         Monsters University   \n21694  200481           The Blue Umbrella   \n21697  213121        Toy Story of Terror!   \n22489   83564                     La luna   \n24252   77887           Hawaiian Vacation   \n24254   82424                   Small Fry   \n25515  130925             Partysaurus Rex   \n25516  141423        The Legend of Mor'du   \n25517  256835  Toy Story That Time Forgot   \n29957  150540                  Inside Out   \n30388  105864           The Good Dinosaur   \n31803  286192                        Lava   \n34560  345637         Sanjay's Super Team   \n40259  145316                   Air Mater   \n40675  355338         Riley's First Date?   \n\n                                                 tagline release_date  \\\n15236                           No toy gets left behind.   2010-06-16   \n16392                                                NaN   2010-06-17   \n17220                                           Ka-ciao!   2011-06-11   \n18900                                  Change your fate.   2012-06-21   \n20888                    School never looked this scary.   2013-06-20   \n21694                                                NaN   2013-02-12   \n21697                          One toy gets left behind!   2013-10-15   \n22489  A young boy discovers his family's most unusua...   2011-01-01   \n24252                                                NaN   2011-06-16   \n24254                                                NaN   2011-11-23   \n25515                        An Electro Sudsy Good Time!   2012-09-14   \n25516                                                NaN   2012-01-01   \n25517                                                NaN   2014-12-02   \n29957           Meet the little voices inside your head.   2015-06-09   \n30388                      Little Arms With Big Attitude   2015-11-14   \n31803                                                NaN   2015-06-21   \n34560                                                NaN   2015-11-25   \n40259                                                NaN   2011-08-04   \n40675                                                NaN   2015-11-03   \n\n                                                 genres  \\\n15236                           Animation|Family|Comedy   \n16392                                  Animation|Family   \n17220                 Animation|Family|Adventure|Comedy   \n18900  Animation|Adventure|Comedy|Family|Action|Fantasy   \n20888                                  Animation|Family   \n21694                                 Animation|Romance   \n21697                           Animation|Comedy|Family   \n22489                                  Animation|Family   \n24252                                  Animation|Family   \n24254                                  Animation|Family   \n25515                   Animation|Comedy|Family|Fantasy   \n25516                                  Animation|Family   \n25517                                  Animation|Family   \n29957                     Drama|Comedy|Animation|Family   \n30388                        Adventure|Animation|Family   \n31803                                  Animation|Family   \n34560                                         Animation   \n40259                                  Animation|Family   \n40675                                  Animation|Family   \n\n           belongs_to_collection original_language  budget_musd  revenue_musd  \\\n15236       Toy Story Collection                en        200.0   1066.969703   \n16392                        NaN                en          NaN           NaN   \n17220            Cars Collection                en        200.0    559.852396   \n18900                        NaN                en        185.0    538.983207   \n20888  Monsters, Inc. Collection                en        200.0    743.559607   \n21694                        NaN                en          NaN           NaN   \n21697                        NaN                en          NaN           NaN   \n22489                        NaN                en          NaN           NaN   \n24252                        NaN                en          NaN           NaN   \n24254                        NaN                en          NaN           NaN   \n25515                        NaN                en          NaN           NaN   \n25516                        NaN                en          NaN           NaN   \n25517                        NaN                en          NaN           NaN   \n29957                        NaN                en        175.0    857.611174   \n30388                        NaN                en        175.0    331.926147   \n31803                        NaN                en          NaN           NaN   \n34560                        NaN                en          NaN           NaN   \n40259                        NaN                en          NaN           NaN   \n40675                        NaN                en          NaN           NaN   \n\n                               production_companies  ... vote_average  \\\n15236  Walt Disney Pictures|Pixar Animation Studios  ...          7.6   \n16392  Walt Disney Pictures|Pixar Animation Studios  ...          7.6   \n17220  Walt Disney Pictures|Pixar Animation Studios  ...          5.8   \n18900  Walt Disney Pictures|Pixar Animation Studios  ...          6.7   \n20888  Walt Disney Pictures|Pixar Animation Studios  ...          7.0   \n21694                       Pixar Animation Studios  ...          7.8   \n21697  Walt Disney Pictures|Pixar Animation Studios  ...          7.3   \n22489                       Pixar Animation Studios  ...          8.0   \n24252                       Pixar Animation Studios  ...          6.9   \n24254                       Pixar Animation Studios  ...          6.8   \n25515  Walt Disney Pictures|Pixar Animation Studios  ...          7.4   \n25516                       Pixar Animation Studios  ...          5.9   \n25517                       Pixar Animation Studios  ...          6.8   \n29957  Walt Disney Pictures|Pixar Animation Studios  ...          7.9   \n30388  Walt Disney Pictures|Pixar Animation Studios  ...          6.6   \n31803                       Pixar Animation Studios  ...          7.4   \n34560                       Pixar Animation Studios  ...          6.9   \n40259                       Pixar Animation Studios  ...          5.8   \n40675  Walt Disney Pictures|Pixar Animation Studios  ...          7.2   \n\n       popularity  runtime                                           overview  \\\n15236   16.966470    103.0  Woody, Buzz, and the rest of Andy's toys haven...   \n16392    6.345512      6.0  When Day, a sunny fellow, encounters Night, a ...   \n17220   13.693002    106.0  Star race car Lightning McQueen and his pal Ma...   \n18900   15.876341     93.0  Brave is set in the mystical Scottish Highland...   \n20888   16.267502    104.0  A look at the relationship between Mike and Su...   \n21694    6.568023      7.0  It is just another evening commute until the r...   \n21697    0.512025     22.0  What starts out as a fun road trip for the Toy...   \n22489    7.331398      7.0  A young boy comes of age in the most peculiar ...   \n24252   11.315849      6.0  The toys throw Ken and Barbie a Hawaiian vacat...   \n24254    9.858179      7.0  A fast food restaurant mini variant of Buzz fo...   \n25515    6.066171      7.0  When Rex finds himself left behind in the bath...   \n25516    3.785848      6.0  The witch from Pixar's Brave uses magical illu...   \n25517    8.609555     22.0  During a post-Christmas play date, the gang fi...   \n29957   23.985587     94.0  Growing up can be a bumpy road, and it's no ex...   \n30388   12.319595     93.0  An epic journey into the world of dinosaurs wh...   \n31803    5.761878      7.0  The story follows the love story of two volcan...   \n34560    4.335730      7.0  Sanjay's Super Team follows the daydream of a ...   \n40259    8.844424      6.0  Mater's decision to fly lands him accidentally...   \n40675    6.051285      5.0  Riley, now 12, is hanging out at home with her...   \n\n                    spoken_languages  \\\n15236                English|Español   \n16392                            NaN   \n17220  English|日本語|Italiano|Français   \n18900                        English   \n20888                        English   \n21694                    No Language   \n21697                        English   \n22489                        English   \n24252                        English   \n24254                        English   \n25515                        English   \n25516                        English   \n25517                        English   \n29957                        English   \n30388                        English   \n31803                        English   \n34560                        English   \n40259                        English   \n40675                        English   \n\n                                             poster_path  \\\n15236  <img src='http://image.tmdb.org/t/p/w185//amY0...   \n16392  <img src='http://image.tmdb.org/t/p/w185//eQ1Q...   \n17220  <img src='http://image.tmdb.org/t/p/w185//okIz...   \n18900  <img src='http://image.tmdb.org/t/p/w185//8l0p...   \n20888  <img src='http://image.tmdb.org/t/p/w185//tyHH...   \n21694  <img src='http://image.tmdb.org/t/p/w185//iSWV...   \n21697  <img src='http://image.tmdb.org/t/p/w185//aNDr...   \n22489  <img src='http://image.tmdb.org/t/p/w185//iS6D...   \n24252  <img src='http://image.tmdb.org/t/p/w185//tByW...   \n24254  <img src='http://image.tmdb.org/t/p/w185//z096...   \n25515  <img src='http://image.tmdb.org/t/p/w185//ylj9...   \n25516  <img src='http://image.tmdb.org/t/p/w185//8FKR...   \n25517  <img src='http://image.tmdb.org/t/p/w185//jqQP...   \n29957  <img src='http://image.tmdb.org/t/p/w185//lRHE...   \n30388  <img src='http://image.tmdb.org/t/p/w185//8RSk...   \n31803  <img src='http://image.tmdb.org/t/p/w185//blZS...   \n34560  <img src='http://image.tmdb.org/t/p/w185//mShc...   \n40259  <img src='http://image.tmdb.org/t/p/w185//jDwg...   \n40675  <img src='http://image.tmdb.org/t/p/w185//pyry...   \n\n                                                    cast cast_size crew_size  \\\n15236  Tom Hanks|Tim Allen|Ned Beatty|Joan Cusack|Mic...        45        38   \n16392                                         Wayne Dyer         1         1   \n17220  Owen Wilson|Larry the Cable Guy|Michael Caine|...        47        40   \n18900  Kelly Macdonald|Billy Connolly|Emma Thompson|J...        15        44   \n20888  Billy Crystal|John Goodman|Steve Buscemi|Helen...        24        13   \n21694                                        Sarah Jaffe         1         1   \n21697  Tom Hanks|Tim Allen|Kristen Schaal|Carl Weathe...         8         8   \n22489          Krista Sheffler|Tony Fucile|Phil Sheridan         3         9   \n24252  Tim Allen|Jodi Benson|Blake Clark|Tom Hanks|Jo...        21         8   \n24254  Lori Alan|Carlos Alazraqui|Tim Allen|Bob Berge...        20         6   \n25515  Tom Hanks|Tim Allen|Wallace Shawn|Corey Burton...        28        13   \n25516          Julie Walters|Steve Purcell|Callum O'Neil         3         7   \n25517  Tom Hanks|Tim Allen|Joan Cusack|Kristen Schaal...         8         4   \n29957  Amy Poehler|Phyllis Smith|Richard Kind|Bill Ha...        65        50   \n30388  Raymond Ochoa|Jack Bright|Jeffrey Wright|Franc...        19        11   \n31803                    Napua Greig|Kuana Torres Kahele         2        19   \n34560                                                NaN         0         4   \n40259  Larry the Cable Guy|Stacy Keach|Keith Ferguson...        12         4   \n40675  Amy Poehler|Phyllis Smith|Bill Hader|Lewis Bla...        20         4   \n\n                director  \n15236        Lee Unkrich  \n16392       Teddy Newton  \n17220      John Lasseter  \n18900     Brenda Chapman  \n20888        Dan Scanlon  \n21694     Saschka Unseld  \n21697      Angus MacLane  \n22489    Enrico Casarosa  \n24252      Gary Rydstrom  \n24254      Angus MacLane  \n25515      Mark A. Walsh  \n25516       Brian Larsen  \n25517      Steve Purcell  \n29957        Pete Docter  \n30388         Peter Sohn  \n31803  James Ford Murphy  \n34560       Sanjay Patel  \n40259          Rob Gibbs  \n40675        Josh Cooley  \n\n[19 rows x 22 columns]",
      "text/html": "<div>\n<style scoped>\n    .dataframe tbody tr th:only-of-type {\n        vertical-align: middle;\n    }\n\n    .dataframe tbody tr th {\n        vertical-align: top;\n    }\n\n    .dataframe thead th {\n        text-align: right;\n    }\n</style>\n<table border=\"1\" class=\"dataframe\">\n  <thead>\n    <tr style=\"text-align: right;\">\n      <th></th>\n      <th>id</th>\n      <th>title</th>\n      <th>tagline</th>\n      <th>release_date</th>\n      <th>genres</th>\n      <th>belongs_to_collection</th>\n      <th>original_language</th>\n      <th>budget_musd</th>\n      <th>revenue_musd</th>\n      <th>production_companies</th>\n      <th>...</th>\n      <th>vote_average</th>\n      <th>popularity</th>\n      <th>runtime</th>\n      <th>overview</th>\n      <th>spoken_languages</th>\n      <th>poster_path</th>\n      <th>cast</th>\n      <th>cast_size</th>\n      <th>crew_size</th>\n      <th>director</th>\n    </tr>\n  </thead>\n  <tbody>\n    <tr>\n      <th>15236</th>\n      <td>10193</td>\n      <td>Toy Story 3</td>\n      <td>No toy gets left behind.</td>\n      <td>2010-06-16</td>\n      <td>Animation|Family|Comedy</td>\n      <td>Toy Story Collection</td>\n      <td>en</td>\n      <td>200.0</td>\n      <td>1066.969703</td>\n      <td>Walt Disney Pictures|Pixar Animation Studios</td>\n      <td>...</td>\n      <td>7.6</td>\n      <td>16.966470</td>\n      <td>103.0</td>\n      <td>Woody, Buzz, and the rest of Andy's toys haven...</td>\n      <td>English|Español</td>\n      <td>&lt;img src='http://image.tmdb.org/t/p/w185//amY0...</td>\n      <td>Tom Hanks|Tim Allen|Ned Beatty|Joan Cusack|Mic...</td>\n      <td>45</td>\n      <td>38</td>\n      <td>Lee Unkrich</td>\n    </tr>\n    <tr>\n      <th>16392</th>\n      <td>40619</td>\n      <td>Day &amp; Night</td>\n      <td>NaN</td>\n      <td>2010-06-17</td>\n      <td>Animation|Family</td>\n      <td>NaN</td>\n      <td>en</td>\n      <td>NaN</td>\n      <td>NaN</td>\n      <td>Walt Disney Pictures|Pixar Animation Studios</td>\n      <td>...</td>\n      <td>7.6</td>\n      <td>6.345512</td>\n      <td>6.0</td>\n      <td>When Day, a sunny fellow, encounters Night, a ...</td>\n      <td>NaN</td>\n      <td>&lt;img src='http://image.tmdb.org/t/p/w185//eQ1Q...</td>\n      <td>Wayne Dyer</td>\n      <td>1</td>\n      <td>1</td>\n      <td>Teddy Newton</td>\n    </tr>\n    <tr>\n      <th>17220</th>\n      <td>49013</td>\n      <td>Cars 2</td>\n      <td>Ka-ciao!</td>\n      <td>2011-06-11</td>\n      <td>Animation|Family|Adventure|Comedy</td>\n      <td>Cars Collection</td>\n      <td>en</td>\n      <td>200.0</td>\n      <td>559.852396</td>\n      <td>Walt Disney Pictures|Pixar Animation Studios</td>\n      <td>...</td>\n      <td>5.8</td>\n      <td>13.693002</td>\n      <td>106.0</td>\n      <td>Star race car Lightning McQueen and his pal Ma...</td>\n      <td>English|日本語|Italiano|Français</td>\n      <td>&lt;img src='http://image.tmdb.org/t/p/w185//okIz...</td>\n      <td>Owen Wilson|Larry the Cable Guy|Michael Caine|...</td>\n      <td>47</td>\n      <td>40</td>\n      <td>John Lasseter</td>\n    </tr>\n    <tr>\n      <th>18900</th>\n      <td>62177</td>\n      <td>Brave</td>\n      <td>Change your fate.</td>\n      <td>2012-06-21</td>\n      <td>Animation|Adventure|Comedy|Family|Action|Fantasy</td>\n      <td>NaN</td>\n      <td>en</td>\n      <td>185.0</td>\n      <td>538.983207</td>\n      <td>Walt Disney Pictures|Pixar Animation Studios</td>\n      <td>...</td>\n      <td>6.7</td>\n      <td>15.876341</td>\n      <td>93.0</td>\n      <td>Brave is set in the mystical Scottish Highland...</td>\n      <td>English</td>\n      <td>&lt;img src='http://image.tmdb.org/t/p/w185//8l0p...</td>\n      <td>Kelly Macdonald|Billy Connolly|Emma Thompson|J...</td>\n      <td>15</td>\n      <td>44</td>\n      <td>Brenda Chapman</td>\n    </tr>\n    <tr>\n      <th>20888</th>\n      <td>62211</td>\n      <td>Monsters University</td>\n      <td>School never looked this scary.</td>\n      <td>2013-06-20</td>\n      <td>Animation|Family</td>\n      <td>Monsters, Inc. Collection</td>\n      <td>en</td>\n      <td>200.0</td>\n      <td>743.559607</td>\n      <td>Walt Disney Pictures|Pixar Animation Studios</td>\n      <td>...</td>\n      <td>7.0</td>\n      <td>16.267502</td>\n      <td>104.0</td>\n      <td>A look at the relationship between Mike and Su...</td>\n      <td>English</td>\n      <td>&lt;img src='http://image.tmdb.org/t/p/w185//tyHH...</td>\n      <td>Billy Crystal|John Goodman|Steve Buscemi|Helen...</td>\n      <td>24</td>\n      <td>13</td>\n      <td>Dan Scanlon</td>\n    </tr>\n    <tr>\n      <th>21694</th>\n      <td>200481</td>\n      <td>The Blue Umbrella</td>\n      <td>NaN</td>\n      <td>2013-02-12</td>\n      <td>Animation|Romance</td>\n      <td>NaN</td>\n      <td>en</td>\n      <td>NaN</td>\n      <td>NaN</td>\n      <td>Pixar Animation Studios</td>\n      <td>...</td>\n      <td>7.8</td>\n      <td>6.568023</td>\n      <td>7.0</td>\n      <td>It is just another evening commute until the r...</td>\n      <td>No Language</td>\n      <td>&lt;img src='http://image.tmdb.org/t/p/w185//iSWV...</td>\n      <td>Sarah Jaffe</td>\n      <td>1</td>\n      <td>1</td>\n      <td>Saschka Unseld</td>\n    </tr>\n    <tr>\n      <th>21697</th>\n      <td>213121</td>\n      <td>Toy Story of Terror!</td>\n      <td>One toy gets left behind!</td>\n      <td>2013-10-15</td>\n      <td>Animation|Comedy|Family</td>\n      <td>NaN</td>\n      <td>en</td>\n      <td>NaN</td>\n      <td>NaN</td>\n      <td>Walt Disney Pictures|Pixar Animation Studios</td>\n      <td>...</td>\n      <td>7.3</td>\n      <td>0.512025</td>\n      <td>22.0</td>\n      <td>What starts out as a fun road trip for the Toy...</td>\n      <td>English</td>\n      <td>&lt;img src='http://image.tmdb.org/t/p/w185//aNDr...</td>\n      <td>Tom Hanks|Tim Allen|Kristen Schaal|Carl Weathe...</td>\n      <td>8</td>\n      <td>8</td>\n      <td>Angus MacLane</td>\n    </tr>\n    <tr>\n      <th>22489</th>\n      <td>83564</td>\n      <td>La luna</td>\n      <td>A young boy discovers his family's most unusua...</td>\n      <td>2011-01-01</td>\n      <td>Animation|Family</td>\n      <td>NaN</td>\n      <td>en</td>\n      <td>NaN</td>\n      <td>NaN</td>\n      <td>Pixar Animation Studios</td>\n      <td>...</td>\n      <td>8.0</td>\n      <td>7.331398</td>\n      <td>7.0</td>\n      <td>A young boy comes of age in the most peculiar ...</td>\n      <td>English</td>\n      <td>&lt;img src='http://image.tmdb.org/t/p/w185//iS6D...</td>\n      <td>Krista Sheffler|Tony Fucile|Phil Sheridan</td>\n      <td>3</td>\n      <td>9</td>\n      <td>Enrico Casarosa</td>\n    </tr>\n    <tr>\n      <th>24252</th>\n      <td>77887</td>\n      <td>Hawaiian Vacation</td>\n      <td>NaN</td>\n      <td>2011-06-16</td>\n      <td>Animation|Family</td>\n      <td>NaN</td>\n      <td>en</td>\n      <td>NaN</td>\n      <td>NaN</td>\n      <td>Pixar Animation Studios</td>\n      <td>...</td>\n      <td>6.9</td>\n      <td>11.315849</td>\n      <td>6.0</td>\n      <td>The toys throw Ken and Barbie a Hawaiian vacat...</td>\n      <td>English</td>\n      <td>&lt;img src='http://image.tmdb.org/t/p/w185//tByW...</td>\n      <td>Tim Allen|Jodi Benson|Blake Clark|Tom Hanks|Jo...</td>\n      <td>21</td>\n      <td>8</td>\n      <td>Gary Rydstrom</td>\n    </tr>\n    <tr>\n      <th>24254</th>\n      <td>82424</td>\n      <td>Small Fry</td>\n      <td>NaN</td>\n      <td>2011-11-23</td>\n      <td>Animation|Family</td>\n      <td>NaN</td>\n      <td>en</td>\n      <td>NaN</td>\n      <td>NaN</td>\n      <td>Pixar Animation Studios</td>\n      <td>...</td>\n      <td>6.8</td>\n      <td>9.858179</td>\n      <td>7.0</td>\n      <td>A fast food restaurant mini variant of Buzz fo...</td>\n      <td>English</td>\n      <td>&lt;img src='http://image.tmdb.org/t/p/w185//z096...</td>\n      <td>Lori Alan|Carlos Alazraqui|Tim Allen|Bob Berge...</td>\n      <td>20</td>\n      <td>6</td>\n      <td>Angus MacLane</td>\n    </tr>\n    <tr>\n      <th>25515</th>\n      <td>130925</td>\n      <td>Partysaurus Rex</td>\n      <td>An Electro Sudsy Good Time!</td>\n      <td>2012-09-14</td>\n      <td>Animation|Comedy|Family|Fantasy</td>\n      <td>NaN</td>\n      <td>en</td>\n      <td>NaN</td>\n      <td>NaN</td>\n      <td>Walt Disney Pictures|Pixar Animation Studios</td>\n      <td>...</td>\n      <td>7.4</td>\n      <td>6.066171</td>\n      <td>7.0</td>\n      <td>When Rex finds himself left behind in the bath...</td>\n      <td>English</td>\n      <td>&lt;img src='http://image.tmdb.org/t/p/w185//ylj9...</td>\n      <td>Tom Hanks|Tim Allen|Wallace Shawn|Corey Burton...</td>\n      <td>28</td>\n      <td>13</td>\n      <td>Mark A. Walsh</td>\n    </tr>\n    <tr>\n      <th>25516</th>\n      <td>141423</td>\n      <td>The Legend of Mor'du</td>\n      <td>NaN</td>\n      <td>2012-01-01</td>\n      <td>Animation|Family</td>\n      <td>NaN</td>\n      <td>en</td>\n      <td>NaN</td>\n      <td>NaN</td>\n      <td>Pixar Animation Studios</td>\n      <td>...</td>\n      <td>5.9</td>\n      <td>3.785848</td>\n      <td>6.0</td>\n      <td>The witch from Pixar's Brave uses magical illu...</td>\n      <td>English</td>\n      <td>&lt;img src='http://image.tmdb.org/t/p/w185//8FKR...</td>\n      <td>Julie Walters|Steve Purcell|Callum O'Neil</td>\n      <td>3</td>\n      <td>7</td>\n      <td>Brian Larsen</td>\n    </tr>\n    <tr>\n      <th>25517</th>\n      <td>256835</td>\n      <td>Toy Story That Time Forgot</td>\n      <td>NaN</td>\n      <td>2014-12-02</td>\n      <td>Animation|Family</td>\n      <td>NaN</td>\n      <td>en</td>\n      <td>NaN</td>\n      <td>NaN</td>\n      <td>Pixar Animation Studios</td>\n      <td>...</td>\n      <td>6.8</td>\n      <td>8.609555</td>\n      <td>22.0</td>\n      <td>During a post-Christmas play date, the gang fi...</td>\n      <td>English</td>\n      <td>&lt;img src='http://image.tmdb.org/t/p/w185//jqQP...</td>\n      <td>Tom Hanks|Tim Allen|Joan Cusack|Kristen Schaal...</td>\n      <td>8</td>\n      <td>4</td>\n      <td>Steve Purcell</td>\n    </tr>\n    <tr>\n      <th>29957</th>\n      <td>150540</td>\n      <td>Inside Out</td>\n      <td>Meet the little voices inside your head.</td>\n      <td>2015-06-09</td>\n      <td>Drama|Comedy|Animation|Family</td>\n      <td>NaN</td>\n      <td>en</td>\n      <td>175.0</td>\n      <td>857.611174</td>\n      <td>Walt Disney Pictures|Pixar Animation Studios</td>\n      <td>...</td>\n      <td>7.9</td>\n      <td>23.985587</td>\n      <td>94.0</td>\n      <td>Growing up can be a bumpy road, and it's no ex...</td>\n      <td>English</td>\n      <td>&lt;img src='http://image.tmdb.org/t/p/w185//lRHE...</td>\n      <td>Amy Poehler|Phyllis Smith|Richard Kind|Bill Ha...</td>\n      <td>65</td>\n      <td>50</td>\n      <td>Pete Docter</td>\n    </tr>\n    <tr>\n      <th>30388</th>\n      <td>105864</td>\n      <td>The Good Dinosaur</td>\n      <td>Little Arms With Big Attitude</td>\n      <td>2015-11-14</td>\n      <td>Adventure|Animation|Family</td>\n      <td>NaN</td>\n      <td>en</td>\n      <td>175.0</td>\n      <td>331.926147</td>\n      <td>Walt Disney Pictures|Pixar Animation Studios</td>\n      <td>...</td>\n      <td>6.6</td>\n      <td>12.319595</td>\n      <td>93.0</td>\n      <td>An epic journey into the world of dinosaurs wh...</td>\n      <td>English</td>\n      <td>&lt;img src='http://image.tmdb.org/t/p/w185//8RSk...</td>\n      <td>Raymond Ochoa|Jack Bright|Jeffrey Wright|Franc...</td>\n      <td>19</td>\n      <td>11</td>\n      <td>Peter Sohn</td>\n    </tr>\n    <tr>\n      <th>31803</th>\n      <td>286192</td>\n      <td>Lava</td>\n      <td>NaN</td>\n      <td>2015-06-21</td>\n      <td>Animation|Family</td>\n      <td>NaN</td>\n      <td>en</td>\n      <td>NaN</td>\n      <td>NaN</td>\n      <td>Pixar Animation Studios</td>\n      <td>...</td>\n      <td>7.4</td>\n      <td>5.761878</td>\n      <td>7.0</td>\n      <td>The story follows the love story of two volcan...</td>\n      <td>English</td>\n      <td>&lt;img src='http://image.tmdb.org/t/p/w185//blZS...</td>\n      <td>Napua Greig|Kuana Torres Kahele</td>\n      <td>2</td>\n      <td>19</td>\n      <td>James Ford Murphy</td>\n    </tr>\n    <tr>\n      <th>34560</th>\n      <td>345637</td>\n      <td>Sanjay's Super Team</td>\n      <td>NaN</td>\n      <td>2015-11-25</td>\n      <td>Animation</td>\n      <td>NaN</td>\n      <td>en</td>\n      <td>NaN</td>\n      <td>NaN</td>\n      <td>Pixar Animation Studios</td>\n      <td>...</td>\n      <td>6.9</td>\n      <td>4.335730</td>\n      <td>7.0</td>\n      <td>Sanjay's Super Team follows the daydream of a ...</td>\n      <td>English</td>\n      <td>&lt;img src='http://image.tmdb.org/t/p/w185//mShc...</td>\n      <td>NaN</td>\n      <td>0</td>\n      <td>4</td>\n      <td>Sanjay Patel</td>\n    </tr>\n    <tr>\n      <th>40259</th>\n      <td>145316</td>\n      <td>Air Mater</td>\n      <td>NaN</td>\n      <td>2011-08-04</td>\n      <td>Animation|Family</td>\n      <td>NaN</td>\n      <td>en</td>\n      <td>NaN</td>\n      <td>NaN</td>\n      <td>Pixar Animation Studios</td>\n      <td>...</td>\n      <td>5.8</td>\n      <td>8.844424</td>\n      <td>6.0</td>\n      <td>Mater's decision to fly lands him accidentally...</td>\n      <td>English</td>\n      <td>&lt;img src='http://image.tmdb.org/t/p/w185//jDwg...</td>\n      <td>Larry the Cable Guy|Stacy Keach|Keith Ferguson...</td>\n      <td>12</td>\n      <td>4</td>\n      <td>Rob Gibbs</td>\n    </tr>\n    <tr>\n      <th>40675</th>\n      <td>355338</td>\n      <td>Riley's First Date?</td>\n      <td>NaN</td>\n      <td>2015-11-03</td>\n      <td>Animation|Family</td>\n      <td>NaN</td>\n      <td>en</td>\n      <td>NaN</td>\n      <td>NaN</td>\n      <td>Walt Disney Pictures|Pixar Animation Studios</td>\n      <td>...</td>\n      <td>7.2</td>\n      <td>6.051285</td>\n      <td>5.0</td>\n      <td>Riley, now 12, is hanging out at home with her...</td>\n      <td>English</td>\n      <td>&lt;img src='http://image.tmdb.org/t/p/w185//pyry...</td>\n      <td>Amy Poehler|Phyllis Smith|Bill Hader|Lewis Bla...</td>\n      <td>20</td>\n      <td>4</td>\n      <td>Josh Cooley</td>\n    </tr>\n  </tbody>\n</table>\n<p>19 rows × 22 columns</p>\n</div>"
     },
     "execution_count": 159,
     "metadata": {},
     "output_type": "execute_result"
    }
   ],
   "source": [
    "from datetime import datetime\n",
    "df['release_date'] = pd.to_datetime(df['release_date'])\n",
    "start_date = datetime(2010, 1, 1)\n",
    "end_date = datetime(2015, 12, 31)\n",
    "df[df['production_companies'].str.contains('Pixar', na=False) & \n",
    "                (df['release_date'] >= start_date) & \n",
    "                (df['release_date'] <= end_date)]"
   ],
   "metadata": {
    "collapsed": false,
    "ExecuteTime": {
     "end_time": "2024-04-23T19:05:37.831975700Z",
     "start_time": "2024-04-23T19:05:37.480818800Z"
    }
   },
   "execution_count": 159
  },
  {
   "cell_type": "markdown",
   "source": [
    "__Search 4: Action or Thriller Movie with original language English and minimum Rating of 7.5 (most recent movies first)__"
   ],
   "metadata": {}
  },
  {
   "cell_type": "code",
   "outputs": [
    {
     "data": {
      "text/plain": "           id                           title  \\\n44490  417320                   Descendants 2   \n43941  374720                         Dunkirk   \n42624  382614               The Book of Henry   \n26273  283995  Guardians of the Galaxy Vol. 2   \n43467  416445                     Revengeance   \n...       ...                             ...   \n11135   44892                   The Music Box   \n8268      877                        Scarface   \n8255    25768             Steamboat Bill, Jr.   \n2879      961                     The General   \n34547  128899        Bardelys the Magnificent   \n\n                                                 tagline release_date  \\\n44490                                    Long live evil.   2017-07-21   \n43941                    The event that shaped our world   2017-07-19   \n42624                         Never leave things undone.   2017-06-16   \n26273                                         Obviously.   2017-04-19   \n43467             Revenge is a dish best served animated   2017-04-05   \n...                                                  ...          ...   \n11135  Mr. Laurel and Mr. Hardy decided to reorganize...   1932-04-16   \n8268        The rise and fall of a power hungry mobster.   1932-04-09   \n8255               The Laugh Special of the Age. See It.   1928-02-14   \n2879   Buster drives \"The General\" to trainload of la...   1926-12-31   \n34547        The screen's great lover in a dashing role!   1926-09-30   \n\n                                              genres  \\\n44490  TV Movie|Family|Action|Comedy|Music|Adventure   \n43941              Action|Drama|History|Thriller|War   \n42624                           Thriller|Drama|Crime   \n26273        Action|Adventure|Comedy|Science Fiction   \n43467                        Comedy|Action|Animation   \n...                                              ...   \n11135                                  Action|Comedy   \n8268           Action|Adventure|Crime|Drama|Thriller   \n8255                                   Action|Comedy   \n2879                   Action|Adventure|Comedy|Drama   \n34547                           Action|Drama|Romance   \n\n                    belongs_to_collection original_language  budget_musd  \\\n44490              Descendants Collection                en          NaN   \n43941                                 NaN                en       100.00   \n42624                                 NaN                en        10.00   \n26273  Guardians of the Galaxy Collection                en       200.00   \n43467                                 NaN                en          NaN   \n...                                   ...               ...          ...   \n11135                                 NaN                en          NaN   \n8268                                  NaN                en          NaN   \n8255                                  NaN                en          NaN   \n2879                                  NaN                en         0.75   \n34547                                 NaN                en          NaN   \n\n       revenue_musd                               production_companies  ...  \\\n44490           NaN                             Walt Disney Television  ...   \n43941    519.876949  Canal+|Studio Canal|Warner Bros.|Syncopy|RatPa...  ...   \n42624      4.219536  Sidney Kimmel Entertainment|Double Nickel Ente...  ...   \n26273    863.416141                Walt Disney Pictures|Marvel Studios  ...   \n43467           NaN                                         Plymptoons  ...   \n...             ...                                                ...  ...   \n11135           NaN                                  Hal Roach Studios  ...   \n8268       0.600000                   United Artists|The Caddo Company  ...   \n8255            NaN                          Buster Keaton Productions  ...   \n2879            NaN  Buster Keaton Productions|Joseph M. Schenck Pr...  ...   \n34547           NaN                          Metro-Goldwyn-Mayer (MGM)  ...   \n\n      vote_average  popularity  runtime  \\\n44490          7.5   15.842073    111.0   \n43941          7.5   30.938854    107.0   \n42624          7.6   24.553725    105.0   \n26273          7.6  185.330992    137.0   \n43467          8.0    1.095080     71.0   \n...            ...         ...      ...   \n11135          7.5    2.186467     29.0   \n8268           7.5    4.854436     90.0   \n8255           7.9    7.518657     70.0   \n2879           8.0    8.002953     79.0   \n34547          8.0    0.978542     90.0   \n\n                                                overview  \\\n44490  When the pressure to be royal becomes too much...   \n43941  The miraculous evacuation of Allied soldiers f...   \n42624  Naomi Watts stars as Susan, a single mother of...   \n26273  The Guardians must fight to keep their newfoun...   \n43467  A low-rent bounty hunter named Rod Rosse, The ...   \n...                                                  ...   \n11135  The Laurel &amp; Hardy Moving Co. have a chall...   \n8268   Big Louis Costillo, last of the old-style gang...   \n8255   The just out of college effete son of a no-non...   \n2879   During America’s Civil War Union spies steal e...   \n34547  Rafael Sabatini's story of the swashbuckling e...   \n\n               spoken_languages  \\\n44490                     Dansk   \n43941  English|Français|Deutsch   \n42624                   English   \n26273                   English   \n43467                   English   \n...                         ...   \n11135                   English   \n8268           English|Italiano   \n8255                        NaN   \n2879                    English   \n34547                   English   \n\n                                             poster_path  \\\n44490  <img src='http://image.tmdb.org/t/p/w185//8BNy...   \n43941  <img src='http://image.tmdb.org/t/p/w185//ebSn...   \n42624  <img src='http://image.tmdb.org/t/p/w185//suLF...   \n26273  <img src='http://image.tmdb.org/t/p/w185//y4MB...   \n43467  <img src='http://image.tmdb.org/t/p/w185//p4St...   \n...                                                  ...   \n11135  <img src='http://image.tmdb.org/t/p/w185//qWVG...   \n8268   <img src='http://image.tmdb.org/t/p/w185//bnFj...   \n8255   <img src='http://image.tmdb.org/t/p/w185//5cY9...   \n2879   <img src='http://image.tmdb.org/t/p/w185//wZ9R...   \n34547  <img src='http://image.tmdb.org/t/p/w185//9d2W...   \n\n                                                    cast cast_size crew_size  \\\n44490  Dove Cameron|Sofia Carson|Cameron Boyce|Booboo...        17         3   \n43941  Fionn Whitehead|Tom Glynn-Carney|Jack Lowden|H...        66       214   \n42624  Naomi Watts|Jaeden Lieberher|Jacob Tremblay|Sa...        27        27   \n26273  Chris Pratt|Zoe Saldana|Dave Bautista|Vin Dies...        63       131   \n43467                      Charley Rossman|Robert LuJane         2         2   \n...                                                  ...       ...       ...   \n11135  Stan Laurel|Oliver Hardy|Dinah|Gladys Gale|Bil...         9         9   \n8268   Paul Muni|Ann Dvorak|Karen Morley|Osgood Perki...        41        22   \n8255   Buster Keaton|Ernest Torrence|Tom McGuire|Mari...         6        12   \n2879   Buster Keaton|Marion Mack|Glen Cavender|Jim Fa...        22        25   \n34547  John Gilbert|Eleanor Boardman|Roy D'Arcy|Lione...         6        11   \n\n                director  \n44490       Kenny Ortega  \n43941  Christopher Nolan  \n42624    Colin Trevorrow  \n26273         James Gunn  \n43467      Bill Plympton  \n...                  ...  \n11135      James Parrott  \n8268        Howard Hawks  \n8255       Buster Keaton  \n2879       Buster Keaton  \n34547         King Vidor  \n\n[302 rows x 22 columns]",
      "text/html": "<div>\n<style scoped>\n    .dataframe tbody tr th:only-of-type {\n        vertical-align: middle;\n    }\n\n    .dataframe tbody tr th {\n        vertical-align: top;\n    }\n\n    .dataframe thead th {\n        text-align: right;\n    }\n</style>\n<table border=\"1\" class=\"dataframe\">\n  <thead>\n    <tr style=\"text-align: right;\">\n      <th></th>\n      <th>id</th>\n      <th>title</th>\n      <th>tagline</th>\n      <th>release_date</th>\n      <th>genres</th>\n      <th>belongs_to_collection</th>\n      <th>original_language</th>\n      <th>budget_musd</th>\n      <th>revenue_musd</th>\n      <th>production_companies</th>\n      <th>...</th>\n      <th>vote_average</th>\n      <th>popularity</th>\n      <th>runtime</th>\n      <th>overview</th>\n      <th>spoken_languages</th>\n      <th>poster_path</th>\n      <th>cast</th>\n      <th>cast_size</th>\n      <th>crew_size</th>\n      <th>director</th>\n    </tr>\n  </thead>\n  <tbody>\n    <tr>\n      <th>44490</th>\n      <td>417320</td>\n      <td>Descendants 2</td>\n      <td>Long live evil.</td>\n      <td>2017-07-21</td>\n      <td>TV Movie|Family|Action|Comedy|Music|Adventure</td>\n      <td>Descendants Collection</td>\n      <td>en</td>\n      <td>NaN</td>\n      <td>NaN</td>\n      <td>Walt Disney Television</td>\n      <td>...</td>\n      <td>7.5</td>\n      <td>15.842073</td>\n      <td>111.0</td>\n      <td>When the pressure to be royal becomes too much...</td>\n      <td>Dansk</td>\n      <td>&lt;img src='http://image.tmdb.org/t/p/w185//8BNy...</td>\n      <td>Dove Cameron|Sofia Carson|Cameron Boyce|Booboo...</td>\n      <td>17</td>\n      <td>3</td>\n      <td>Kenny Ortega</td>\n    </tr>\n    <tr>\n      <th>43941</th>\n      <td>374720</td>\n      <td>Dunkirk</td>\n      <td>The event that shaped our world</td>\n      <td>2017-07-19</td>\n      <td>Action|Drama|History|Thriller|War</td>\n      <td>NaN</td>\n      <td>en</td>\n      <td>100.00</td>\n      <td>519.876949</td>\n      <td>Canal+|Studio Canal|Warner Bros.|Syncopy|RatPa...</td>\n      <td>...</td>\n      <td>7.5</td>\n      <td>30.938854</td>\n      <td>107.0</td>\n      <td>The miraculous evacuation of Allied soldiers f...</td>\n      <td>English|Français|Deutsch</td>\n      <td>&lt;img src='http://image.tmdb.org/t/p/w185//ebSn...</td>\n      <td>Fionn Whitehead|Tom Glynn-Carney|Jack Lowden|H...</td>\n      <td>66</td>\n      <td>214</td>\n      <td>Christopher Nolan</td>\n    </tr>\n    <tr>\n      <th>42624</th>\n      <td>382614</td>\n      <td>The Book of Henry</td>\n      <td>Never leave things undone.</td>\n      <td>2017-06-16</td>\n      <td>Thriller|Drama|Crime</td>\n      <td>NaN</td>\n      <td>en</td>\n      <td>10.00</td>\n      <td>4.219536</td>\n      <td>Sidney Kimmel Entertainment|Double Nickel Ente...</td>\n      <td>...</td>\n      <td>7.6</td>\n      <td>24.553725</td>\n      <td>105.0</td>\n      <td>Naomi Watts stars as Susan, a single mother of...</td>\n      <td>English</td>\n      <td>&lt;img src='http://image.tmdb.org/t/p/w185//suLF...</td>\n      <td>Naomi Watts|Jaeden Lieberher|Jacob Tremblay|Sa...</td>\n      <td>27</td>\n      <td>27</td>\n      <td>Colin Trevorrow</td>\n    </tr>\n    <tr>\n      <th>26273</th>\n      <td>283995</td>\n      <td>Guardians of the Galaxy Vol. 2</td>\n      <td>Obviously.</td>\n      <td>2017-04-19</td>\n      <td>Action|Adventure|Comedy|Science Fiction</td>\n      <td>Guardians of the Galaxy Collection</td>\n      <td>en</td>\n      <td>200.00</td>\n      <td>863.416141</td>\n      <td>Walt Disney Pictures|Marvel Studios</td>\n      <td>...</td>\n      <td>7.6</td>\n      <td>185.330992</td>\n      <td>137.0</td>\n      <td>The Guardians must fight to keep their newfoun...</td>\n      <td>English</td>\n      <td>&lt;img src='http://image.tmdb.org/t/p/w185//y4MB...</td>\n      <td>Chris Pratt|Zoe Saldana|Dave Bautista|Vin Dies...</td>\n      <td>63</td>\n      <td>131</td>\n      <td>James Gunn</td>\n    </tr>\n    <tr>\n      <th>43467</th>\n      <td>416445</td>\n      <td>Revengeance</td>\n      <td>Revenge is a dish best served animated</td>\n      <td>2017-04-05</td>\n      <td>Comedy|Action|Animation</td>\n      <td>NaN</td>\n      <td>en</td>\n      <td>NaN</td>\n      <td>NaN</td>\n      <td>Plymptoons</td>\n      <td>...</td>\n      <td>8.0</td>\n      <td>1.095080</td>\n      <td>71.0</td>\n      <td>A low-rent bounty hunter named Rod Rosse, The ...</td>\n      <td>English</td>\n      <td>&lt;img src='http://image.tmdb.org/t/p/w185//p4St...</td>\n      <td>Charley Rossman|Robert LuJane</td>\n      <td>2</td>\n      <td>2</td>\n      <td>Bill Plympton</td>\n    </tr>\n    <tr>\n      <th>...</th>\n      <td>...</td>\n      <td>...</td>\n      <td>...</td>\n      <td>...</td>\n      <td>...</td>\n      <td>...</td>\n      <td>...</td>\n      <td>...</td>\n      <td>...</td>\n      <td>...</td>\n      <td>...</td>\n      <td>...</td>\n      <td>...</td>\n      <td>...</td>\n      <td>...</td>\n      <td>...</td>\n      <td>...</td>\n      <td>...</td>\n      <td>...</td>\n      <td>...</td>\n      <td>...</td>\n    </tr>\n    <tr>\n      <th>11135</th>\n      <td>44892</td>\n      <td>The Music Box</td>\n      <td>Mr. Laurel and Mr. Hardy decided to reorganize...</td>\n      <td>1932-04-16</td>\n      <td>Action|Comedy</td>\n      <td>NaN</td>\n      <td>en</td>\n      <td>NaN</td>\n      <td>NaN</td>\n      <td>Hal Roach Studios</td>\n      <td>...</td>\n      <td>7.5</td>\n      <td>2.186467</td>\n      <td>29.0</td>\n      <td>The Laurel &amp;amp; Hardy Moving Co. have a chall...</td>\n      <td>English</td>\n      <td>&lt;img src='http://image.tmdb.org/t/p/w185//qWVG...</td>\n      <td>Stan Laurel|Oliver Hardy|Dinah|Gladys Gale|Bil...</td>\n      <td>9</td>\n      <td>9</td>\n      <td>James Parrott</td>\n    </tr>\n    <tr>\n      <th>8268</th>\n      <td>877</td>\n      <td>Scarface</td>\n      <td>The rise and fall of a power hungry mobster.</td>\n      <td>1932-04-09</td>\n      <td>Action|Adventure|Crime|Drama|Thriller</td>\n      <td>NaN</td>\n      <td>en</td>\n      <td>NaN</td>\n      <td>0.600000</td>\n      <td>United Artists|The Caddo Company</td>\n      <td>...</td>\n      <td>7.5</td>\n      <td>4.854436</td>\n      <td>90.0</td>\n      <td>Big Louis Costillo, last of the old-style gang...</td>\n      <td>English|Italiano</td>\n      <td>&lt;img src='http://image.tmdb.org/t/p/w185//bnFj...</td>\n      <td>Paul Muni|Ann Dvorak|Karen Morley|Osgood Perki...</td>\n      <td>41</td>\n      <td>22</td>\n      <td>Howard Hawks</td>\n    </tr>\n    <tr>\n      <th>8255</th>\n      <td>25768</td>\n      <td>Steamboat Bill, Jr.</td>\n      <td>The Laugh Special of the Age. See It.</td>\n      <td>1928-02-14</td>\n      <td>Action|Comedy</td>\n      <td>NaN</td>\n      <td>en</td>\n      <td>NaN</td>\n      <td>NaN</td>\n      <td>Buster Keaton Productions</td>\n      <td>...</td>\n      <td>7.9</td>\n      <td>7.518657</td>\n      <td>70.0</td>\n      <td>The just out of college effete son of a no-non...</td>\n      <td>NaN</td>\n      <td>&lt;img src='http://image.tmdb.org/t/p/w185//5cY9...</td>\n      <td>Buster Keaton|Ernest Torrence|Tom McGuire|Mari...</td>\n      <td>6</td>\n      <td>12</td>\n      <td>Buster Keaton</td>\n    </tr>\n    <tr>\n      <th>2879</th>\n      <td>961</td>\n      <td>The General</td>\n      <td>Buster drives \"The General\" to trainload of la...</td>\n      <td>1926-12-31</td>\n      <td>Action|Adventure|Comedy|Drama</td>\n      <td>NaN</td>\n      <td>en</td>\n      <td>0.75</td>\n      <td>NaN</td>\n      <td>Buster Keaton Productions|Joseph M. Schenck Pr...</td>\n      <td>...</td>\n      <td>8.0</td>\n      <td>8.002953</td>\n      <td>79.0</td>\n      <td>During America’s Civil War Union spies steal e...</td>\n      <td>English</td>\n      <td>&lt;img src='http://image.tmdb.org/t/p/w185//wZ9R...</td>\n      <td>Buster Keaton|Marion Mack|Glen Cavender|Jim Fa...</td>\n      <td>22</td>\n      <td>25</td>\n      <td>Buster Keaton</td>\n    </tr>\n    <tr>\n      <th>34547</th>\n      <td>128899</td>\n      <td>Bardelys the Magnificent</td>\n      <td>The screen's great lover in a dashing role!</td>\n      <td>1926-09-30</td>\n      <td>Action|Drama|Romance</td>\n      <td>NaN</td>\n      <td>en</td>\n      <td>NaN</td>\n      <td>NaN</td>\n      <td>Metro-Goldwyn-Mayer (MGM)</td>\n      <td>...</td>\n      <td>8.0</td>\n      <td>0.978542</td>\n      <td>90.0</td>\n      <td>Rafael Sabatini's story of the swashbuckling e...</td>\n      <td>English</td>\n      <td>&lt;img src='http://image.tmdb.org/t/p/w185//9d2W...</td>\n      <td>John Gilbert|Eleanor Boardman|Roy D'Arcy|Lione...</td>\n      <td>6</td>\n      <td>11</td>\n      <td>King Vidor</td>\n    </tr>\n  </tbody>\n</table>\n<p>302 rows × 22 columns</p>\n</div>"
     },
     "execution_count": 160,
     "metadata": {},
     "output_type": "execute_result"
    }
   ],
   "source": [
    "from datetime import datetime\n",
    "df['release_date'] = pd.to_datetime(df['release_date'])\n",
    "condition = (\n",
    "    df['genres'].str.contains('Thriller', na=False) | \n",
    "    df['genres'].str.contains('Action', na=False)\n",
    ") & (df['original_language'] == 'en') & (df['vote_average'] >= 7.5)\n",
    "df[condition].sort_values(by='release_date', ascending=False)"
   ],
   "metadata": {
    "collapsed": false,
    "ExecuteTime": {
     "end_time": "2024-04-23T19:05:37.942901900Z",
     "start_time": "2024-04-23T19:05:37.536289100Z"
    }
   },
   "execution_count": 160
  },
  {
   "cell_type": "markdown",
   "metadata": {},
   "source": [
    "## Are Franchises more successful?"
   ]
  },
  {
   "cell_type": "markdown",
   "metadata": {},
   "source": [
    "4. __Analyze__ the Dataset and __find out whether Franchises (Movies that belong to a collection) are more successful than stand-alone movies__ in terms of:"
   ]
  },
  {
   "cell_type": "markdown",
   "metadata": {},
   "source": [
    "- mean revenue\n",
    "- median Return on Investment\n",
    "- mean budget raised\n",
    "- mean popularity\n",
    "- mean rating"
   ]
  },
  {
   "cell_type": "markdown",
   "metadata": {},
   "source": [
    "hint: use groupby()"
   ]
  },
  {
   "cell_type": "code",
   "outputs": [],
   "source": [
    "df_analysis = df.copy()"
   ],
   "metadata": {
    "collapsed": false,
    "ExecuteTime": {
     "end_time": "2024-04-23T19:05:38.194406Z",
     "start_time": "2024-04-23T19:05:37.684141600Z"
    }
   },
   "execution_count": 161
  },
  {
   "cell_type": "code",
   "outputs": [
    {
     "data": {
      "text/plain": "           id                        title  \\\n0         862                    Toy Story   \n1        8844                      Jumanji   \n2       15602             Grumpier Old Men   \n3       31357            Waiting to Exhale   \n4       11862  Father of the Bride Part II   \n...       ...                          ...   \n44686  439050                       Subdue   \n44687  111109          Century of Birthing   \n44688   67758                     Betrayal   \n44689  227506             Satan Triumphant   \n44690  461257                     Queerama   \n\n                                                 tagline release_date  \\\n0                                                    NaN   1995-10-30   \n1              Roll the dice and unleash the excitement!   1995-12-15   \n2      Still Yelling. Still Fighting. Still Ready for...   1995-12-22   \n3      Friends are the people who let you be yourself...   1995-12-22   \n4      Just When His World Is Back To Normal... He's ...   1995-02-10   \n...                                                  ...          ...   \n44686         Rising and falling between a man and woman          NaT   \n44687                                                NaN   2011-11-17   \n44688                             A deadly game of wits.   2003-08-01   \n44689                                                NaN   1917-10-21   \n44690                                                NaN   2017-06-09   \n\n                         genres           belongs_to_collection  \\\n0       Animation|Comedy|Family            Toy Story Collection   \n1      Adventure|Fantasy|Family                             NaN   \n2                Romance|Comedy       Grumpy Old Men Collection   \n3          Comedy|Drama|Romance                             NaN   \n4                        Comedy  Father of the Bride Collection   \n...                         ...                             ...   \n44686              Drama|Family                             NaN   \n44687                     Drama                             NaN   \n44688     Action|Drama|Thriller                             NaN   \n44689                       NaN                             NaN   \n44690                       NaN                             NaN   \n\n      original_language  budget_musd  revenue_musd  \\\n0                    en         30.0    373.554033   \n1                    en         65.0    262.797249   \n2                    en          NaN           NaN   \n3                    en         16.0     81.452156   \n4                    en          NaN     76.578911   \n...                 ...          ...           ...   \n44686                fa          NaN           NaN   \n44687                tl          NaN           NaN   \n44688                en          NaN           NaN   \n44689                en          NaN           NaN   \n44690                en          NaN           NaN   \n\n                                    production_companies  ... popularity  \\\n0                                Pixar Animation Studios  ...  21.946943   \n1      TriStar Pictures|Teitler Film|Interscope Commu...  ...  17.015539   \n2                            Warner Bros.|Lancaster Gate  ...  11.712900   \n3                 Twentieth Century Fox Film Corporation  ...   3.859495   \n4              Sandollar Productions|Touchstone Pictures  ...   8.387519   \n...                                                  ...  ...        ...   \n44686                                                NaN  ...   0.072051   \n44687                                        Sine Olivia  ...   0.178241   \n44688                            American World Pictures  ...   0.903007   \n44689                                          Yermoliev  ...   0.003503   \n44690                                                NaN  ...   0.163015   \n\n       runtime                                           overview  \\\n0         81.0  Led by Woody, Andy's toys live happily in his ...   \n1        104.0  When siblings Judy and Peter discover an encha...   \n2        101.0  A family wedding reignites the ancient feud be...   \n3        127.0  Cheated on, mistreated and stepped on, the wom...   \n4        106.0  Just when George Banks has recovered from his ...   \n...        ...                                                ...   \n44686     90.0        Rising and falling between a man and woman.   \n44687    360.0  An artist struggles to finish his work while a...   \n44688     90.0  When one of her hits goes wrong, a professiona...   \n44689     87.0  In a small town live two brothers, one a minis...   \n44690     75.0  50 years after decriminalisation of homosexual...   \n\n       spoken_languages                                        poster_path  \\\n0               English  <img src='http://image.tmdb.org/t/p/w185//uXDf...   \n1      English|Français  <img src='http://image.tmdb.org/t/p/w185//vgpX...   \n2               English  <img src='http://image.tmdb.org/t/p/w185//1FSX...   \n3               English  <img src='http://image.tmdb.org/t/p/w185//4wjG...   \n4               English  <img src='http://image.tmdb.org/t/p/w185//lf9R...   \n...                 ...                                                ...   \n44686             فارسی  <img src='http://image.tmdb.org/t/p/w185//pfC8...   \n44687               NaN  <img src='http://image.tmdb.org/t/p/w185//xZkm...   \n44688           English  <img src='http://image.tmdb.org/t/p/w185//eGga...   \n44689               NaN  <img src='http://image.tmdb.org/t/p/w185//aorB...   \n44690           English  <img src='http://image.tmdb.org/t/p/w185//oxFE...   \n\n                                                    cast cast_size crew_size  \\\n0      Tom Hanks|Tim Allen|Don Rickles|Jim Varney|Wal...        13       106   \n1      Robin Williams|Jonathan Hyde|Kirsten Dunst|Bra...        26        16   \n2      Walter Matthau|Jack Lemmon|Ann-Margret|Sophia ...         7         4   \n3      Whitney Houston|Angela Bassett|Loretta Devine|...        10        10   \n4      Steve Martin|Diane Keaton|Martin Short|Kimberl...        12         7   \n...                                                  ...       ...       ...   \n44686            Leila Hatami|Kourosh Tahami|Elham Korda         3         9   \n44687  Angel Aquino|Perry Dizon|Hazel Orencio|Joel To...        11         6   \n44688  Erika Eleniak|Adam Baldwin|Julie du Page|James...        15         5   \n44689  Iwan Mosschuchin|Nathalie Lissenko|Pavel Pavlo...         5         2   \n44690                                                NaN         0         1   \n\n               director         is_collection  \n0         John Lasseter  Part of a collection  \n1          Joe Johnston      Not a collection  \n2         Howard Deutch  Part of a collection  \n3       Forest Whitaker      Not a collection  \n4         Charles Shyer  Part of a collection  \n...                 ...                   ...  \n44686  Hamid Nematollah      Not a collection  \n44687          Lav Diaz      Not a collection  \n44688    Mark L. Lester      Not a collection  \n44689  Yakov Protazanov      Not a collection  \n44690     Daisy Asquith      Not a collection  \n\n[44691 rows x 23 columns]",
      "text/html": "<div>\n<style scoped>\n    .dataframe tbody tr th:only-of-type {\n        vertical-align: middle;\n    }\n\n    .dataframe tbody tr th {\n        vertical-align: top;\n    }\n\n    .dataframe thead th {\n        text-align: right;\n    }\n</style>\n<table border=\"1\" class=\"dataframe\">\n  <thead>\n    <tr style=\"text-align: right;\">\n      <th></th>\n      <th>id</th>\n      <th>title</th>\n      <th>tagline</th>\n      <th>release_date</th>\n      <th>genres</th>\n      <th>belongs_to_collection</th>\n      <th>original_language</th>\n      <th>budget_musd</th>\n      <th>revenue_musd</th>\n      <th>production_companies</th>\n      <th>...</th>\n      <th>popularity</th>\n      <th>runtime</th>\n      <th>overview</th>\n      <th>spoken_languages</th>\n      <th>poster_path</th>\n      <th>cast</th>\n      <th>cast_size</th>\n      <th>crew_size</th>\n      <th>director</th>\n      <th>is_collection</th>\n    </tr>\n  </thead>\n  <tbody>\n    <tr>\n      <th>0</th>\n      <td>862</td>\n      <td>Toy Story</td>\n      <td>NaN</td>\n      <td>1995-10-30</td>\n      <td>Animation|Comedy|Family</td>\n      <td>Toy Story Collection</td>\n      <td>en</td>\n      <td>30.0</td>\n      <td>373.554033</td>\n      <td>Pixar Animation Studios</td>\n      <td>...</td>\n      <td>21.946943</td>\n      <td>81.0</td>\n      <td>Led by Woody, Andy's toys live happily in his ...</td>\n      <td>English</td>\n      <td>&lt;img src='http://image.tmdb.org/t/p/w185//uXDf...</td>\n      <td>Tom Hanks|Tim Allen|Don Rickles|Jim Varney|Wal...</td>\n      <td>13</td>\n      <td>106</td>\n      <td>John Lasseter</td>\n      <td>Part of a collection</td>\n    </tr>\n    <tr>\n      <th>1</th>\n      <td>8844</td>\n      <td>Jumanji</td>\n      <td>Roll the dice and unleash the excitement!</td>\n      <td>1995-12-15</td>\n      <td>Adventure|Fantasy|Family</td>\n      <td>NaN</td>\n      <td>en</td>\n      <td>65.0</td>\n      <td>262.797249</td>\n      <td>TriStar Pictures|Teitler Film|Interscope Commu...</td>\n      <td>...</td>\n      <td>17.015539</td>\n      <td>104.0</td>\n      <td>When siblings Judy and Peter discover an encha...</td>\n      <td>English|Français</td>\n      <td>&lt;img src='http://image.tmdb.org/t/p/w185//vgpX...</td>\n      <td>Robin Williams|Jonathan Hyde|Kirsten Dunst|Bra...</td>\n      <td>26</td>\n      <td>16</td>\n      <td>Joe Johnston</td>\n      <td>Not a collection</td>\n    </tr>\n    <tr>\n      <th>2</th>\n      <td>15602</td>\n      <td>Grumpier Old Men</td>\n      <td>Still Yelling. Still Fighting. Still Ready for...</td>\n      <td>1995-12-22</td>\n      <td>Romance|Comedy</td>\n      <td>Grumpy Old Men Collection</td>\n      <td>en</td>\n      <td>NaN</td>\n      <td>NaN</td>\n      <td>Warner Bros.|Lancaster Gate</td>\n      <td>...</td>\n      <td>11.712900</td>\n      <td>101.0</td>\n      <td>A family wedding reignites the ancient feud be...</td>\n      <td>English</td>\n      <td>&lt;img src='http://image.tmdb.org/t/p/w185//1FSX...</td>\n      <td>Walter Matthau|Jack Lemmon|Ann-Margret|Sophia ...</td>\n      <td>7</td>\n      <td>4</td>\n      <td>Howard Deutch</td>\n      <td>Part of a collection</td>\n    </tr>\n    <tr>\n      <th>3</th>\n      <td>31357</td>\n      <td>Waiting to Exhale</td>\n      <td>Friends are the people who let you be yourself...</td>\n      <td>1995-12-22</td>\n      <td>Comedy|Drama|Romance</td>\n      <td>NaN</td>\n      <td>en</td>\n      <td>16.0</td>\n      <td>81.452156</td>\n      <td>Twentieth Century Fox Film Corporation</td>\n      <td>...</td>\n      <td>3.859495</td>\n      <td>127.0</td>\n      <td>Cheated on, mistreated and stepped on, the wom...</td>\n      <td>English</td>\n      <td>&lt;img src='http://image.tmdb.org/t/p/w185//4wjG...</td>\n      <td>Whitney Houston|Angela Bassett|Loretta Devine|...</td>\n      <td>10</td>\n      <td>10</td>\n      <td>Forest Whitaker</td>\n      <td>Not a collection</td>\n    </tr>\n    <tr>\n      <th>4</th>\n      <td>11862</td>\n      <td>Father of the Bride Part II</td>\n      <td>Just When His World Is Back To Normal... He's ...</td>\n      <td>1995-02-10</td>\n      <td>Comedy</td>\n      <td>Father of the Bride Collection</td>\n      <td>en</td>\n      <td>NaN</td>\n      <td>76.578911</td>\n      <td>Sandollar Productions|Touchstone Pictures</td>\n      <td>...</td>\n      <td>8.387519</td>\n      <td>106.0</td>\n      <td>Just when George Banks has recovered from his ...</td>\n      <td>English</td>\n      <td>&lt;img src='http://image.tmdb.org/t/p/w185//lf9R...</td>\n      <td>Steve Martin|Diane Keaton|Martin Short|Kimberl...</td>\n      <td>12</td>\n      <td>7</td>\n      <td>Charles Shyer</td>\n      <td>Part of a collection</td>\n    </tr>\n    <tr>\n      <th>...</th>\n      <td>...</td>\n      <td>...</td>\n      <td>...</td>\n      <td>...</td>\n      <td>...</td>\n      <td>...</td>\n      <td>...</td>\n      <td>...</td>\n      <td>...</td>\n      <td>...</td>\n      <td>...</td>\n      <td>...</td>\n      <td>...</td>\n      <td>...</td>\n      <td>...</td>\n      <td>...</td>\n      <td>...</td>\n      <td>...</td>\n      <td>...</td>\n      <td>...</td>\n      <td>...</td>\n    </tr>\n    <tr>\n      <th>44686</th>\n      <td>439050</td>\n      <td>Subdue</td>\n      <td>Rising and falling between a man and woman</td>\n      <td>NaT</td>\n      <td>Drama|Family</td>\n      <td>NaN</td>\n      <td>fa</td>\n      <td>NaN</td>\n      <td>NaN</td>\n      <td>NaN</td>\n      <td>...</td>\n      <td>0.072051</td>\n      <td>90.0</td>\n      <td>Rising and falling between a man and woman.</td>\n      <td>فارسی</td>\n      <td>&lt;img src='http://image.tmdb.org/t/p/w185//pfC8...</td>\n      <td>Leila Hatami|Kourosh Tahami|Elham Korda</td>\n      <td>3</td>\n      <td>9</td>\n      <td>Hamid Nematollah</td>\n      <td>Not a collection</td>\n    </tr>\n    <tr>\n      <th>44687</th>\n      <td>111109</td>\n      <td>Century of Birthing</td>\n      <td>NaN</td>\n      <td>2011-11-17</td>\n      <td>Drama</td>\n      <td>NaN</td>\n      <td>tl</td>\n      <td>NaN</td>\n      <td>NaN</td>\n      <td>Sine Olivia</td>\n      <td>...</td>\n      <td>0.178241</td>\n      <td>360.0</td>\n      <td>An artist struggles to finish his work while a...</td>\n      <td>NaN</td>\n      <td>&lt;img src='http://image.tmdb.org/t/p/w185//xZkm...</td>\n      <td>Angel Aquino|Perry Dizon|Hazel Orencio|Joel To...</td>\n      <td>11</td>\n      <td>6</td>\n      <td>Lav Diaz</td>\n      <td>Not a collection</td>\n    </tr>\n    <tr>\n      <th>44688</th>\n      <td>67758</td>\n      <td>Betrayal</td>\n      <td>A deadly game of wits.</td>\n      <td>2003-08-01</td>\n      <td>Action|Drama|Thriller</td>\n      <td>NaN</td>\n      <td>en</td>\n      <td>NaN</td>\n      <td>NaN</td>\n      <td>American World Pictures</td>\n      <td>...</td>\n      <td>0.903007</td>\n      <td>90.0</td>\n      <td>When one of her hits goes wrong, a professiona...</td>\n      <td>English</td>\n      <td>&lt;img src='http://image.tmdb.org/t/p/w185//eGga...</td>\n      <td>Erika Eleniak|Adam Baldwin|Julie du Page|James...</td>\n      <td>15</td>\n      <td>5</td>\n      <td>Mark L. Lester</td>\n      <td>Not a collection</td>\n    </tr>\n    <tr>\n      <th>44689</th>\n      <td>227506</td>\n      <td>Satan Triumphant</td>\n      <td>NaN</td>\n      <td>1917-10-21</td>\n      <td>NaN</td>\n      <td>NaN</td>\n      <td>en</td>\n      <td>NaN</td>\n      <td>NaN</td>\n      <td>Yermoliev</td>\n      <td>...</td>\n      <td>0.003503</td>\n      <td>87.0</td>\n      <td>In a small town live two brothers, one a minis...</td>\n      <td>NaN</td>\n      <td>&lt;img src='http://image.tmdb.org/t/p/w185//aorB...</td>\n      <td>Iwan Mosschuchin|Nathalie Lissenko|Pavel Pavlo...</td>\n      <td>5</td>\n      <td>2</td>\n      <td>Yakov Protazanov</td>\n      <td>Not a collection</td>\n    </tr>\n    <tr>\n      <th>44690</th>\n      <td>461257</td>\n      <td>Queerama</td>\n      <td>NaN</td>\n      <td>2017-06-09</td>\n      <td>NaN</td>\n      <td>NaN</td>\n      <td>en</td>\n      <td>NaN</td>\n      <td>NaN</td>\n      <td>NaN</td>\n      <td>...</td>\n      <td>0.163015</td>\n      <td>75.0</td>\n      <td>50 years after decriminalisation of homosexual...</td>\n      <td>English</td>\n      <td>&lt;img src='http://image.tmdb.org/t/p/w185//oxFE...</td>\n      <td>NaN</td>\n      <td>0</td>\n      <td>1</td>\n      <td>Daisy Asquith</td>\n      <td>Not a collection</td>\n    </tr>\n  </tbody>\n</table>\n<p>44691 rows × 23 columns</p>\n</div>"
     },
     "execution_count": 162,
     "metadata": {},
     "output_type": "execute_result"
    }
   ],
   "source": [
    "def is_collections(row):\n",
    "    if isinstance(row['belongs_to_collection'], str):\n",
    "        return 'Part of a collection'\n",
    "    else:\n",
    "        return 'Not a collection'\n",
    "\n",
    "df_analysis['is_collection'] = df.apply(is_collections, axis=1)\n",
    "\n",
    "df_analysis"
   ],
   "metadata": {
    "collapsed": false,
    "ExecuteTime": {
     "end_time": "2024-04-23T19:05:38.691804400Z",
     "start_time": "2024-04-23T19:05:38.065450300Z"
    }
   },
   "execution_count": 162
  },
  {
   "cell_type": "markdown",
   "metadata": {},
   "source": [
    "__Franchise vs. Stand-alone: Average Revenue__"
   ]
  },
  {
   "cell_type": "code",
   "execution_count": 163,
   "metadata": {
    "ExecuteTime": {
     "end_time": "2024-04-23T19:05:38.692937900Z",
     "start_time": "2024-04-23T19:05:38.466377300Z"
    }
   },
   "outputs": [
    {
     "data": {
      "text/plain": "is_collection\nNot a collection         44.742814\nPart of a collection    165.708193\nName: revenue_musd, dtype: float64"
     },
     "execution_count": 163,
     "metadata": {},
     "output_type": "execute_result"
    }
   ],
   "source": [
    "df_analysis.groupby(by=['is_collection']).revenue_musd.mean()"
   ]
  },
  {
   "cell_type": "markdown",
   "metadata": {},
   "source": [
    "__Franchise vs. Stand-alone: Return on Investment / Profitability (median)__"
   ]
  },
  {
   "cell_type": "code",
   "execution_count": 164,
   "metadata": {
    "ExecuteTime": {
     "end_time": "2024-04-23T19:05:39.088128400Z",
     "start_time": "2024-04-23T19:05:38.621566100Z"
    }
   },
   "outputs": [
    {
     "data": {
      "text/plain": "is_collection\nNot a collection        2956.141588\nPart of a collection     424.641690\nName: roi_prof, dtype: float64"
     },
     "execution_count": 164,
     "metadata": {},
     "output_type": "execute_result"
    }
   ],
   "source": [
    "def roi_profit(row):\n",
    "    roi = row['revenue_musd'] / row['budget_musd']\n",
    "    profits = row['revenue_musd'] - row['budget_musd']\n",
    "    if profits == 0:\n",
    "        return None\n",
    "    else: return roi / profits\n",
    "df_analysis['roi_prof'] = df.apply(roi_profit, axis=1)\n",
    "\n",
    "\n",
    "\n",
    "df_analysis.groupby(by='is_collection')['roi_prof'].mean().dropna()\n"
   ]
  },
  {
   "cell_type": "markdown",
   "metadata": {},
   "source": [
    "__Franchise vs. Stand-alone: Average Budget__"
   ]
  },
  {
   "cell_type": "code",
   "execution_count": 165,
   "metadata": {
    "ExecuteTime": {
     "end_time": "2024-04-23T19:05:39.091411900Z",
     "start_time": "2024-04-23T19:05:39.052839100Z"
    }
   },
   "outputs": [
    {
     "data": {
      "text/plain": "is_collection\nNot a collection        18.047741\nPart of a collection    38.319847\nName: budget_musd, dtype: float64"
     },
     "execution_count": 165,
     "metadata": {},
     "output_type": "execute_result"
    }
   ],
   "source": [
    "df_analysis.groupby(by='is_collection')['budget_musd'].mean().dropna()"
   ]
  },
  {
   "cell_type": "markdown",
   "metadata": {},
   "source": [
    "__Franchise vs. Stand-alone: Average Popularity__"
   ]
  },
  {
   "cell_type": "code",
   "execution_count": 166,
   "metadata": {
    "ExecuteTime": {
     "end_time": "2024-04-23T19:05:39.093524100Z",
     "start_time": "2024-04-23T19:05:39.060841800Z"
    }
   },
   "outputs": [
    {
     "data": {
      "text/plain": "is_collection\nNot a collection        2.592726\nPart of a collection    6.245051\nName: popularity, dtype: float64"
     },
     "execution_count": 166,
     "metadata": {},
     "output_type": "execute_result"
    }
   ],
   "source": [
    "df_analysis.groupby(by='is_collection')['popularity'].mean().dropna()"
   ]
  },
  {
   "cell_type": "markdown",
   "metadata": {},
   "source": [
    "__Franchise vs. Stand-alone: Average Rating__"
   ]
  },
  {
   "cell_type": "code",
   "execution_count": 167,
   "metadata": {
    "ExecuteTime": {
     "end_time": "2024-04-23T19:05:39.165486100Z",
     "start_time": "2024-04-23T19:05:39.076354200Z"
    }
   },
   "outputs": [
    {
     "data": {
      "text/plain": "is_collection\nNot a collection        6.008787\nPart of a collection    5.956806\nName: vote_average, dtype: float64"
     },
     "execution_count": 167,
     "metadata": {},
     "output_type": "execute_result"
    }
   ],
   "source": [
    "df_analysis.groupby(by='is_collection')['vote_average'].mean().dropna()"
   ]
  },
  {
   "cell_type": "markdown",
   "metadata": {},
   "source": [
    "## Most Successful Franchises"
   ]
  },
  {
   "cell_type": "markdown",
   "metadata": {},
   "source": [
    "5. __Find__ the __most successful Franchises__ in terms of"
   ]
  },
  {
   "cell_type": "markdown",
   "metadata": {},
   "source": [
    "- __total number of movies__\n",
    "- __total & mean budget__\n",
    "- __total & mean revenue__\n",
    "- __mean rating__"
   ]
  },
  {
   "cell_type": "code",
   "execution_count": 168,
   "metadata": {
    "ExecuteTime": {
     "end_time": "2024-04-23T19:05:39.180734800Z",
     "start_time": "2024-04-23T19:05:39.090325600Z"
    }
   },
   "outputs": [
    {
     "data": {
      "text/plain": "           id                                  title  \\\n0         862                              Toy Story   \n2       15602                       Grumpier Old Men   \n4       11862            Father of the Bride Part II   \n9         710                              GoldenEye   \n12      21032                                  Balto   \n...       ...                                    ...   \n44582   24568             Carry On Follow That Camel   \n44585   19307                       Carry On Camping   \n44596   21251                       Carry On England   \n44598  460135  LEGO DC Super Hero Girls: Brain Drain   \n44609  182030                        The Twin Swords   \n\n                                                 tagline release_date  \\\n0                                                    NaN   1995-10-30   \n2      Still Yelling. Still Fighting. Still Ready for...   1995-12-22   \n4      Just When His World Is Back To Normal... He's ...   1995-02-10   \n9                   No limits. No fears. No substitutes.   1995-11-16   \n12                        Part Dog. Part Wolf. All Hero.   1995-12-22   \n...                                                  ...          ...   \n44582                                                NaN   1967-09-01   \n44585               Fun and games in the great outdoors!   1969-05-29   \n44596                                                NaN   1976-10-01   \n44598                                                NaN   2017-08-30   \n44609                                                NaN   1965-12-22   \n\n                           genres           belongs_to_collection  \\\n0         Animation|Comedy|Family            Toy Story Collection   \n2                  Romance|Comedy       Grumpy Old Men Collection   \n4                          Comedy  Father of the Bride Collection   \n9       Adventure|Action|Thriller           James Bond Collection   \n12     Family|Animation|Adventure                Balto Collection   \n...                           ...                             ...   \n44582                      Comedy         The Carry On Collection   \n44585                      Comedy         The Carry On Collection   \n44596                      Comedy         The Carry On Collection   \n44598                   Animation  DC Super Hero Girls Collection   \n44609              Action|Foreign            Red Lotus Collection   \n\n      original_language  budget_musd  revenue_musd  \\\n0                    en         30.0    373.554033   \n2                    en          NaN           NaN   \n4                    en          NaN     76.578911   \n9                    en         58.0    352.194034   \n12                   en          NaN     11.348324   \n...                 ...          ...           ...   \n44582                en          NaN           NaN   \n44585                en          NaN           NaN   \n44596                en          NaN           NaN   \n44598                en          NaN           NaN   \n44609                zh          NaN           NaN   \n\n                                    production_companies  ... runtime  \\\n0                                Pixar Animation Studios  ...    81.0   \n2                            Warner Bros.|Lancaster Gate  ...   101.0   \n4              Sandollar Productions|Touchstone Pictures  ...   106.0   \n9                         United Artists|Eon Productions  ...   130.0   \n12     Universal Pictures|Amblin Entertainment|Amblim...  ...    78.0   \n...                                                  ...  ...     ...   \n44582                        The Rank Organisation|Adder  ...    95.0   \n44585                              The Rank Organisation  ...    88.0   \n44596                              The Rank Organisation  ...    89.0   \n44598                             Warner Bros. Animation  ...     NaN   \n44609                                      Shaw Brothers  ...    88.0   \n\n                                                overview  \\\n0      Led by Woody, Andy's toys live happily in his ...   \n2      A family wedding reignites the ancient feud be...   \n4      Just when George Banks has recovered from his ...   \n9      James Bond must unmask the mysterious head of ...   \n12     An outcast half-wolf risks his life to prevent...   \n...                                                  ...   \n44582  Bertram Oliphant West (also known as Bo West) ...   \n44585  Sid and Bernie keep having their amorous inten...   \n44596  Captain S. Melly takes over as the new Command...   \n44598  When Supergirl, Wonder Woman, Batgirl, Bumbleb...   \n44609  Kwei Wu happens upon a kidnapping with his wif...   \n\n               spoken_languages  \\\n0                       English   \n2                       English   \n4                       English   \n9       English|Pусский|Español   \n12                      English   \n...                         ...   \n44582                   English   \n44585                   English   \n44596                   English   \n44598  English|Polski|Português   \n44609                       普通话   \n\n                                             poster_path  \\\n0      <img src='http://image.tmdb.org/t/p/w185//uXDf...   \n2      <img src='http://image.tmdb.org/t/p/w185//1FSX...   \n4      <img src='http://image.tmdb.org/t/p/w185//lf9R...   \n9      <img src='http://image.tmdb.org/t/p/w185//z0lj...   \n12     <img src='http://image.tmdb.org/t/p/w185//tpoa...   \n...                                                  ...   \n44582  <img src='http://image.tmdb.org/t/p/w185//8nif...   \n44585  <img src='http://image.tmdb.org/t/p/w185//wqe5...   \n44596  <img src='http://image.tmdb.org/t/p/w185//aXJ8...   \n44598  <img src='http://image.tmdb.org/t/p/w185//8wz6...   \n44609  <img src='http://image.tmdb.org/t/p/w185//nB2w...   \n\n                                                    cast cast_size crew_size  \\\n0      Tom Hanks|Tim Allen|Don Rickles|Jim Varney|Wal...        13       106   \n2      Walter Matthau|Jack Lemmon|Ann-Margret|Sophia ...         7         4   \n4      Steve Martin|Diane Keaton|Martin Short|Kimberl...        12         7   \n9      Pierce Brosnan|Sean Bean|Izabella Scorupco|Fam...        20        46   \n12     Kevin Bacon|Bob Hoskins|Bridget Fonda|Jim Cumm...        13        14   \n...                                                  ...       ...       ...   \n44582  Phil Silvers|Kenneth Williams|Jim Dale|Charles...        15         2   \n44585  Sid James|Charles Hawtrey|Joan Sims|Kenneth Wi...        17         2   \n44596  Kenneth Connor|Windsor Davies|Judy Geeson|Patr...        15         3   \n44598  Grey Griffin|Tara Strong|Anais Fairweather|Tea...        17         6   \n44609  Jimmy Wang Yu|Chin Ping|Ivy Ling Po|Petrina Fu...        14         4   \n\n              director         is_collection  roi_prof  \n0        John Lasseter  Part of a collection  0.036244  \n2        Howard Deutch  Part of a collection       NaN  \n4        Charles Shyer  Part of a collection       NaN  \n9      Martin Campbell  Part of a collection  0.020640  \n12         Simon Wells  Part of a collection       NaN  \n...                ...                   ...       ...  \n44582    Gerald Thomas  Part of a collection       NaN  \n44585    Gerald Thomas  Part of a collection       NaN  \n44596    Gerald Thomas  Part of a collection       NaN  \n44598      Todd Grimes  Part of a collection       NaN  \n44609   Hsu Tseng-Hung  Part of a collection       NaN  \n\n[4463 rows x 24 columns]",
      "text/html": "<div>\n<style scoped>\n    .dataframe tbody tr th:only-of-type {\n        vertical-align: middle;\n    }\n\n    .dataframe tbody tr th {\n        vertical-align: top;\n    }\n\n    .dataframe thead th {\n        text-align: right;\n    }\n</style>\n<table border=\"1\" class=\"dataframe\">\n  <thead>\n    <tr style=\"text-align: right;\">\n      <th></th>\n      <th>id</th>\n      <th>title</th>\n      <th>tagline</th>\n      <th>release_date</th>\n      <th>genres</th>\n      <th>belongs_to_collection</th>\n      <th>original_language</th>\n      <th>budget_musd</th>\n      <th>revenue_musd</th>\n      <th>production_companies</th>\n      <th>...</th>\n      <th>runtime</th>\n      <th>overview</th>\n      <th>spoken_languages</th>\n      <th>poster_path</th>\n      <th>cast</th>\n      <th>cast_size</th>\n      <th>crew_size</th>\n      <th>director</th>\n      <th>is_collection</th>\n      <th>roi_prof</th>\n    </tr>\n  </thead>\n  <tbody>\n    <tr>\n      <th>0</th>\n      <td>862</td>\n      <td>Toy Story</td>\n      <td>NaN</td>\n      <td>1995-10-30</td>\n      <td>Animation|Comedy|Family</td>\n      <td>Toy Story Collection</td>\n      <td>en</td>\n      <td>30.0</td>\n      <td>373.554033</td>\n      <td>Pixar Animation Studios</td>\n      <td>...</td>\n      <td>81.0</td>\n      <td>Led by Woody, Andy's toys live happily in his ...</td>\n      <td>English</td>\n      <td>&lt;img src='http://image.tmdb.org/t/p/w185//uXDf...</td>\n      <td>Tom Hanks|Tim Allen|Don Rickles|Jim Varney|Wal...</td>\n      <td>13</td>\n      <td>106</td>\n      <td>John Lasseter</td>\n      <td>Part of a collection</td>\n      <td>0.036244</td>\n    </tr>\n    <tr>\n      <th>2</th>\n      <td>15602</td>\n      <td>Grumpier Old Men</td>\n      <td>Still Yelling. Still Fighting. Still Ready for...</td>\n      <td>1995-12-22</td>\n      <td>Romance|Comedy</td>\n      <td>Grumpy Old Men Collection</td>\n      <td>en</td>\n      <td>NaN</td>\n      <td>NaN</td>\n      <td>Warner Bros.|Lancaster Gate</td>\n      <td>...</td>\n      <td>101.0</td>\n      <td>A family wedding reignites the ancient feud be...</td>\n      <td>English</td>\n      <td>&lt;img src='http://image.tmdb.org/t/p/w185//1FSX...</td>\n      <td>Walter Matthau|Jack Lemmon|Ann-Margret|Sophia ...</td>\n      <td>7</td>\n      <td>4</td>\n      <td>Howard Deutch</td>\n      <td>Part of a collection</td>\n      <td>NaN</td>\n    </tr>\n    <tr>\n      <th>4</th>\n      <td>11862</td>\n      <td>Father of the Bride Part II</td>\n      <td>Just When His World Is Back To Normal... He's ...</td>\n      <td>1995-02-10</td>\n      <td>Comedy</td>\n      <td>Father of the Bride Collection</td>\n      <td>en</td>\n      <td>NaN</td>\n      <td>76.578911</td>\n      <td>Sandollar Productions|Touchstone Pictures</td>\n      <td>...</td>\n      <td>106.0</td>\n      <td>Just when George Banks has recovered from his ...</td>\n      <td>English</td>\n      <td>&lt;img src='http://image.tmdb.org/t/p/w185//lf9R...</td>\n      <td>Steve Martin|Diane Keaton|Martin Short|Kimberl...</td>\n      <td>12</td>\n      <td>7</td>\n      <td>Charles Shyer</td>\n      <td>Part of a collection</td>\n      <td>NaN</td>\n    </tr>\n    <tr>\n      <th>9</th>\n      <td>710</td>\n      <td>GoldenEye</td>\n      <td>No limits. No fears. No substitutes.</td>\n      <td>1995-11-16</td>\n      <td>Adventure|Action|Thriller</td>\n      <td>James Bond Collection</td>\n      <td>en</td>\n      <td>58.0</td>\n      <td>352.194034</td>\n      <td>United Artists|Eon Productions</td>\n      <td>...</td>\n      <td>130.0</td>\n      <td>James Bond must unmask the mysterious head of ...</td>\n      <td>English|Pусский|Español</td>\n      <td>&lt;img src='http://image.tmdb.org/t/p/w185//z0lj...</td>\n      <td>Pierce Brosnan|Sean Bean|Izabella Scorupco|Fam...</td>\n      <td>20</td>\n      <td>46</td>\n      <td>Martin Campbell</td>\n      <td>Part of a collection</td>\n      <td>0.020640</td>\n    </tr>\n    <tr>\n      <th>12</th>\n      <td>21032</td>\n      <td>Balto</td>\n      <td>Part Dog. Part Wolf. All Hero.</td>\n      <td>1995-12-22</td>\n      <td>Family|Animation|Adventure</td>\n      <td>Balto Collection</td>\n      <td>en</td>\n      <td>NaN</td>\n      <td>11.348324</td>\n      <td>Universal Pictures|Amblin Entertainment|Amblim...</td>\n      <td>...</td>\n      <td>78.0</td>\n      <td>An outcast half-wolf risks his life to prevent...</td>\n      <td>English</td>\n      <td>&lt;img src='http://image.tmdb.org/t/p/w185//tpoa...</td>\n      <td>Kevin Bacon|Bob Hoskins|Bridget Fonda|Jim Cumm...</td>\n      <td>13</td>\n      <td>14</td>\n      <td>Simon Wells</td>\n      <td>Part of a collection</td>\n      <td>NaN</td>\n    </tr>\n    <tr>\n      <th>...</th>\n      <td>...</td>\n      <td>...</td>\n      <td>...</td>\n      <td>...</td>\n      <td>...</td>\n      <td>...</td>\n      <td>...</td>\n      <td>...</td>\n      <td>...</td>\n      <td>...</td>\n      <td>...</td>\n      <td>...</td>\n      <td>...</td>\n      <td>...</td>\n      <td>...</td>\n      <td>...</td>\n      <td>...</td>\n      <td>...</td>\n      <td>...</td>\n      <td>...</td>\n      <td>...</td>\n    </tr>\n    <tr>\n      <th>44582</th>\n      <td>24568</td>\n      <td>Carry On Follow That Camel</td>\n      <td>NaN</td>\n      <td>1967-09-01</td>\n      <td>Comedy</td>\n      <td>The Carry On Collection</td>\n      <td>en</td>\n      <td>NaN</td>\n      <td>NaN</td>\n      <td>The Rank Organisation|Adder</td>\n      <td>...</td>\n      <td>95.0</td>\n      <td>Bertram Oliphant West (also known as Bo West) ...</td>\n      <td>English</td>\n      <td>&lt;img src='http://image.tmdb.org/t/p/w185//8nif...</td>\n      <td>Phil Silvers|Kenneth Williams|Jim Dale|Charles...</td>\n      <td>15</td>\n      <td>2</td>\n      <td>Gerald Thomas</td>\n      <td>Part of a collection</td>\n      <td>NaN</td>\n    </tr>\n    <tr>\n      <th>44585</th>\n      <td>19307</td>\n      <td>Carry On Camping</td>\n      <td>Fun and games in the great outdoors!</td>\n      <td>1969-05-29</td>\n      <td>Comedy</td>\n      <td>The Carry On Collection</td>\n      <td>en</td>\n      <td>NaN</td>\n      <td>NaN</td>\n      <td>The Rank Organisation</td>\n      <td>...</td>\n      <td>88.0</td>\n      <td>Sid and Bernie keep having their amorous inten...</td>\n      <td>English</td>\n      <td>&lt;img src='http://image.tmdb.org/t/p/w185//wqe5...</td>\n      <td>Sid James|Charles Hawtrey|Joan Sims|Kenneth Wi...</td>\n      <td>17</td>\n      <td>2</td>\n      <td>Gerald Thomas</td>\n      <td>Part of a collection</td>\n      <td>NaN</td>\n    </tr>\n    <tr>\n      <th>44596</th>\n      <td>21251</td>\n      <td>Carry On England</td>\n      <td>NaN</td>\n      <td>1976-10-01</td>\n      <td>Comedy</td>\n      <td>The Carry On Collection</td>\n      <td>en</td>\n      <td>NaN</td>\n      <td>NaN</td>\n      <td>The Rank Organisation</td>\n      <td>...</td>\n      <td>89.0</td>\n      <td>Captain S. Melly takes over as the new Command...</td>\n      <td>English</td>\n      <td>&lt;img src='http://image.tmdb.org/t/p/w185//aXJ8...</td>\n      <td>Kenneth Connor|Windsor Davies|Judy Geeson|Patr...</td>\n      <td>15</td>\n      <td>3</td>\n      <td>Gerald Thomas</td>\n      <td>Part of a collection</td>\n      <td>NaN</td>\n    </tr>\n    <tr>\n      <th>44598</th>\n      <td>460135</td>\n      <td>LEGO DC Super Hero Girls: Brain Drain</td>\n      <td>NaN</td>\n      <td>2017-08-30</td>\n      <td>Animation</td>\n      <td>DC Super Hero Girls Collection</td>\n      <td>en</td>\n      <td>NaN</td>\n      <td>NaN</td>\n      <td>Warner Bros. Animation</td>\n      <td>...</td>\n      <td>NaN</td>\n      <td>When Supergirl, Wonder Woman, Batgirl, Bumbleb...</td>\n      <td>English|Polski|Português</td>\n      <td>&lt;img src='http://image.tmdb.org/t/p/w185//8wz6...</td>\n      <td>Grey Griffin|Tara Strong|Anais Fairweather|Tea...</td>\n      <td>17</td>\n      <td>6</td>\n      <td>Todd Grimes</td>\n      <td>Part of a collection</td>\n      <td>NaN</td>\n    </tr>\n    <tr>\n      <th>44609</th>\n      <td>182030</td>\n      <td>The Twin Swords</td>\n      <td>NaN</td>\n      <td>1965-12-22</td>\n      <td>Action|Foreign</td>\n      <td>Red Lotus Collection</td>\n      <td>zh</td>\n      <td>NaN</td>\n      <td>NaN</td>\n      <td>Shaw Brothers</td>\n      <td>...</td>\n      <td>88.0</td>\n      <td>Kwei Wu happens upon a kidnapping with his wif...</td>\n      <td>普通话</td>\n      <td>&lt;img src='http://image.tmdb.org/t/p/w185//nB2w...</td>\n      <td>Jimmy Wang Yu|Chin Ping|Ivy Ling Po|Petrina Fu...</td>\n      <td>14</td>\n      <td>4</td>\n      <td>Hsu Tseng-Hung</td>\n      <td>Part of a collection</td>\n      <td>NaN</td>\n    </tr>\n  </tbody>\n</table>\n<p>4463 rows × 24 columns</p>\n</div>"
     },
     "execution_count": 168,
     "metadata": {},
     "output_type": "execute_result"
    }
   ],
   "source": [
    "df_analysis[df_analysis['is_collection'] == 'Part of a collection']"
   ]
  },
  {
   "cell_type": "markdown",
   "source": [
    "__Total number of movies__"
   ],
   "metadata": {
    "collapsed": false
   }
  },
  {
   "cell_type": "code",
   "outputs": [
    {
     "data": {
      "text/plain": "belongs_to_collection\nThe Bowery Boys                  29\nTotò Collection                  27\nZatôichi: The Blind Swordsman    26\nJames Bond Collection            26\nThe Carry On Collection          25\n                                 ..\nSalt and Pepper Collection        1\nDeadpool Collection               1\nAnt-Man Collection                1\nElvira Collection                 1\nRed Lotus Collection              1\nName: count, Length: 1691, dtype: int64"
     },
     "execution_count": 169,
     "metadata": {},
     "output_type": "execute_result"
    }
   ],
   "source": [
    "df_analysis['belongs_to_collection'].value_counts().dropna()"
   ],
   "metadata": {
    "collapsed": false,
    "ExecuteTime": {
     "end_time": "2024-04-23T19:05:39.200578Z",
     "start_time": "2024-04-23T19:05:39.159713Z"
    }
   },
   "execution_count": 169
  },
  {
   "cell_type": "markdown",
   "source": [
    "__Most budget total__"
   ],
   "metadata": {
    "collapsed": false
   }
  },
  {
   "cell_type": "code",
   "outputs": [
    {
     "data": {
      "text/plain": "belongs_to_collection\nJames Bond Collection                   1539.650000\nHarry Potter Collection                 1280.000000\nPirates of the Caribbean Collection     1250.000000\nThe Fast and the Furious Collection     1009.000000\nX-Men Collection                         983.000000\n                                           ...     \nParanormal Investigations Collection       0.000500\nThe August Underground Collection          0.000300\nTarzan (Johnny Weissmuller series)         0.000095\nThe Prophecy Collection                    0.000008\nPhilo & Clyde Collection                   0.000005\nName: budget_musd, Length: 827, dtype: float64"
     },
     "execution_count": 170,
     "metadata": {},
     "output_type": "execute_result"
    }
   ],
   "source": [
    "df_analysis.dropna(subset=['budget_musd']).groupby(by='belongs_to_collection')['budget_musd'].sum().sort_values(ascending=False)"
   ],
   "metadata": {
    "collapsed": false,
    "ExecuteTime": {
     "end_time": "2024-04-23T19:05:39.292567700Z",
     "start_time": "2024-04-23T19:05:39.197320400Z"
    }
   },
   "execution_count": 170
  },
  {
   "cell_type": "markdown",
   "source": [
    "__Most budget mean__"
   ],
   "metadata": {
    "collapsed": false
   }
  },
  {
   "cell_type": "code",
   "outputs": [
    {
     "data": {
      "text/plain": "belongs_to_collection\nTangled Collection                      260.000000\nThe Avengers Collection                 250.000000\nPirates of the Caribbean Collection     250.000000\nThe Hobbit Collection                   250.000000\nMan of Steel Collection                 237.500000\n                                           ...    \nParanormal Investigations Collection      0.000500\nThe August Underground Collection         0.000300\nTarzan (Johnny Weissmuller series)        0.000095\nThe Prophecy Collection                   0.000008\nPhilo & Clyde Collection                  0.000005\nName: budget_musd, Length: 827, dtype: float64"
     },
     "execution_count": 171,
     "metadata": {},
     "output_type": "execute_result"
    }
   ],
   "source": [
    "df_analysis.dropna(subset=['budget_musd']).groupby(by='belongs_to_collection')['budget_musd'].mean().sort_values(ascending=False)"
   ],
   "metadata": {
    "collapsed": false,
    "ExecuteTime": {
     "end_time": "2024-04-23T19:05:39.353695800Z",
     "start_time": "2024-04-23T19:05:39.279573500Z"
    }
   },
   "execution_count": 171
  },
  {
   "cell_type": "markdown",
   "source": [
    "__Most revenue total__"
   ],
   "metadata": {
    "collapsed": false
   }
  },
  {
   "cell_type": "code",
   "outputs": [
    {
     "data": {
      "text/plain": "belongs_to_collection\nHarry Potter Collection                                   7707.367425\nStar Wars Collection                                      7434.494790\nJames Bond Collection                                     7106.970239\nThe Fast and the Furious Collection                       5125.098793\nPirates of the Caribbean Collection                       4521.576826\n                                                             ...     \nFist of the North Star: The Legends of the True Savior       0.000862\nTiny Times Collection                                        0.000126\nThe Prophecy Collection                                      0.000016\nBats Collection                                              0.000010\nBorsalino Collection                                         0.000003\nName: revenue_musd, Length: 749, dtype: float64"
     },
     "execution_count": 172,
     "metadata": {},
     "output_type": "execute_result"
    }
   ],
   "source": [
    "df_analysis.dropna(subset='revenue_musd').groupby(by='belongs_to_collection')['revenue_musd'].sum().sort_values(ascending=False)"
   ],
   "metadata": {
    "collapsed": false,
    "ExecuteTime": {
     "end_time": "2024-04-23T19:05:39.461876400Z",
     "start_time": "2024-04-23T19:05:39.322743Z"
    }
   },
   "execution_count": 172
  },
  {
   "cell_type": "markdown",
   "source": [
    "__Most revenue mean__"
   ],
   "metadata": {
    "collapsed": false
   }
  },
  {
   "cell_type": "code",
   "outputs": [
    {
     "data": {
      "text/plain": "belongs_to_collection\nAvatar Collection                                         2787.965087\nThe Avengers Collection                                   1462.480802\nFrozen Collection                                         1274.219009\nFinding Nemo Collection                                    984.453213\nThe Hobbit Collection                                      978.507785\n                                                             ...     \nFist of the North Star: The Legends of the True Savior       0.000862\nTiny Times Collection                                        0.000063\nThe Prophecy Collection                                      0.000016\nBats Collection                                              0.000010\nBorsalino Collection                                         0.000003\nName: revenue_musd, Length: 749, dtype: float64"
     },
     "execution_count": 173,
     "metadata": {},
     "output_type": "execute_result"
    }
   ],
   "source": [
    "df_analysis.dropna(subset='revenue_musd').groupby(by='belongs_to_collection')['revenue_musd'].mean().sort_values(ascending=False)"
   ],
   "metadata": {
    "collapsed": false,
    "ExecuteTime": {
     "end_time": "2024-04-23T19:05:39.481609200Z",
     "start_time": "2024-04-23T19:05:39.447052Z"
    }
   },
   "execution_count": 173
  },
  {
   "cell_type": "markdown",
   "source": [
    "__most Rating mean__"
   ],
   "metadata": {
    "collapsed": false
   }
  },
  {
   "cell_type": "code",
   "outputs": [
    {
     "data": {
      "text/plain": "belongs_to_collection\nArgo Collection                        9.3\nBloodfight                             9.0\nKenji Misumi's Trilogy of the Sword    9.0\nDreileben                              9.0\nАлиса в стране чудес (Коллекция)       8.7\n                                      ... \nThe Hobgoblin Collection               2.2\nRichard the Lionheart Collection       1.9\nThe Flicka Collection                  1.9\nSkeleton Key Collection                1.8\nMystery Woman                          0.0\nName: vote_average, Length: 1677, dtype: float64"
     },
     "execution_count": 174,
     "metadata": {},
     "output_type": "execute_result"
    }
   ],
   "source": [
    "df_analysis.dropna(subset='vote_average').groupby(by='belongs_to_collection')['vote_average'].mean().sort_values(ascending=False)"
   ],
   "metadata": {
    "collapsed": false,
    "ExecuteTime": {
     "end_time": "2024-04-23T19:05:39.540832Z",
     "start_time": "2024-04-23T19:05:39.484985200Z"
    }
   },
   "execution_count": 174
  },
  {
   "cell_type": "markdown",
   "metadata": {},
   "source": [
    "## Most Successful Directors"
   ]
  },
  {
   "cell_type": "markdown",
   "metadata": {},
   "source": [
    "6. __Find__ the __most successful Directors__ in terms of"
   ]
  },
  {
   "cell_type": "markdown",
   "metadata": {},
   "source": [
    "- __total number of movies__\n",
    "- __total revenue__\n",
    "- __mean rating__"
   ]
  },
  {
   "cell_type": "markdown",
   "source": [
    "__Direct most numbers of movies__"
   ],
   "metadata": {
    "collapsed": false
   }
  },
  {
   "cell_type": "code",
   "execution_count": 175,
   "metadata": {
    "ExecuteTime": {
     "end_time": "2024-04-23T19:05:39.565301Z",
     "start_time": "2024-04-23T19:05:39.532191700Z"
    }
   },
   "outputs": [
    {
     "data": {
      "text/plain": "director\nJohn Ford           66\nMichael Curtiz      65\nWerner Herzog       54\nAlfred Hitchcock    53\nGeorges Méliès      49\n                    ..\nJason Osder          1\nJohn Alan Simon      1\nJennifer Kent        1\nHiroshi Ando         1\nDaisy Asquith        1\nName: count, Length: 17349, dtype: int64"
     },
     "execution_count": 175,
     "metadata": {},
     "output_type": "execute_result"
    }
   ],
   "source": [
    "df_analysis['director'].value_counts().dropna()"
   ]
  },
  {
   "cell_type": "markdown",
   "source": [
    "__Direct most revenue movies__"
   ],
   "metadata": {
    "collapsed": false
   }
  },
  {
   "cell_type": "code",
   "outputs": [
    {
     "data": {
      "text/plain": "director\nSteven Spielberg    9256.621422\nPeter Jackson       6528.244659\nMichael Bay         6437.466781\nJames Cameron       5900.610310\nDavid Yates         5334.563196\n                       ...     \nPeter Sasdy            0.000001\nWu Tian-Ming           0.000001\nEric Hannah            0.000001\nWilliam Riead          0.000001\nGlen Pitre             0.000001\nName: revenue_musd, Length: 3357, dtype: float64"
     },
     "execution_count": 176,
     "metadata": {},
     "output_type": "execute_result"
    }
   ],
   "source": [
    "df_analysis.dropna(subset=['revenue_musd']).groupby(by=['director'])['revenue_musd'].sum().sort_values(ascending=False)"
   ],
   "metadata": {
    "collapsed": false,
    "ExecuteTime": {
     "end_time": "2024-04-23T19:05:39.624059400Z",
     "start_time": "2024-04-23T19:05:39.555069200Z"
    }
   },
   "execution_count": 176
  },
  {
   "cell_type": "markdown",
   "source": [
    "_Direct most rating movies__"
   ],
   "metadata": {
    "collapsed": false
   }
  },
  {
   "cell_type": "code",
   "outputs": [
    {
     "data": {
      "text/plain": "director\nJohn Ford           421.2\nWerner Herzog       367.5\nAlfred Hitchcock    351.9\nMichael Curtiz      341.9\nWoody Allen         327.9\n                    ...  \nNed Crowley           0.0\nRobert S. Baker       0.0\nAmit Masurkar         0.0\nCrayton Robey         0.0\nAdam Spinks           0.0\nName: vote_average, Length: 16380, dtype: float64"
     },
     "execution_count": 177,
     "metadata": {},
     "output_type": "execute_result"
    }
   ],
   "source": [
    "df_analysis.dropna(subset=['vote_average']).groupby(by=['director'])['vote_average'].sum().sort_values(ascending=False)"
   ],
   "metadata": {
    "collapsed": false,
    "ExecuteTime": {
     "end_time": "2024-04-23T19:05:39.662081Z",
     "start_time": "2024-04-23T19:05:39.574627400Z"
    }
   },
   "execution_count": 177
  }
 ],
 "metadata": {
  "kernelspec": {
   "display_name": "Python 3",
   "language": "python",
   "name": "python3"
  },
  "language_info": {
   "codemirror_mode": {
    "name": "ipython",
    "version": 3
   },
   "file_extension": ".py",
   "mimetype": "text/x-python",
   "name": "python",
   "nbconvert_exporter": "python",
   "pygments_lexer": "ipython3",
   "version": "3.8.10"
  }
 },
 "nbformat": 4,
 "nbformat_minor": 2
}
