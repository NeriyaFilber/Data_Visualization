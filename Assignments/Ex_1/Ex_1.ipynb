{
 "cells": [
  {
   "metadata": {},
   "cell_type": "markdown",
   "source": "# Assignment 1: Summer olympics",
   "id": "7398845a64778e4"
  },
  {
   "metadata": {},
   "cell_type": "markdown",
   "source": "**Notice I used PyCharm IDE and in PyCharm you don't need all the times the command print() to print the output. Also, if you don't used print() the output is a table you can play with.**",
   "id": "ed088c48d9d1887c"
  },
  {
   "cell_type": "code",
   "id": "initial_id",
   "metadata": {
    "collapsed": true,
    "ExecuteTime": {
     "end_time": "2024-08-12T19:34:33.986494Z",
     "start_time": "2024-08-12T19:34:33.974233Z"
    }
   },
   "source": [
    "import pandas as pd\n",
    "pd.__version__"
   ],
   "outputs": [
    {
     "data": {
      "text/plain": [
       "'2.2.1'"
      ]
     },
     "execution_count": 1,
     "metadata": {},
     "output_type": "execute_result"
    }
   ],
   "execution_count": 1
  },
  {
   "metadata": {
    "ExecuteTime": {
     "end_time": "2024-08-12T19:34:57.625510Z",
     "start_time": "2024-08-12T19:34:57.555485Z"
    }
   },
   "cell_type": "code",
   "source": "summer = pd.read_csv('summer.csv')",
   "id": "9db4b712fadd472c",
   "outputs": [],
   "execution_count": 3
  },
  {
   "metadata": {
    "ExecuteTime": {
     "end_time": "2024-08-06T06:59:13.528314Z",
     "start_time": "2024-08-06T06:59:13.513390Z"
    }
   },
   "cell_type": "code",
   "source": "summer",
   "id": "71be9db30e2aa601",
   "outputs": [
    {
     "data": {
      "text/plain": [
       "       Year    City      Sport           Discipline  \\\n",
       "0      1896  Athens   Aquatics             Swimming   \n",
       "1      1896  Athens   Aquatics             Swimming   \n",
       "2      1896  Athens   Aquatics             Swimming   \n",
       "3      1896  Athens   Aquatics             Swimming   \n",
       "4      1896  Athens   Aquatics             Swimming   \n",
       "...     ...     ...        ...                  ...   \n",
       "31160  2012  London  Wrestling  Wrestling Freestyle   \n",
       "31161  2012  London  Wrestling  Wrestling Freestyle   \n",
       "31162  2012  London  Wrestling  Wrestling Freestyle   \n",
       "31163  2012  London  Wrestling  Wrestling Freestyle   \n",
       "31164  2012  London  Wrestling  Wrestling Freestyle   \n",
       "\n",
       "                         Athlete Country Gender                       Event  \\\n",
       "0                  HAJOS, Alfred     HUN    Men              100M Freestyle   \n",
       "1               HERSCHMANN, Otto     AUT    Men              100M Freestyle   \n",
       "2              DRIVAS, Dimitrios     GRE    Men  100M Freestyle For Sailors   \n",
       "3             MALOKINIS, Ioannis     GRE    Men  100M Freestyle For Sailors   \n",
       "4             CHASAPIS, Spiridon     GRE    Men  100M Freestyle For Sailors   \n",
       "...                          ...     ...    ...                         ...   \n",
       "31160         JANIKOWSKI, Damian     POL    Men                    Wg 84 KG   \n",
       "31161  REZAEI, Ghasem Gholamreza     IRI    Men                    Wg 96 KG   \n",
       "31162             TOTROV, Rustam     RUS    Men                    Wg 96 KG   \n",
       "31163          ALEKSANYAN, Artur     ARM    Men                    Wg 96 KG   \n",
       "31164             LIDBERG, Jimmy     SWE    Men                    Wg 96 KG   \n",
       "\n",
       "        Medal  \n",
       "0        Gold  \n",
       "1      Silver  \n",
       "2      Bronze  \n",
       "3        Gold  \n",
       "4      Silver  \n",
       "...       ...  \n",
       "31160  Bronze  \n",
       "31161    Gold  \n",
       "31162  Silver  \n",
       "31163  Bronze  \n",
       "31164  Bronze  \n",
       "\n",
       "[31165 rows x 9 columns]"
      ],
      "text/html": [
       "<div>\n",
       "<style scoped>\n",
       "    .dataframe tbody tr th:only-of-type {\n",
       "        vertical-align: middle;\n",
       "    }\n",
       "\n",
       "    .dataframe tbody tr th {\n",
       "        vertical-align: top;\n",
       "    }\n",
       "\n",
       "    .dataframe thead th {\n",
       "        text-align: right;\n",
       "    }\n",
       "</style>\n",
       "<table border=\"1\" class=\"dataframe\">\n",
       "  <thead>\n",
       "    <tr style=\"text-align: right;\">\n",
       "      <th></th>\n",
       "      <th>Year</th>\n",
       "      <th>City</th>\n",
       "      <th>Sport</th>\n",
       "      <th>Discipline</th>\n",
       "      <th>Athlete</th>\n",
       "      <th>Country</th>\n",
       "      <th>Gender</th>\n",
       "      <th>Event</th>\n",
       "      <th>Medal</th>\n",
       "    </tr>\n",
       "  </thead>\n",
       "  <tbody>\n",
       "    <tr>\n",
       "      <th>0</th>\n",
       "      <td>1896</td>\n",
       "      <td>Athens</td>\n",
       "      <td>Aquatics</td>\n",
       "      <td>Swimming</td>\n",
       "      <td>HAJOS, Alfred</td>\n",
       "      <td>HUN</td>\n",
       "      <td>Men</td>\n",
       "      <td>100M Freestyle</td>\n",
       "      <td>Gold</td>\n",
       "    </tr>\n",
       "    <tr>\n",
       "      <th>1</th>\n",
       "      <td>1896</td>\n",
       "      <td>Athens</td>\n",
       "      <td>Aquatics</td>\n",
       "      <td>Swimming</td>\n",
       "      <td>HERSCHMANN, Otto</td>\n",
       "      <td>AUT</td>\n",
       "      <td>Men</td>\n",
       "      <td>100M Freestyle</td>\n",
       "      <td>Silver</td>\n",
       "    </tr>\n",
       "    <tr>\n",
       "      <th>2</th>\n",
       "      <td>1896</td>\n",
       "      <td>Athens</td>\n",
       "      <td>Aquatics</td>\n",
       "      <td>Swimming</td>\n",
       "      <td>DRIVAS, Dimitrios</td>\n",
       "      <td>GRE</td>\n",
       "      <td>Men</td>\n",
       "      <td>100M Freestyle For Sailors</td>\n",
       "      <td>Bronze</td>\n",
       "    </tr>\n",
       "    <tr>\n",
       "      <th>3</th>\n",
       "      <td>1896</td>\n",
       "      <td>Athens</td>\n",
       "      <td>Aquatics</td>\n",
       "      <td>Swimming</td>\n",
       "      <td>MALOKINIS, Ioannis</td>\n",
       "      <td>GRE</td>\n",
       "      <td>Men</td>\n",
       "      <td>100M Freestyle For Sailors</td>\n",
       "      <td>Gold</td>\n",
       "    </tr>\n",
       "    <tr>\n",
       "      <th>4</th>\n",
       "      <td>1896</td>\n",
       "      <td>Athens</td>\n",
       "      <td>Aquatics</td>\n",
       "      <td>Swimming</td>\n",
       "      <td>CHASAPIS, Spiridon</td>\n",
       "      <td>GRE</td>\n",
       "      <td>Men</td>\n",
       "      <td>100M Freestyle For Sailors</td>\n",
       "      <td>Silver</td>\n",
       "    </tr>\n",
       "    <tr>\n",
       "      <th>...</th>\n",
       "      <td>...</td>\n",
       "      <td>...</td>\n",
       "      <td>...</td>\n",
       "      <td>...</td>\n",
       "      <td>...</td>\n",
       "      <td>...</td>\n",
       "      <td>...</td>\n",
       "      <td>...</td>\n",
       "      <td>...</td>\n",
       "    </tr>\n",
       "    <tr>\n",
       "      <th>31160</th>\n",
       "      <td>2012</td>\n",
       "      <td>London</td>\n",
       "      <td>Wrestling</td>\n",
       "      <td>Wrestling Freestyle</td>\n",
       "      <td>JANIKOWSKI, Damian</td>\n",
       "      <td>POL</td>\n",
       "      <td>Men</td>\n",
       "      <td>Wg 84 KG</td>\n",
       "      <td>Bronze</td>\n",
       "    </tr>\n",
       "    <tr>\n",
       "      <th>31161</th>\n",
       "      <td>2012</td>\n",
       "      <td>London</td>\n",
       "      <td>Wrestling</td>\n",
       "      <td>Wrestling Freestyle</td>\n",
       "      <td>REZAEI, Ghasem Gholamreza</td>\n",
       "      <td>IRI</td>\n",
       "      <td>Men</td>\n",
       "      <td>Wg 96 KG</td>\n",
       "      <td>Gold</td>\n",
       "    </tr>\n",
       "    <tr>\n",
       "      <th>31162</th>\n",
       "      <td>2012</td>\n",
       "      <td>London</td>\n",
       "      <td>Wrestling</td>\n",
       "      <td>Wrestling Freestyle</td>\n",
       "      <td>TOTROV, Rustam</td>\n",
       "      <td>RUS</td>\n",
       "      <td>Men</td>\n",
       "      <td>Wg 96 KG</td>\n",
       "      <td>Silver</td>\n",
       "    </tr>\n",
       "    <tr>\n",
       "      <th>31163</th>\n",
       "      <td>2012</td>\n",
       "      <td>London</td>\n",
       "      <td>Wrestling</td>\n",
       "      <td>Wrestling Freestyle</td>\n",
       "      <td>ALEKSANYAN, Artur</td>\n",
       "      <td>ARM</td>\n",
       "      <td>Men</td>\n",
       "      <td>Wg 96 KG</td>\n",
       "      <td>Bronze</td>\n",
       "    </tr>\n",
       "    <tr>\n",
       "      <th>31164</th>\n",
       "      <td>2012</td>\n",
       "      <td>London</td>\n",
       "      <td>Wrestling</td>\n",
       "      <td>Wrestling Freestyle</td>\n",
       "      <td>LIDBERG, Jimmy</td>\n",
       "      <td>SWE</td>\n",
       "      <td>Men</td>\n",
       "      <td>Wg 96 KG</td>\n",
       "      <td>Bronze</td>\n",
       "    </tr>\n",
       "  </tbody>\n",
       "</table>\n",
       "<p>31165 rows × 9 columns</p>\n",
       "</div>"
      ]
     },
     "execution_count": 60,
     "metadata": {},
     "output_type": "execute_result"
    }
   ],
   "execution_count": 60
  },
  {
   "metadata": {
    "ExecuteTime": {
     "end_time": "2024-08-06T06:59:13.557527Z",
     "start_time": "2024-08-06T06:59:13.528314Z"
    }
   },
   "cell_type": "code",
   "source": "summer.describe()",
   "id": "e8a7f442dec033c5",
   "outputs": [
    {
     "data": {
      "text/plain": [
       "               Year\n",
       "count  31165.000000\n",
       "mean    1970.482785\n",
       "std       33.158416\n",
       "min     1896.000000\n",
       "25%     1948.000000\n",
       "50%     1980.000000\n",
       "75%     2000.000000\n",
       "max     2012.000000"
      ],
      "text/html": [
       "<div>\n",
       "<style scoped>\n",
       "    .dataframe tbody tr th:only-of-type {\n",
       "        vertical-align: middle;\n",
       "    }\n",
       "\n",
       "    .dataframe tbody tr th {\n",
       "        vertical-align: top;\n",
       "    }\n",
       "\n",
       "    .dataframe thead th {\n",
       "        text-align: right;\n",
       "    }\n",
       "</style>\n",
       "<table border=\"1\" class=\"dataframe\">\n",
       "  <thead>\n",
       "    <tr style=\"text-align: right;\">\n",
       "      <th></th>\n",
       "      <th>Year</th>\n",
       "    </tr>\n",
       "  </thead>\n",
       "  <tbody>\n",
       "    <tr>\n",
       "      <th>count</th>\n",
       "      <td>31165.000000</td>\n",
       "    </tr>\n",
       "    <tr>\n",
       "      <th>mean</th>\n",
       "      <td>1970.482785</td>\n",
       "    </tr>\n",
       "    <tr>\n",
       "      <th>std</th>\n",
       "      <td>33.158416</td>\n",
       "    </tr>\n",
       "    <tr>\n",
       "      <th>min</th>\n",
       "      <td>1896.000000</td>\n",
       "    </tr>\n",
       "    <tr>\n",
       "      <th>25%</th>\n",
       "      <td>1948.000000</td>\n",
       "    </tr>\n",
       "    <tr>\n",
       "      <th>50%</th>\n",
       "      <td>1980.000000</td>\n",
       "    </tr>\n",
       "    <tr>\n",
       "      <th>75%</th>\n",
       "      <td>2000.000000</td>\n",
       "    </tr>\n",
       "    <tr>\n",
       "      <th>max</th>\n",
       "      <td>2012.000000</td>\n",
       "    </tr>\n",
       "  </tbody>\n",
       "</table>\n",
       "</div>"
      ]
     },
     "execution_count": 61,
     "metadata": {},
     "output_type": "execute_result"
    }
   ],
   "execution_count": 61
  },
  {
   "metadata": {
    "ExecuteTime": {
     "end_time": "2024-08-06T06:59:13.578034Z",
     "start_time": "2024-08-06T06:59:13.557527Z"
    }
   },
   "cell_type": "code",
   "source": "summer.info()",
   "id": "64cc6f9b2ea890c6",
   "outputs": [
    {
     "name": "stdout",
     "output_type": "stream",
     "text": [
      "<class 'pandas.core.frame.DataFrame'>\n",
      "RangeIndex: 31165 entries, 0 to 31164\n",
      "Data columns (total 9 columns):\n",
      " #   Column      Non-Null Count  Dtype \n",
      "---  ------      --------------  ----- \n",
      " 0   Year        31165 non-null  int64 \n",
      " 1   City        31165 non-null  object\n",
      " 2   Sport       31165 non-null  object\n",
      " 3   Discipline  31165 non-null  object\n",
      " 4   Athlete     31165 non-null  object\n",
      " 5   Country     31161 non-null  object\n",
      " 6   Gender      31165 non-null  object\n",
      " 7   Event       31165 non-null  object\n",
      " 8   Medal       31165 non-null  object\n",
      "dtypes: int64(1), object(8)\n",
      "memory usage: 2.1+ MB\n"
     ]
    }
   ],
   "execution_count": 62
  },
  {
   "metadata": {
    "ExecuteTime": {
     "end_time": "2024-08-06T06:59:13.594736Z",
     "start_time": "2024-08-06T06:59:13.578034Z"
    }
   },
   "cell_type": "code",
   "source": "summer.Athlete",
   "id": "ac0b2a07a29a2768",
   "outputs": [
    {
     "data": {
      "text/plain": [
       "0                    HAJOS, Alfred\n",
       "1                 HERSCHMANN, Otto\n",
       "2                DRIVAS, Dimitrios\n",
       "3               MALOKINIS, Ioannis\n",
       "4               CHASAPIS, Spiridon\n",
       "                   ...            \n",
       "31160           JANIKOWSKI, Damian\n",
       "31161    REZAEI, Ghasem Gholamreza\n",
       "31162               TOTROV, Rustam\n",
       "31163            ALEKSANYAN, Artur\n",
       "31164               LIDBERG, Jimmy\n",
       "Name: Athlete, Length: 31165, dtype: object"
      ]
     },
     "execution_count": 63,
     "metadata": {},
     "output_type": "execute_result"
    }
   ],
   "execution_count": 63
  },
  {
   "metadata": {
    "ExecuteTime": {
     "end_time": "2024-08-06T06:59:13.609059Z",
     "start_time": "2024-08-06T06:59:13.594736Z"
    }
   },
   "cell_type": "code",
   "source": "summer.shape",
   "id": "b739b68ddc84f8fa",
   "outputs": [
    {
     "data": {
      "text/plain": [
       "(31165, 9)"
      ]
     },
     "execution_count": 64,
     "metadata": {},
     "output_type": "execute_result"
    }
   ],
   "execution_count": 64
  },
  {
   "metadata": {},
   "cell_type": "markdown",
   "source": "## Questions:",
   "id": "35835601a6966935"
  },
  {
   "metadata": {},
   "cell_type": "markdown",
   "source": "### Question 1:",
   "id": "658ab24499250e52"
  },
  {
   "metadata": {},
   "cell_type": "markdown",
   "source": "- 1. Which country won the largest number of Bronze medals ever?",
   "id": "6a6ce364514d7f48"
  },
  {
   "metadata": {
    "ExecuteTime": {
     "end_time": "2024-08-06T06:59:13.627519Z",
     "start_time": "2024-08-06T06:59:13.609059Z"
    }
   },
   "cell_type": "code",
   "source": "summer[summer.Medal == 'Bronze'].groupby(by =[\"Country\"]).Medal.count().sort_values(ascending=False)",
   "id": "f9a37e89c4dc47ab",
   "outputs": [
    {
     "data": {
      "text/plain": [
       "Country\n",
       "USA    1098\n",
       "URS     584\n",
       "GBR     553\n",
       "FRA     497\n",
       "GER     475\n",
       "       ... \n",
       "MKD       1\n",
       "DJI       1\n",
       "SYR       1\n",
       "DOM       1\n",
       "GUY       1\n",
       "Name: Medal, Length: 123, dtype: int64"
      ]
     },
     "execution_count": 65,
     "metadata": {},
     "output_type": "execute_result"
    }
   ],
   "execution_count": 65
  },
  {
   "metadata": {},
   "cell_type": "markdown",
   "source": "the answer is: USA and they won 1098 bronze medals over the years.",
   "id": "2991098c3e1a1b23"
  },
  {
   "metadata": {},
   "cell_type": "markdown",
   "source": "### Question 2:",
   "id": "336c27cba6e50864"
  },
  {
   "metadata": {},
   "cell_type": "markdown",
   "source": "- 2. How many athletes participated in the 2012 Olympics?",
   "id": "514109dab1021cf8"
  },
  {
   "metadata": {
    "ExecuteTime": {
     "end_time": "2024-08-06T06:59:13.639094Z",
     "start_time": "2024-08-06T06:59:13.627519Z"
    }
   },
   "cell_type": "code",
   "source": [
    "(summer[summer['Year']==2012].drop_duplicates(subset=['Athlete'], keep='first')\n",
    ".Athlete.count())"
   ],
   "id": "a9cf4700553ba9f3",
   "outputs": [
    {
     "data": {
      "text/plain": [
       "1777"
      ]
     },
     "execution_count": 66,
     "metadata": {},
     "output_type": "execute_result"
    }
   ],
   "execution_count": 66
  },
  {
   "metadata": {
    "ExecuteTime": {
     "end_time": "2024-08-06T06:59:13.652023Z",
     "start_time": "2024-08-06T06:59:13.639094Z"
    }
   },
   "cell_type": "code",
   "source": "summer[summer['Year'] == 2012]['Athlete'].nunique()",
   "id": "e5f29970b966409d",
   "outputs": [
    {
     "data": {
      "text/plain": [
       "1777"
      ]
     },
     "execution_count": 67,
     "metadata": {},
     "output_type": "execute_result"
    }
   ],
   "execution_count": 67
  },
  {
   "metadata": {},
   "cell_type": "markdown",
   "source": "The number of athletes participate in 2012 Olympics is 1777 athlete",
   "id": "69bc3383f4739066"
  },
  {
   "metadata": {},
   "cell_type": "markdown",
   "source": "### Question 3:",
   "id": "879cb98ba1acec36"
  },
  {
   "metadata": {},
   "cell_type": "markdown",
   "source": "- 3. List all the sports in which the United States has won at least one gold medal.",
   "id": "6a9c95068404441b"
  },
  {
   "metadata": {
    "ExecuteTime": {
     "end_time": "2024-08-06T06:59:13.671541Z",
     "start_time": "2024-08-06T06:59:13.652023Z"
    }
   },
   "cell_type": "code",
   "source": "summer[(summer['Medal'] == 'Gold') & (summer['Country'] == 'USA')]['Event'].unique()",
   "id": "7c4ed43f0c5f5ab0",
   "outputs": [
    {
     "data": {
      "text/plain": [
       "array(['100M', '110M Hurdles', '400M', 'Discus Throw', 'High Jump',\n",
       "       'Long Jump', 'Pole Vault', 'Shot Put', 'Triple Jump',\n",
       "       '25M Army Pistol', '50M Pistol (60 Shots)', '200M', '200M Hurdles',\n",
       "       '400M Hurdles', '60M', 'Hammer Throw', 'High Jump, Standing',\n",
       "       'Long Jump, Standing', 'Triple Jump, Standing', 'Individual',\n",
       "       'Eight With Coxswain (8+)', '10M Platform', 'Plunge For Distance',\n",
       "       '200M Freestyle', '400M Freestyle', '4X50Y Freestyle Relay',\n",
       "       'Double American Round (60Y - 50Y - 40Y)',\n",
       "       'Double Columbia Round (50Y - 40Y - 30Y)',\n",
       "       'Double National Round (60Y - 50Y)',\n",
       "       'Double York Round (100Y - 80Y - 60Y)', 'Team Round 60Y',\n",
       "       'Teams Fita Round', '1500M', '3000M Steeplechase', '4Miles Team',\n",
       "       '800M', 'Marathon', 'Triathlon (Long Jump / Shot Put / 100 Yards)',\n",
       "       '- 47.63KG (Flyweight)', '+ 71.67KG (Heavyweight)',\n",
       "       '47.63 - 52.16KG (Bantamweight)', '52.16 - 56.7KG (Featherweight)',\n",
       "       '56.7 - 61.24KG (Lightweight)', '61.24 - 65.77KG (Welterweight)',\n",
       "       '65.77 - 71.67KG (Middleweight)', '1 Mile (1609.3M)',\n",
       "       '1/2 Mile (804.7M)', '1/3 Mile (536.5M)', '1/4 Mile (402.3M)',\n",
       "       '2 Miles (3.218KM)', '25 Miles (40.232KM)', '5 Miles (8.046KM)',\n",
       "       'Football', 'Team', 'Club Swinging', 'Combined 4 Events',\n",
       "       'Horizontal Bar', 'Individual All-Round', 'Parallel Bars',\n",
       "       'Pommel Horse', 'Rings', 'Rope Climbing', 'Team Competition',\n",
       "       'Vault', 'Coxless Pair (2-)', 'Double Sculls (2X)',\n",
       "       'Four Without Coxswain (4-)', 'Single Sculls (1X)', 'Doubles',\n",
       "       'Singles', 'Tug Of War', 'All-Around Dumbbell Contest',\n",
       "       '- 47.6KG (Light-Flyweight)', '47.6 - 52.16KG (Flyweight)',\n",
       "       '52.16 - 56.7KG (Bantamweight)', '56.7 - 61.23KG (Featherweight)',\n",
       "       '61.23 - 65.77KG (Lightweight)', '65.77 - 71.67KG (Welterweight)',\n",
       "       '100M Freestyle', '4X400M Relay', 'Discus Throw Ancient Style',\n",
       "       '100M Running Deer, Double Shots', '50Y Army Pistol, Team',\n",
       "       'Rifle, Team', '- 54KG (Bantamweight)',\n",
       "       '54 - 60.3KG (Featherweight)', '100M Backstroke', '3000M Team',\n",
       "       'Decathlon', 'Pentathlon', 'Shot Put, Both Hands',\n",
       "       '25M Rapid Fire Pistol (60 Shots)', '50M Army Pistol, Team',\n",
       "       '50M Rifle Prone (60 Shots)', 'Clay Pigeons, Team',\n",
       "       'Trap (125 Targets)', '3M Springboard', '1500M Freestyle',\n",
       "       '4X100M Freestyle Relay', '4X200M Freestyle Relay', '4X100M Relay',\n",
       "       '56LB Weight Throw (25.4KG)', '- 50.8KG (Flyweight)',\n",
       "       '57.15 - 61.24KG (Lightweight)',\n",
       "       '72.57 - 79.38KG (Light-Heavyweight)', 'Rugby',\n",
       "       '300+600M Free Rifle, Team, Prone',\n",
       "       '300M Free Rifle 3 Positions (3X40 Shots)',\n",
       "       '300M Free Rifle, Prone, Team', '30M Army Pistol, Team',\n",
       "       '50M Small Bore Rifle, Standing, Individual',\n",
       "       '50M Small Bore Rifle, Team', '600M Free Rifle, Team',\n",
       "       'Army Rifle, 300M, Standing', 'Free Rifle, Team',\n",
       "       '- 60KG (Featherweight)', '200M Breaststroke',\n",
       "       '53.52 - 57.15KG (Featherweight)',\n",
       "       '100M Running Deer, Single Shots',\n",
       "       '400, 600, 800M Free Rifle, Team', '600M Free Rifle, Individual',\n",
       "       'Mixed Doubles', '+ 87KG (Heavyweight)',\n",
       "       '56 - 61KG (Featherweight)', '61 - 66KG (Lightweight)',\n",
       "       '79 - 87KG (Light-Heavyweight)', '80M Hurdles', 'Javelin Throw',\n",
       "       '61.24 - 66.68KG (Welterweight)', '66.68 - 72.57KG (Middleweight)',\n",
       "       'Indian Clubs', 'Tumbling', 'Pair-Oared Shell With Coxswain (2+)',\n",
       "       '8M', 'Two-Person Keelboat Open (Star)', '- 56KG (Bantamweight)',\n",
       "       '66 - 72KG (Welterweight)', 'Basketball',\n",
       "       '- 60KG, Total (Featherweight)', 'C-2 10000M',\n",
       "       'Four-Oared Shell With Coxswain (4-)', '6M',\n",
       "       '- 56KG, Total (Bantamweight)', '+ 82.5KG, Total (Heavyweight)',\n",
       "       '67.5 - 75KG, Total (Middleweight)',\n",
       "       '75 - 82.5KG, Total (Light-Heavyweight)',\n",
       "       '73 - 79KG (Middleweight)', '- 51KG (Flyweight)',\n",
       "       '+ 81KG (Heavyweight)', '60 - 63.5KG (Light-Welterweight)',\n",
       "       '71-75KG', '75 - 81KG (Light-Heavyweight)', 'C-1 10000M', '5.5M',\n",
       "       '+ 90KG, Total (Heavyweight)', '60 - 67.5KG, Total (Lightweight)',\n",
       "       '82.5 - 90KG, Total (Middle-Heavyweight)',\n",
       "       '67 - 73KG (Welterweight)', '100M Butterfly', '200M Butterfly',\n",
       "       '56 - 60KG, Total (Featherweight)', '4X100M Medley Relay',\n",
       "       '67 - 71KG (Light-Middleweight)', '52 - 57KG (Bantamweight)',\n",
       "       '63 - 67KG (Lightweight)', '200M Backstroke',\n",
       "       '400M Individual Medley', '10000M', '5000M',\n",
       "       '50M Rifle 3 Positions (3X40 Shots)', '100M Breaststroke',\n",
       "       '200M Individual Medley', '800M Freestyle',\n",
       "       '57 - 60KG (Lightweight)', 'Dragon', 'Individual Fita Round',\n",
       "       'Fleet/Match Race Keelboat Open (Soling)',\n",
       "       '62 - 68KG (Lightweight)', '68 - 74KG (Welterweight)',\n",
       "       '82 - 90KG (Light-Heavyweight)', '48 - 51KG (Flyweight)',\n",
       "       '74 - 82KG (Middleweight)', 'Duet', 'Solo', '100M Hurdles',\n",
       "       '- 48KG (Light-Flyweight)', '+ 91KG (Super Heavyweight)',\n",
       "       '54 - 57KG (Featherweight)', '63.5 - 67KG (Welterweight)',\n",
       "       '81 - 91KG (Heavyweight)', 'Individual Road Race',\n",
       "       'Individual Pursuit', 'Sprint Indivual', 'Uneven Bars',\n",
       "       'Flying Dutchman', '10M Air Rifle (40 Shots)',\n",
       "       'Skeet (125 Targets)', 'Volleyball', '+ 100KG (Super Heavyweight)',\n",
       "       '57 - 62KG (Featherweight)', '90 - 100KG (Heavyweight)',\n",
       "       '50M Freestyle', 'Heptathlon', '51 - 54KG (Bantamweight)',\n",
       "       'K-1 1000M (Kayak Single)', 'K-2 1000M (Kayak Double)',\n",
       "       '470 - Two Person Dinghy', 'C-2 (Canoe Double)',\n",
       "       '50M Rifle 3 Positions (3X20 Shots)',\n",
       "       '100 - 130KG (Super Heavyweight)',\n",
       "       'Individual (Fita Olympic Round - 70M)',\n",
       "       'Team (Fita Olympic Round - 70M)', 'Balance Beam',\n",
       "       'Double Trap (120 Targets)', 'Softball', 'Beach Volleyball',\n",
       "       'Baseball', '58 - 68 KG', '48KG', '69 - 76KG', '97 - 130KG',\n",
       "       'Individual Time Trial', 'Sabre Individual', '68 - 80 KG',\n",
       "       '74 - 84KG', 'Laser Radial - One Person Dinghy',\n",
       "       'Double Trap (150 Targets)', '- 55KG', '200M Medley',\n",
       "       '400M Medley', '4X100M Medley', '4X200M Freestyle', 'Water Polo',\n",
       "       '75 KG', 'Time Trial', 'Floor Exercises', 'Individual All-Around',\n",
       "       '70 - 78KG', 'Eight With Coxswain', '50M Rifle 3 Positions',\n",
       "       'Skeet', 'Wf 74 KG', 'Wf 96 KG'], dtype=object)"
      ]
     },
     "execution_count": 68,
     "metadata": {},
     "output_type": "execute_result"
    }
   ],
   "execution_count": 68
  },
  {
   "metadata": {
    "ExecuteTime": {
     "end_time": "2024-08-06T06:59:13.693506Z",
     "start_time": "2024-08-06T06:59:13.671541Z"
    }
   },
   "cell_type": "code",
   "source": [
    "olympic_data = summer\n",
    "print(\"This is all the sports USA won at least one gold medal\")\n",
    "olympic_data[(olympic_data['Country'] == 'USA') & (olympic_data['Medal'] == 'Gold')][['Sport', 'Event']].drop_duplicates().groupby('Sport')['Event'].value_counts()"
   ],
   "id": "a57ff120b6aadd34",
   "outputs": [
    {
     "name": "stdout",
     "output_type": "stream",
     "text": [
      "This is all the sports USA won at least one gold medal\n"
     ]
    },
    {
     "data": {
      "text/plain": [
       "Sport      Event                        \n",
       "Aquatics   100M Backstroke                  1\n",
       "           100M Breaststroke                1\n",
       "           100M Butterfly                   1\n",
       "           100M Freestyle                   1\n",
       "           10M Platform                     1\n",
       "                                           ..\n",
       "Wrestling  82 - 90KG (Light-Heavyweight)    1\n",
       "           90 - 100KG (Heavyweight)         1\n",
       "           97 - 130KG                       1\n",
       "           Wf 74 KG                         1\n",
       "           Wf 96 KG                         1\n",
       "Name: count, Length: 250, dtype: int64"
      ]
     },
     "execution_count": 69,
     "metadata": {},
     "output_type": "execute_result"
    }
   ],
   "execution_count": 69
  },
  {
   "metadata": {},
   "cell_type": "markdown",
   "source": "- Notice we refer to sports and also to event because me more interesting the event more than sport.",
   "id": "50923fbcc10ec52f"
  },
  {
   "metadata": {},
   "cell_type": "markdown",
   "source": "### Question 4:",
   "id": "7321736dee7a58f0"
  },
  {
   "metadata": {},
   "cell_type": "markdown",
   "source": "- 4. Which male athlete has won the most medals in a single edition of the Olympics?",
   "id": "7b73ca506e20a42b"
  },
  {
   "metadata": {
    "ExecuteTime": {
     "end_time": "2024-08-06T06:59:13.730024Z",
     "start_time": "2024-08-06T06:59:13.693506Z"
    }
   },
   "cell_type": "code",
   "source": "(summer[summer['Gender'] == 'Men'].groupby(by=['Year', 'Athlete']).Medal.count().sort_values(ascending=False))",
   "id": "d9d8cef7a44eeff3",
   "outputs": [
    {
     "data": {
      "text/plain": [
       "Year  Athlete              \n",
       "1980  DITYATIN, Aleksandr      8\n",
       "2004  PHELPS, Michael          8\n",
       "2008  PHELPS, Michael          8\n",
       "1920  LEE, Willis              7\n",
       "1972  SPITZ, Mark              7\n",
       "                              ..\n",
       "1956  ELDER, Henry James       1\n",
       "      EINARSSON, Vilhjalmur    1\n",
       "      EGRIBAS, Dursan Ali      1\n",
       "      DZENELADZE, Roman        1\n",
       "2012  ZOU, Shiming             1\n",
       "Name: Medal, Length: 20463, dtype: int64"
      ]
     },
     "execution_count": 70,
     "metadata": {},
     "output_type": "execute_result"
    }
   ],
   "execution_count": 70
  },
  {
   "metadata": {},
   "cell_type": "markdown",
   "source": [
    "The two male athletes that won the most medals in single edition of the olympics is:\n",
    "   1. Michael Phelps (In 2004 **and** in 2008)\n",
    "   2. Aleksandr Dityatin (in 1980)     "
   ],
   "id": "878ae3df243e9827"
  },
  {
   "metadata": {},
   "cell_type": "markdown",
   "source": "### Question 5:",
   "id": "24a52a0c4b5fc1a4"
  },
  {
   "metadata": {},
   "cell_type": "markdown",
   "source": "- 5. How many different countries have participated in the Olympics since 2000?",
   "id": "72a6cd9500698a7b"
  },
  {
   "metadata": {
    "ExecuteTime": {
     "end_time": "2024-08-06T06:59:13.739855Z",
     "start_time": "2024-08-06T06:59:13.730024Z"
    }
   },
   "cell_type": "code",
   "source": "summer[summer['Year'] >= 2000]['Country'].nunique()",
   "id": "4e0e7a92e11e88a1",
   "outputs": [
    {
     "data": {
      "text/plain": [
       "113"
      ]
     },
     "execution_count": 71,
     "metadata": {},
     "output_type": "execute_result"
    }
   ],
   "execution_count": 71
  },
  {
   "metadata": {},
   "cell_type": "markdown",
   "source": "The number of countries participate in the Olympics from 2000 is: 113 countries.",
   "id": "24937c78fe7c5354"
  },
  {
   "metadata": {},
   "cell_type": "markdown",
   "source": "### Question 6:",
   "id": "116edacb1f3e305"
  },
  {
   "metadata": {},
   "cell_type": "markdown",
   "source": "- 6. In which year did Russia win the most total medals, and how many did they win?",
   "id": "b6176c76ed8704c3"
  },
  {
   "metadata": {
    "ExecuteTime": {
     "end_time": "2024-08-06T06:59:13.759233Z",
     "start_time": "2024-08-06T06:59:13.740863Z"
    }
   },
   "cell_type": "code",
   "source": "summer[(summer['Country'] == 'URS') | (summer['Country'] == 'RUS')].groupby(by=['Year']).Medal.count().sort_values(ascending=False)",
   "id": "624934124a02309b",
   "outputs": [
    {
     "data": {
      "text/plain": [
       "Year\n",
       "1980    442\n",
       "1988    294\n",
       "1976    285\n",
       "1972    211\n",
       "2004    192\n",
       "1968    188\n",
       "2000    188\n",
       "1964    174\n",
       "1956    169\n",
       "1960    169\n",
       "2008    143\n",
       "2012    130\n",
       "1952    117\n",
       "1996    115\n",
       "Name: Medal, dtype: int64"
      ]
     },
     "execution_count": 72,
     "metadata": {},
     "output_type": "execute_result"
    }
   ],
   "execution_count": 72
  },
  {
   "metadata": {},
   "cell_type": "markdown",
   "source": "The year that Russia won the most medals is 1980 and they won 442 medals. ",
   "id": "32ceebc7c4b7fe63"
  },
  {
   "metadata": {
    "ExecuteTime": {
     "end_time": "2024-08-06T06:59:13.775495Z",
     "start_time": "2024-08-06T06:59:13.759233Z"
    }
   },
   "cell_type": "code",
   "source": "summer[summer['Country'] == 'RUS'].groupby('Year').size().idxmax()",
   "id": "e9c74cbcd9632650",
   "outputs": [
    {
     "data": {
      "text/plain": [
       "2004"
      ]
     },
     "execution_count": 73,
     "metadata": {},
     "output_type": "execute_result"
    }
   ],
   "execution_count": 73
  },
  {
   "metadata": {},
   "cell_type": "markdown",
   "source": "### Question 7:",
   "id": "f9d193b5f932189c"
  },
  {
   "metadata": {},
   "cell_type": "markdown",
   "source": "- 7. Identify the top 5 athletes with the most silver medals across all editions of the Olympics.",
   "id": "fb563b8af7678107"
  },
  {
   "metadata": {
    "ExecuteTime": {
     "end_time": "2024-08-06T06:59:13.801582Z",
     "start_time": "2024-08-06T06:59:13.775495Z"
    }
   },
   "cell_type": "code",
   "source": "summer[summer['Medal'] == 'Silver'].groupby(by=['Athlete']).Medal.count().sort_values(ascending=False)",
   "id": "cfa0077246632d39",
   "outputs": [
    {
     "data": {
      "text/plain": [
       "Athlete\n",
       "VORONIN, Mikhail             6\n",
       "DITYATIN, Aleksandr          6\n",
       "BABASHOFF, Shirley Farber    6\n",
       "GOROKHOVSKAYA, Mariya        5\n",
       "VAN GRUNSVEN, Anky           5\n",
       "                            ..\n",
       "JOHNSON CEDENO, Yudel        1\n",
       "JOHNSEN, Vibeke              1\n",
       "JOHN, Sabine                 1\n",
       "JOHIN                        1\n",
       "AANING, Alf Lied             1\n",
       "Name: Medal, Length: 9101, dtype: int64"
      ]
     },
     "execution_count": 74,
     "metadata": {},
     "output_type": "execute_result"
    }
   ],
   "execution_count": 74
  },
  {
   "metadata": {},
   "cell_type": "markdown",
   "source": [
    "The top 5 athletes with the most silver medals is:\n",
    "   1. Mikhail Voronin (6 silver medals)\n",
    "   2. Aleksandr Dityatin (6 silver medals)\n",
    "   3. Shirley Farber Babashoff (6 silver medals)\n",
    "   4. Mariya Gorokhovskaya (5 silver medals)\n",
    "   5. Anky Van Grunsven (5 silver medals)\n",
    "   \n",
    " - notice there are more than two athlete with 5 silver medals but this two was on the sort."
   ],
   "id": "16f7908b964e5f34"
  },
  {
   "metadata": {},
   "cell_type": "markdown",
   "source": "### Question 8",
   "id": "bbd596aaaa6a58c6"
  },
  {
   "metadata": {},
   "cell_type": "markdown",
   "source": "- 8. Which sport has the smallest number of different events?",
   "id": "ca1a7d4394cbdf99"
  },
  {
   "metadata": {
    "ExecuteTime": {
     "end_time": "2024-08-06T06:59:13.816377Z",
     "start_time": "2024-08-06T06:59:13.801582Z"
    }
   },
   "cell_type": "code",
   "source": "summer.groupby('Sport')['Event'].nunique().sort_values()",
   "id": "1c73ac937733bd77",
   "outputs": [
    {
     "data": {
      "text/plain": [
       "Sport\n",
       "Jeu de paume          1\n",
       "Hockey                1\n",
       "Handball              1\n",
       "Softball              1\n",
       "Football              1\n",
       "Triathlon             1\n",
       "Lacrosse              1\n",
       "Polo                  1\n",
       "Ice Hockey            1\n",
       "Cricket               1\n",
       "Roque                 1\n",
       "Basque Pelota         1\n",
       "Basketball            1\n",
       "Baseball              1\n",
       "Rugby                 1\n",
       "Tug of War            1\n",
       "Volleyball            2\n",
       "Golf                  2\n",
       "Badminton             2\n",
       "Rackets               2\n",
       "Modern Pentathlon     3\n",
       "Skating               3\n",
       "Table Tennis          3\n",
       "Croquet               3\n",
       "Water Motorsports     3\n",
       "Equestrian            6\n",
       "Tennis                6\n",
       "Taekwondo             8\n",
       "Fencing              11\n",
       "Canoe                14\n",
       "Canoe / Kayak        20\n",
       "Rowing               22\n",
       "Gymnastics           26\n",
       "Archery              30\n",
       "Cycling              38\n",
       "Aquatics             46\n",
       "Judo                 47\n",
       "Weightlifting        55\n",
       "Boxing               55\n",
       "Sailing              56\n",
       "Athletics            56\n",
       "Shooting             63\n",
       "Wrestling            97\n",
       "Name: Event, dtype: int64"
      ]
     },
     "execution_count": 75,
     "metadata": {},
     "output_type": "execute_result"
    }
   ],
   "execution_count": 75
  },
  {
   "metadata": {
    "ExecuteTime": {
     "end_time": "2024-08-06T06:59:13.832677Z",
     "start_time": "2024-08-06T06:59:13.819891Z"
    }
   },
   "cell_type": "code",
   "source": "summer.groupby('Sport')['Event'].nunique().idxmin()",
   "id": "70cd3f08c8864605",
   "outputs": [
    {
     "data": {
      "text/plain": [
       "'Baseball'"
      ]
     },
     "execution_count": 76,
     "metadata": {},
     "output_type": "execute_result"
    }
   ],
   "execution_count": 76
  },
  {
   "metadata": {},
   "cell_type": "markdown",
   "source": [
    "There are 16 sports with only one event.\n",
    "\n",
    "the first in my sort is \"Jeu de paume\"."
   ],
   "id": "37e7349c597add67"
  },
  {
   "metadata": {},
   "cell_type": "markdown",
   "source": "### Question 9:",
   "id": "b7a7985fffd13d0e"
  },
  {
   "metadata": {},
   "cell_type": "markdown",
   "source": "- 9. For each Olympics, how many female versus male athletes participated?",
   "id": "c6c0f0ef3faf180"
  },
  {
   "metadata": {
    "ExecuteTime": {
     "end_time": "2024-08-06T06:59:13.853134Z",
     "start_time": "2024-08-06T06:59:13.832677Z"
    }
   },
   "cell_type": "code",
   "source": "summer.groupby(by=['Year', 'Gender']).Athlete.nunique().unstack().fillna(0).astype(int)",
   "id": "574f8b17cefc6d8a",
   "outputs": [
    {
     "data": {
      "text/plain": [
       "Gender   Men  Women\n",
       "Year               \n",
       "1896      94      0\n",
       "1900     407      7\n",
       "1904     318      6\n",
       "1908     724     14\n",
       "1912     745     25\n",
       "1920    1032     32\n",
       "1924     729     39\n",
       "1928     559     84\n",
       "1932     493     50\n",
       "1936     719     77\n",
       "1948     646     81\n",
       "1952     679     96\n",
       "1956     669    104\n",
       "1960     669    110\n",
       "1964     753    150\n",
       "1968     738    169\n",
       "1972     870    183\n",
       "1976     851    328\n",
       "1980     874    383\n",
       "1984     884    425\n",
       "1988     925    446\n",
       "1992    1022    515\n",
       "1996    1015    694\n",
       "2000    1049    800\n",
       "2004    1020    812\n",
       "2008    1024    842\n",
       "2012     955    824"
      ],
      "text/html": [
       "<div>\n",
       "<style scoped>\n",
       "    .dataframe tbody tr th:only-of-type {\n",
       "        vertical-align: middle;\n",
       "    }\n",
       "\n",
       "    .dataframe tbody tr th {\n",
       "        vertical-align: top;\n",
       "    }\n",
       "\n",
       "    .dataframe thead th {\n",
       "        text-align: right;\n",
       "    }\n",
       "</style>\n",
       "<table border=\"1\" class=\"dataframe\">\n",
       "  <thead>\n",
       "    <tr style=\"text-align: right;\">\n",
       "      <th>Gender</th>\n",
       "      <th>Men</th>\n",
       "      <th>Women</th>\n",
       "    </tr>\n",
       "    <tr>\n",
       "      <th>Year</th>\n",
       "      <th></th>\n",
       "      <th></th>\n",
       "    </tr>\n",
       "  </thead>\n",
       "  <tbody>\n",
       "    <tr>\n",
       "      <th>1896</th>\n",
       "      <td>94</td>\n",
       "      <td>0</td>\n",
       "    </tr>\n",
       "    <tr>\n",
       "      <th>1900</th>\n",
       "      <td>407</td>\n",
       "      <td>7</td>\n",
       "    </tr>\n",
       "    <tr>\n",
       "      <th>1904</th>\n",
       "      <td>318</td>\n",
       "      <td>6</td>\n",
       "    </tr>\n",
       "    <tr>\n",
       "      <th>1908</th>\n",
       "      <td>724</td>\n",
       "      <td>14</td>\n",
       "    </tr>\n",
       "    <tr>\n",
       "      <th>1912</th>\n",
       "      <td>745</td>\n",
       "      <td>25</td>\n",
       "    </tr>\n",
       "    <tr>\n",
       "      <th>1920</th>\n",
       "      <td>1032</td>\n",
       "      <td>32</td>\n",
       "    </tr>\n",
       "    <tr>\n",
       "      <th>1924</th>\n",
       "      <td>729</td>\n",
       "      <td>39</td>\n",
       "    </tr>\n",
       "    <tr>\n",
       "      <th>1928</th>\n",
       "      <td>559</td>\n",
       "      <td>84</td>\n",
       "    </tr>\n",
       "    <tr>\n",
       "      <th>1932</th>\n",
       "      <td>493</td>\n",
       "      <td>50</td>\n",
       "    </tr>\n",
       "    <tr>\n",
       "      <th>1936</th>\n",
       "      <td>719</td>\n",
       "      <td>77</td>\n",
       "    </tr>\n",
       "    <tr>\n",
       "      <th>1948</th>\n",
       "      <td>646</td>\n",
       "      <td>81</td>\n",
       "    </tr>\n",
       "    <tr>\n",
       "      <th>1952</th>\n",
       "      <td>679</td>\n",
       "      <td>96</td>\n",
       "    </tr>\n",
       "    <tr>\n",
       "      <th>1956</th>\n",
       "      <td>669</td>\n",
       "      <td>104</td>\n",
       "    </tr>\n",
       "    <tr>\n",
       "      <th>1960</th>\n",
       "      <td>669</td>\n",
       "      <td>110</td>\n",
       "    </tr>\n",
       "    <tr>\n",
       "      <th>1964</th>\n",
       "      <td>753</td>\n",
       "      <td>150</td>\n",
       "    </tr>\n",
       "    <tr>\n",
       "      <th>1968</th>\n",
       "      <td>738</td>\n",
       "      <td>169</td>\n",
       "    </tr>\n",
       "    <tr>\n",
       "      <th>1972</th>\n",
       "      <td>870</td>\n",
       "      <td>183</td>\n",
       "    </tr>\n",
       "    <tr>\n",
       "      <th>1976</th>\n",
       "      <td>851</td>\n",
       "      <td>328</td>\n",
       "    </tr>\n",
       "    <tr>\n",
       "      <th>1980</th>\n",
       "      <td>874</td>\n",
       "      <td>383</td>\n",
       "    </tr>\n",
       "    <tr>\n",
       "      <th>1984</th>\n",
       "      <td>884</td>\n",
       "      <td>425</td>\n",
       "    </tr>\n",
       "    <tr>\n",
       "      <th>1988</th>\n",
       "      <td>925</td>\n",
       "      <td>446</td>\n",
       "    </tr>\n",
       "    <tr>\n",
       "      <th>1992</th>\n",
       "      <td>1022</td>\n",
       "      <td>515</td>\n",
       "    </tr>\n",
       "    <tr>\n",
       "      <th>1996</th>\n",
       "      <td>1015</td>\n",
       "      <td>694</td>\n",
       "    </tr>\n",
       "    <tr>\n",
       "      <th>2000</th>\n",
       "      <td>1049</td>\n",
       "      <td>800</td>\n",
       "    </tr>\n",
       "    <tr>\n",
       "      <th>2004</th>\n",
       "      <td>1020</td>\n",
       "      <td>812</td>\n",
       "    </tr>\n",
       "    <tr>\n",
       "      <th>2008</th>\n",
       "      <td>1024</td>\n",
       "      <td>842</td>\n",
       "    </tr>\n",
       "    <tr>\n",
       "      <th>2012</th>\n",
       "      <td>955</td>\n",
       "      <td>824</td>\n",
       "    </tr>\n",
       "  </tbody>\n",
       "</table>\n",
       "</div>"
      ]
     },
     "execution_count": 77,
     "metadata": {},
     "output_type": "execute_result"
    }
   ],
   "execution_count": 77
  },
  {
   "metadata": {
    "ExecuteTime": {
     "end_time": "2024-08-06T06:59:13.865815Z",
     "start_time": "2024-08-06T06:59:13.853134Z"
    }
   },
   "cell_type": "code",
   "source": "summer.groupby(['Year', 'Gender']).size()",
   "id": "3a1d787d687f89ca",
   "outputs": [
    {
     "data": {
      "text/plain": [
       "Year  Gender\n",
       "1896  Men        151\n",
       "1900  Men        501\n",
       "      Women       11\n",
       "1904  Men        458\n",
       "      Women       12\n",
       "1908  Men        789\n",
       "      Women       15\n",
       "1912  Men        855\n",
       "      Women       30\n",
       "1920  Men       1255\n",
       "      Women       43\n",
       "1924  Men        833\n",
       "      Women       51\n",
       "1928  Men        615\n",
       "      Women       95\n",
       "1932  Men        555\n",
       "      Women       60\n",
       "1936  Men        791\n",
       "      Women       84\n",
       "1948  Men        718\n",
       "      Women       96\n",
       "1952  Men        750\n",
       "      Women      139\n",
       "1956  Men        739\n",
       "      Women      146\n",
       "1960  Men        737\n",
       "      Women      145\n",
       "1964  Men        820\n",
       "      Women      190\n",
       "1968  Men        819\n",
       "      Women      212\n",
       "1972  Men        947\n",
       "      Women      238\n",
       "1976  Men        924\n",
       "      Women      381\n",
       "1980  Men        958\n",
       "      Women      429\n",
       "1984  Men        973\n",
       "      Women      486\n",
       "1988  Men       1011\n",
       "      Women      535\n",
       "1992  Men       1105\n",
       "      Women      600\n",
       "1996  Men       1082\n",
       "      Women      777\n",
       "2000  Men       1126\n",
       "      Women      889\n",
       "2004  Men       1099\n",
       "      Women      899\n",
       "2008  Men       1110\n",
       "      Women      932\n",
       "2012  Men       1025\n",
       "      Women      924\n",
       "dtype: int64"
      ]
     },
     "execution_count": 78,
     "metadata": {},
     "output_type": "execute_result"
    }
   ],
   "execution_count": 78
  },
  {
   "metadata": {},
   "cell_type": "markdown",
   "source": "In this table you can see the numbers of men participate in Olympics every year versus the women participate in the same Olympics.",
   "id": "86a9425e4866b3d0"
  },
  {
   "metadata": {},
   "cell_type": "markdown",
   "source": "### Question 10:",
   "id": "b5fdfa72e22be7be"
  },
  {
   "metadata": {},
   "cell_type": "markdown",
   "source": "- 10. What is the total number of medals won by China in swimming?",
   "id": "7364fac9204354f8"
  },
  {
   "metadata": {
    "ExecuteTime": {
     "end_time": "2024-08-06T06:59:13.879942Z",
     "start_time": "2024-08-06T06:59:13.867324Z"
    }
   },
   "cell_type": "code",
   "source": "summer[(summer['Country'] == 'CHN') & (summer['Discipline'] == 'Swimming')].Medal.count()",
   "id": "2e14d10525b2a440",
   "outputs": [
    {
     "data": {
      "text/plain": [
       "64"
      ]
     },
     "execution_count": 79,
     "metadata": {},
     "output_type": "execute_result"
    }
   ],
   "execution_count": 79
  },
  {
   "metadata": {},
   "cell_type": "markdown",
   "source": "The total number of medals won by china is swimming is 64.",
   "id": "f2e7c602041704bc"
  },
  {
   "metadata": {},
   "cell_type": "markdown",
   "source": "### Question 11",
   "id": "f4c3b40927e72615"
  },
  {
   "metadata": {},
   "cell_type": "markdown",
   "source": " - 11. Rank countries by the number of gold medals won in athletics historically.",
   "id": "317cd17975bacf7a"
  },
  {
   "metadata": {
    "ExecuteTime": {
     "end_time": "2024-08-06T06:59:13.900557Z",
     "start_time": "2024-08-06T06:59:13.881798Z"
    }
   },
   "cell_type": "code",
   "source": "summer[(summer['Sport'] == 'Athletics') & (summer['Medal'] == 'Gold')].groupby(by=['Country']).Medal.count().sort_values(ascending=False)",
   "id": "e04736a6abaa4832",
   "outputs": [
    {
     "data": {
      "text/plain": [
       "Country\n",
       "USA    491\n",
       "URS     79\n",
       "GBR     67\n",
       "FIN     60\n",
       "GDR     50\n",
       "      ... \n",
       "SLO      1\n",
       "MOZ      1\n",
       "ECU      1\n",
       "NGR      1\n",
       "CRO      1\n",
       "Name: Medal, Length: 66, dtype: int64"
      ]
     },
     "execution_count": 80,
     "metadata": {},
     "output_type": "execute_result"
    }
   ],
   "execution_count": 80
  },
  {
   "metadata": {},
   "cell_type": "markdown",
   "source": "This is the sorted list of the country how won the most gold medals.",
   "id": "1dc5376c951ea0d3"
  },
  {
   "metadata": {},
   "cell_type": "markdown",
   "source": "### Question 12:",
   "id": "ede936107da4c3fe"
  },
  {
   "metadata": {},
   "cell_type": "markdown",
   "source": "- 12. Which discipline had athletes from the most number of different countries in the latest Olympics?",
   "id": "e5a690f1bd9737fe"
  },
  {
   "metadata": {
    "ExecuteTime": {
     "end_time": "2024-08-06T06:59:13.912995Z",
     "start_time": "2024-08-06T06:59:13.900557Z"
    }
   },
   "cell_type": "code",
   "source": "summer[summer['Year'] == 2012].groupby(by=['Discipline']).Country.nunique().sort_values(ascending=False)",
   "id": "84d44ba2094ff3e6",
   "outputs": [
    {
     "data": {
      "text/plain": [
       "Discipline\n",
       "Athletics                42\n",
       "Wrestling Freestyle      29\n",
       "Judo                     23\n",
       "Shooting                 23\n",
       "Taekwondo                21\n",
       "Weightlifting            20\n",
       "Boxing                   20\n",
       "Rowing                   18\n",
       "Swimming                 17\n",
       "Canoe Sprint             16\n",
       "Sailing                  15\n",
       "Gymnastics Artistic      14\n",
       "Fencing                  13\n",
       "Cycling Track            11\n",
       "Diving                    8\n",
       "Cycling Road              8\n",
       "Tennis                    8\n",
       "Canoe Slalom              8\n",
       "Badminton                 7\n",
       "Modern Pentathlon         6\n",
       "Water Polo                6\n",
       "Mountain Bike             6\n",
       "Archery                   6\n",
       "Marathon swimming         6\n",
       "Handball                  6\n",
       "Football                  6\n",
       "Jumping                   5\n",
       "Table Tennis              5\n",
       "Cycling BMX               5\n",
       "Triathlon                 5\n",
       "Volleyball                5\n",
       "Basketball                5\n",
       "Hockey                    5\n",
       "Eventing                  4\n",
       "Beach Volleyball          4\n",
       "Gymnastics Rhythmic       3\n",
       "Synchronized Swimming     3\n",
       "Dressage                  3\n",
       "Trampoline                3\n",
       "Name: Country, dtype: int64"
      ]
     },
     "execution_count": 81,
     "metadata": {},
     "output_type": "execute_result"
    }
   ],
   "execution_count": 81
  },
  {
   "metadata": {},
   "cell_type": "markdown",
   "source": "That the list of discipline and the number of different countries how participate in them in the last Olympics in 2012.",
   "id": "b6a88dd855ab8b4"
  },
  {
   "metadata": {},
   "cell_type": "markdown",
   "source": "### Question 13:",
   "id": "a1b85dc3ec2d0af7"
  },
  {
   "metadata": {},
   "cell_type": "markdown",
   "source": "- 13. Find the athlete who improved the most in terms of medal color (e.g., from Bronze in one Olympics to Gold in the next) across successive Olympics.",
   "id": "2d821f381c277047"
  },
  {
   "metadata": {},
   "cell_type": "markdown",
   "source": "check difference between two olympics:",
   "id": "5c5a8717f5adb3d4"
  },
  {
   "metadata": {
    "ExecuteTime": {
     "end_time": "2024-08-06T06:59:13.927488Z",
     "start_time": "2024-08-06T06:59:13.912995Z"
    }
   },
   "cell_type": "code",
   "source": [
    "olympic_years = summer['Year'].drop_duplicates().sort_values()\n",
    "\n",
    "def is_four_year_difference(years):\n",
    "    for i in range(len(years) - 1):  # Iterate up to the second to last element\n",
    "        if years.iloc[i+1] - years.iloc[i] != 4:\n",
    "            print(\"difference between \" + str(years.iloc[i]) + \" and \" + str(years.iloc[i+1]) + \" is \" + str(years.iloc[i+1] - years.iloc[i]))\n",
    "\n",
    "is_four_year_difference(olympic_years)\n",
    "olympic_years"
   ],
   "id": "15ffb9af0d2d73cc",
   "outputs": [
    {
     "name": "stdout",
     "output_type": "stream",
     "text": [
      "difference between 1912 and 1920 is 8\n",
      "difference between 1936 and 1948 is 12\n"
     ]
    },
    {
     "data": {
      "text/plain": [
       "0        1896\n",
       "151      1900\n",
       "663      1904\n",
       "1133     1908\n",
       "1937     1912\n",
       "2822     1920\n",
       "4120     1924\n",
       "5004     1928\n",
       "5714     1932\n",
       "6329     1936\n",
       "7204     1948\n",
       "8018     1952\n",
       "8907     1956\n",
       "9792     1960\n",
       "10674    1964\n",
       "11684    1968\n",
       "12715    1972\n",
       "13900    1976\n",
       "15205    1980\n",
       "16592    1984\n",
       "18051    1988\n",
       "19597    1992\n",
       "21302    1996\n",
       "23161    2000\n",
       "25176    2004\n",
       "27174    2008\n",
       "29216    2012\n",
       "Name: Year, dtype: int64"
      ]
     },
     "execution_count": 82,
     "metadata": {},
     "output_type": "execute_result"
    }
   ],
   "execution_count": 82
  },
  {
   "metadata": {},
   "cell_type": "markdown",
   "source": "by notice to all Olympics are in 4 year difference I change my strategy.",
   "id": "cf841232a0bd884f"
  },
  {
   "metadata": {},
   "cell_type": "markdown",
   "source": "Create new data frame of only the athlete that participate in two olympics in a row (The notes below from ChatGPT)",
   "id": "2fb51ebc4762b702"
  },
  {
   "metadata": {
    "ExecuteTime": {
     "end_time": "2024-08-06T06:59:32.848523Z",
     "start_time": "2024-08-06T06:59:13.927488Z"
    }
   },
   "cell_type": "code",
   "source": [
    "# Create an empty DataFrame to store the result\n",
    "summer_consecutive_athlete = pd.DataFrame()\n",
    "\n",
    "# Iterate over the sorted years\n",
    "for i in range(len(olympic_years)-1):\n",
    "    # Get the athletes who participated in two consecutive Olympics\n",
    "    year1 = summer[summer['Year'] == olympic_years.iloc[i]]\n",
    "    year2 = summer[summer['Year'] == olympic_years.iloc[i+1]]\n",
    "    \n",
    "    # Find the common athletes\n",
    "    common_athletes = year1[year1['Athlete'].isin(year2['Athlete'])]\n",
    "    \n",
    "    # Append the common athletes to the result DataFrame\n",
    "    summer_consecutive_athlete = pd.concat([summer_consecutive_athlete, common_athletes])\n",
    "\n",
    "# Now 'summer_consecutive_athlete' contains the rows of athletes who participated in two consecutive Olympics, with data from the first Olympics\n",
    "\n",
    "# To include data from the second Olympics, we need to iterate over the summer_consecutive_athlete DataFrame\n",
    "for i in range(len(summer_consecutive_athlete)):\n",
    "    athlete = summer_consecutive_athlete.iloc[i]['Athlete']\n",
    "    year = summer_consecutive_athlete.iloc[i]['Year']\n",
    "    \n",
    "    # Find the athlete's data from the next Olympics\n",
    "    next_year_data = summer[(summer['Year'] == olympic_years[olympic_years > year].min()) & (summer['Athlete'] == athlete)]\n",
    "    \n",
    "    # Check if the data already exists in the DataFrame\n",
    "    if not summer_consecutive_athlete[(summer_consecutive_athlete['Athlete'] == athlete) & (summer_consecutive_athlete['Year'] == olympic_years[olympic_years > year].min())].empty:\n",
    "        continue\n",
    "    \n",
    "    # Append the data to the result DataFrame\n",
    "    summer_consecutive_athlete = pd.concat([summer_consecutive_athlete, next_year_data])\n",
    "\n",
    "# Now 'summer_consecutive_athlete' contains the rows of athletes who participated in two consecutive Olympics, with data from both Olympics\n",
    "summer_consecutive_athlete"
   ],
   "id": "dfe414f6b84a894d",
   "outputs": [
    {
     "data": {
      "text/plain": [
       "       Year    City      Sport           Discipline              Athlete  \\\n",
       "27     1896  Athens  Athletics            Athletics      GARRETT, Robert   \n",
       "30     1896  Athens  Athletics            Athletics      CONNOLLY, James   \n",
       "31     1896  Athens  Athletics            Athletics      GARRETT, Robert   \n",
       "32     1896  Athens  Athletics            Athletics      CONNOLLY, James   \n",
       "34     1896  Athens  Athletics            Athletics      GARRETT, Robert   \n",
       "...     ...     ...        ...                  ...                  ...   \n",
       "31135  2012  London  Wrestling  Wrestling Freestyle     GAZYUMOV, Khetag   \n",
       "31136  2012  London  Wrestling  Wrestling Freestyle  GOGSHELIDZE, George   \n",
       "31093  2012  London  Wrestling  Wrestling Freestyle      TAYMAZOV, Artur   \n",
       "31142  2012  London  Wrestling  Wrestling Freestyle    BAYRAMOV, Rovshan   \n",
       "31151  2012  London  Wrestling  Wrestling Freestyle       GUENOT, Steeve   \n",
       "\n",
       "      Country Gender         Event   Medal  \n",
       "27        USA    Men  Discus Throw    Gold  \n",
       "30        USA    Men     High Jump  Silver  \n",
       "31        USA    Men     High Jump  Silver  \n",
       "32        USA    Men     Long Jump  Bronze  \n",
       "34        USA    Men     Long Jump  Silver  \n",
       "...       ...    ...           ...     ...  \n",
       "31135     AZE    Men      Wf 96 KG  Bronze  \n",
       "31136     GEO    Men      Wf 96 KG  Bronze  \n",
       "31093     UZB    Men      Wf 120KG    Gold  \n",
       "31142     AZE    Men      Wg 55 KG  Silver  \n",
       "31151     FRA    Men      Wg 66 KG  Bronze  \n",
       "\n",
       "[9455 rows x 9 columns]"
      ],
      "text/html": [
       "<div>\n",
       "<style scoped>\n",
       "    .dataframe tbody tr th:only-of-type {\n",
       "        vertical-align: middle;\n",
       "    }\n",
       "\n",
       "    .dataframe tbody tr th {\n",
       "        vertical-align: top;\n",
       "    }\n",
       "\n",
       "    .dataframe thead th {\n",
       "        text-align: right;\n",
       "    }\n",
       "</style>\n",
       "<table border=\"1\" class=\"dataframe\">\n",
       "  <thead>\n",
       "    <tr style=\"text-align: right;\">\n",
       "      <th></th>\n",
       "      <th>Year</th>\n",
       "      <th>City</th>\n",
       "      <th>Sport</th>\n",
       "      <th>Discipline</th>\n",
       "      <th>Athlete</th>\n",
       "      <th>Country</th>\n",
       "      <th>Gender</th>\n",
       "      <th>Event</th>\n",
       "      <th>Medal</th>\n",
       "    </tr>\n",
       "  </thead>\n",
       "  <tbody>\n",
       "    <tr>\n",
       "      <th>27</th>\n",
       "      <td>1896</td>\n",
       "      <td>Athens</td>\n",
       "      <td>Athletics</td>\n",
       "      <td>Athletics</td>\n",
       "      <td>GARRETT, Robert</td>\n",
       "      <td>USA</td>\n",
       "      <td>Men</td>\n",
       "      <td>Discus Throw</td>\n",
       "      <td>Gold</td>\n",
       "    </tr>\n",
       "    <tr>\n",
       "      <th>30</th>\n",
       "      <td>1896</td>\n",
       "      <td>Athens</td>\n",
       "      <td>Athletics</td>\n",
       "      <td>Athletics</td>\n",
       "      <td>CONNOLLY, James</td>\n",
       "      <td>USA</td>\n",
       "      <td>Men</td>\n",
       "      <td>High Jump</td>\n",
       "      <td>Silver</td>\n",
       "    </tr>\n",
       "    <tr>\n",
       "      <th>31</th>\n",
       "      <td>1896</td>\n",
       "      <td>Athens</td>\n",
       "      <td>Athletics</td>\n",
       "      <td>Athletics</td>\n",
       "      <td>GARRETT, Robert</td>\n",
       "      <td>USA</td>\n",
       "      <td>Men</td>\n",
       "      <td>High Jump</td>\n",
       "      <td>Silver</td>\n",
       "    </tr>\n",
       "    <tr>\n",
       "      <th>32</th>\n",
       "      <td>1896</td>\n",
       "      <td>Athens</td>\n",
       "      <td>Athletics</td>\n",
       "      <td>Athletics</td>\n",
       "      <td>CONNOLLY, James</td>\n",
       "      <td>USA</td>\n",
       "      <td>Men</td>\n",
       "      <td>Long Jump</td>\n",
       "      <td>Bronze</td>\n",
       "    </tr>\n",
       "    <tr>\n",
       "      <th>34</th>\n",
       "      <td>1896</td>\n",
       "      <td>Athens</td>\n",
       "      <td>Athletics</td>\n",
       "      <td>Athletics</td>\n",
       "      <td>GARRETT, Robert</td>\n",
       "      <td>USA</td>\n",
       "      <td>Men</td>\n",
       "      <td>Long Jump</td>\n",
       "      <td>Silver</td>\n",
       "    </tr>\n",
       "    <tr>\n",
       "      <th>...</th>\n",
       "      <td>...</td>\n",
       "      <td>...</td>\n",
       "      <td>...</td>\n",
       "      <td>...</td>\n",
       "      <td>...</td>\n",
       "      <td>...</td>\n",
       "      <td>...</td>\n",
       "      <td>...</td>\n",
       "      <td>...</td>\n",
       "    </tr>\n",
       "    <tr>\n",
       "      <th>31135</th>\n",
       "      <td>2012</td>\n",
       "      <td>London</td>\n",
       "      <td>Wrestling</td>\n",
       "      <td>Wrestling Freestyle</td>\n",
       "      <td>GAZYUMOV, Khetag</td>\n",
       "      <td>AZE</td>\n",
       "      <td>Men</td>\n",
       "      <td>Wf 96 KG</td>\n",
       "      <td>Bronze</td>\n",
       "    </tr>\n",
       "    <tr>\n",
       "      <th>31136</th>\n",
       "      <td>2012</td>\n",
       "      <td>London</td>\n",
       "      <td>Wrestling</td>\n",
       "      <td>Wrestling Freestyle</td>\n",
       "      <td>GOGSHELIDZE, George</td>\n",
       "      <td>GEO</td>\n",
       "      <td>Men</td>\n",
       "      <td>Wf 96 KG</td>\n",
       "      <td>Bronze</td>\n",
       "    </tr>\n",
       "    <tr>\n",
       "      <th>31093</th>\n",
       "      <td>2012</td>\n",
       "      <td>London</td>\n",
       "      <td>Wrestling</td>\n",
       "      <td>Wrestling Freestyle</td>\n",
       "      <td>TAYMAZOV, Artur</td>\n",
       "      <td>UZB</td>\n",
       "      <td>Men</td>\n",
       "      <td>Wf 120KG</td>\n",
       "      <td>Gold</td>\n",
       "    </tr>\n",
       "    <tr>\n",
       "      <th>31142</th>\n",
       "      <td>2012</td>\n",
       "      <td>London</td>\n",
       "      <td>Wrestling</td>\n",
       "      <td>Wrestling Freestyle</td>\n",
       "      <td>BAYRAMOV, Rovshan</td>\n",
       "      <td>AZE</td>\n",
       "      <td>Men</td>\n",
       "      <td>Wg 55 KG</td>\n",
       "      <td>Silver</td>\n",
       "    </tr>\n",
       "    <tr>\n",
       "      <th>31151</th>\n",
       "      <td>2012</td>\n",
       "      <td>London</td>\n",
       "      <td>Wrestling</td>\n",
       "      <td>Wrestling Freestyle</td>\n",
       "      <td>GUENOT, Steeve</td>\n",
       "      <td>FRA</td>\n",
       "      <td>Men</td>\n",
       "      <td>Wg 66 KG</td>\n",
       "      <td>Bronze</td>\n",
       "    </tr>\n",
       "  </tbody>\n",
       "</table>\n",
       "<p>9455 rows × 9 columns</p>\n",
       "</div>"
      ]
     },
     "execution_count": 83,
     "metadata": {},
     "output_type": "execute_result"
    }
   ],
   "execution_count": 83
  },
  {
   "metadata": {},
   "cell_type": "markdown",
   "source": "Checking codes to see the output is valid:",
   "id": "947fa46bb058e1d7"
  },
  {
   "metadata": {
    "ExecuteTime": {
     "end_time": "2024-08-06T06:59:32.869282Z",
     "start_time": "2024-08-06T06:59:32.848523Z"
    }
   },
   "cell_type": "code",
   "source": "summer_consecutive_athlete.groupby(by=['Athlete']).Year.value_counts()",
   "id": "b9bde19e7eee6259",
   "outputs": [
    {
     "data": {
      "text/plain": [
       "Athlete                   Year\n",
       "AALTONEN, Paavo Johannes  1948    4\n",
       "                          1952    1\n",
       "ABALO, Luc                2008    1\n",
       "                          2012    1\n",
       "ABBAGNALE, Agostino       1996    1\n",
       "                                 ..\n",
       "ZYKINA, Olesya            2004    1\n",
       "ZÜRNER, Albert            1908    1\n",
       "                          1912    1\n",
       "ÖSTENSEN, Östen           1920    4\n",
       "                          1912    1\n",
       "Name: count, Length: 7867, dtype: int64"
      ]
     },
     "execution_count": 84,
     "metadata": {},
     "output_type": "execute_result"
    }
   ],
   "execution_count": 84
  },
  {
   "metadata": {
    "ExecuteTime": {
     "end_time": "2024-08-06T06:59:32.884490Z",
     "start_time": "2024-08-06T06:59:32.869282Z"
    }
   },
   "cell_type": "code",
   "source": "summer_consecutive_athlete[summer_consecutive_athlete['Athlete'] == 'AALTONEN, Paavo Johannes']",
   "id": "881b19fcf8366054",
   "outputs": [
    {
     "data": {
      "text/plain": [
       "      Year      City       Sport   Discipline                   Athlete  \\\n",
       "7709  1948    London  Gymnastics  Artistic G.  AALTONEN, Paavo Johannes   \n",
       "7716  1948    London  Gymnastics  Artistic G.  AALTONEN, Paavo Johannes   \n",
       "7730  1948    London  Gymnastics  Artistic G.  AALTONEN, Paavo Johannes   \n",
       "7773  1948    London  Gymnastics  Artistic G.  AALTONEN, Paavo Johannes   \n",
       "8563  1952  Helsinki  Gymnastics  Artistic G.  AALTONEN, Paavo Johannes   \n",
       "\n",
       "     Country Gender                 Event   Medal  \n",
       "7709     FIN    Men  Individual All-Round  Bronze  \n",
       "7716     FIN    Men          Pommel Horse    Gold  \n",
       "7730     FIN    Men      Team Competition    Gold  \n",
       "7773     FIN    Men                 Vault    Gold  \n",
       "8563     FIN    Men      Team Competition  Bronze  "
      ],
      "text/html": [
       "<div>\n",
       "<style scoped>\n",
       "    .dataframe tbody tr th:only-of-type {\n",
       "        vertical-align: middle;\n",
       "    }\n",
       "\n",
       "    .dataframe tbody tr th {\n",
       "        vertical-align: top;\n",
       "    }\n",
       "\n",
       "    .dataframe thead th {\n",
       "        text-align: right;\n",
       "    }\n",
       "</style>\n",
       "<table border=\"1\" class=\"dataframe\">\n",
       "  <thead>\n",
       "    <tr style=\"text-align: right;\">\n",
       "      <th></th>\n",
       "      <th>Year</th>\n",
       "      <th>City</th>\n",
       "      <th>Sport</th>\n",
       "      <th>Discipline</th>\n",
       "      <th>Athlete</th>\n",
       "      <th>Country</th>\n",
       "      <th>Gender</th>\n",
       "      <th>Event</th>\n",
       "      <th>Medal</th>\n",
       "    </tr>\n",
       "  </thead>\n",
       "  <tbody>\n",
       "    <tr>\n",
       "      <th>7709</th>\n",
       "      <td>1948</td>\n",
       "      <td>London</td>\n",
       "      <td>Gymnastics</td>\n",
       "      <td>Artistic G.</td>\n",
       "      <td>AALTONEN, Paavo Johannes</td>\n",
       "      <td>FIN</td>\n",
       "      <td>Men</td>\n",
       "      <td>Individual All-Round</td>\n",
       "      <td>Bronze</td>\n",
       "    </tr>\n",
       "    <tr>\n",
       "      <th>7716</th>\n",
       "      <td>1948</td>\n",
       "      <td>London</td>\n",
       "      <td>Gymnastics</td>\n",
       "      <td>Artistic G.</td>\n",
       "      <td>AALTONEN, Paavo Johannes</td>\n",
       "      <td>FIN</td>\n",
       "      <td>Men</td>\n",
       "      <td>Pommel Horse</td>\n",
       "      <td>Gold</td>\n",
       "    </tr>\n",
       "    <tr>\n",
       "      <th>7730</th>\n",
       "      <td>1948</td>\n",
       "      <td>London</td>\n",
       "      <td>Gymnastics</td>\n",
       "      <td>Artistic G.</td>\n",
       "      <td>AALTONEN, Paavo Johannes</td>\n",
       "      <td>FIN</td>\n",
       "      <td>Men</td>\n",
       "      <td>Team Competition</td>\n",
       "      <td>Gold</td>\n",
       "    </tr>\n",
       "    <tr>\n",
       "      <th>7773</th>\n",
       "      <td>1948</td>\n",
       "      <td>London</td>\n",
       "      <td>Gymnastics</td>\n",
       "      <td>Artistic G.</td>\n",
       "      <td>AALTONEN, Paavo Johannes</td>\n",
       "      <td>FIN</td>\n",
       "      <td>Men</td>\n",
       "      <td>Vault</td>\n",
       "      <td>Gold</td>\n",
       "    </tr>\n",
       "    <tr>\n",
       "      <th>8563</th>\n",
       "      <td>1952</td>\n",
       "      <td>Helsinki</td>\n",
       "      <td>Gymnastics</td>\n",
       "      <td>Artistic G.</td>\n",
       "      <td>AALTONEN, Paavo Johannes</td>\n",
       "      <td>FIN</td>\n",
       "      <td>Men</td>\n",
       "      <td>Team Competition</td>\n",
       "      <td>Bronze</td>\n",
       "    </tr>\n",
       "  </tbody>\n",
       "</table>\n",
       "</div>"
      ]
     },
     "execution_count": 85,
     "metadata": {},
     "output_type": "execute_result"
    }
   ],
   "execution_count": 85
  },
  {
   "metadata": {},
   "cell_type": "markdown",
   "source": "Create new column of the medals values:",
   "id": "98ee19d61a39a886"
  },
  {
   "metadata": {
    "ExecuteTime": {
     "end_time": "2024-08-06T06:59:32.961891Z",
     "start_time": "2024-08-06T06:59:32.884490Z"
    }
   },
   "cell_type": "code",
   "source": [
    "def medals_values (row):\n",
    "    if row['Medal'] == 'Gold':\n",
    "        return 3\n",
    "    elif row['Medal'] == 'Silver':\n",
    "        return 2\n",
    "    else:\n",
    "        return 1\n",
    "summer_consecutive_athlete['Medals_values'] = summer_consecutive_athlete.apply(medals_values, axis=1)\n",
    "summer_consecutive_athlete"
   ],
   "id": "5fa41fcc06a26e69",
   "outputs": [
    {
     "data": {
      "text/plain": [
       "       Year    City      Sport           Discipline              Athlete  \\\n",
       "27     1896  Athens  Athletics            Athletics      GARRETT, Robert   \n",
       "30     1896  Athens  Athletics            Athletics      CONNOLLY, James   \n",
       "31     1896  Athens  Athletics            Athletics      GARRETT, Robert   \n",
       "32     1896  Athens  Athletics            Athletics      CONNOLLY, James   \n",
       "34     1896  Athens  Athletics            Athletics      GARRETT, Robert   \n",
       "...     ...     ...        ...                  ...                  ...   \n",
       "31135  2012  London  Wrestling  Wrestling Freestyle     GAZYUMOV, Khetag   \n",
       "31136  2012  London  Wrestling  Wrestling Freestyle  GOGSHELIDZE, George   \n",
       "31093  2012  London  Wrestling  Wrestling Freestyle      TAYMAZOV, Artur   \n",
       "31142  2012  London  Wrestling  Wrestling Freestyle    BAYRAMOV, Rovshan   \n",
       "31151  2012  London  Wrestling  Wrestling Freestyle       GUENOT, Steeve   \n",
       "\n",
       "      Country Gender         Event   Medal  Medals_values  \n",
       "27        USA    Men  Discus Throw    Gold              3  \n",
       "30        USA    Men     High Jump  Silver              2  \n",
       "31        USA    Men     High Jump  Silver              2  \n",
       "32        USA    Men     Long Jump  Bronze              1  \n",
       "34        USA    Men     Long Jump  Silver              2  \n",
       "...       ...    ...           ...     ...            ...  \n",
       "31135     AZE    Men      Wf 96 KG  Bronze              1  \n",
       "31136     GEO    Men      Wf 96 KG  Bronze              1  \n",
       "31093     UZB    Men      Wf 120KG    Gold              3  \n",
       "31142     AZE    Men      Wg 55 KG  Silver              2  \n",
       "31151     FRA    Men      Wg 66 KG  Bronze              1  \n",
       "\n",
       "[9455 rows x 10 columns]"
      ],
      "text/html": [
       "<div>\n",
       "<style scoped>\n",
       "    .dataframe tbody tr th:only-of-type {\n",
       "        vertical-align: middle;\n",
       "    }\n",
       "\n",
       "    .dataframe tbody tr th {\n",
       "        vertical-align: top;\n",
       "    }\n",
       "\n",
       "    .dataframe thead th {\n",
       "        text-align: right;\n",
       "    }\n",
       "</style>\n",
       "<table border=\"1\" class=\"dataframe\">\n",
       "  <thead>\n",
       "    <tr style=\"text-align: right;\">\n",
       "      <th></th>\n",
       "      <th>Year</th>\n",
       "      <th>City</th>\n",
       "      <th>Sport</th>\n",
       "      <th>Discipline</th>\n",
       "      <th>Athlete</th>\n",
       "      <th>Country</th>\n",
       "      <th>Gender</th>\n",
       "      <th>Event</th>\n",
       "      <th>Medal</th>\n",
       "      <th>Medals_values</th>\n",
       "    </tr>\n",
       "  </thead>\n",
       "  <tbody>\n",
       "    <tr>\n",
       "      <th>27</th>\n",
       "      <td>1896</td>\n",
       "      <td>Athens</td>\n",
       "      <td>Athletics</td>\n",
       "      <td>Athletics</td>\n",
       "      <td>GARRETT, Robert</td>\n",
       "      <td>USA</td>\n",
       "      <td>Men</td>\n",
       "      <td>Discus Throw</td>\n",
       "      <td>Gold</td>\n",
       "      <td>3</td>\n",
       "    </tr>\n",
       "    <tr>\n",
       "      <th>30</th>\n",
       "      <td>1896</td>\n",
       "      <td>Athens</td>\n",
       "      <td>Athletics</td>\n",
       "      <td>Athletics</td>\n",
       "      <td>CONNOLLY, James</td>\n",
       "      <td>USA</td>\n",
       "      <td>Men</td>\n",
       "      <td>High Jump</td>\n",
       "      <td>Silver</td>\n",
       "      <td>2</td>\n",
       "    </tr>\n",
       "    <tr>\n",
       "      <th>31</th>\n",
       "      <td>1896</td>\n",
       "      <td>Athens</td>\n",
       "      <td>Athletics</td>\n",
       "      <td>Athletics</td>\n",
       "      <td>GARRETT, Robert</td>\n",
       "      <td>USA</td>\n",
       "      <td>Men</td>\n",
       "      <td>High Jump</td>\n",
       "      <td>Silver</td>\n",
       "      <td>2</td>\n",
       "    </tr>\n",
       "    <tr>\n",
       "      <th>32</th>\n",
       "      <td>1896</td>\n",
       "      <td>Athens</td>\n",
       "      <td>Athletics</td>\n",
       "      <td>Athletics</td>\n",
       "      <td>CONNOLLY, James</td>\n",
       "      <td>USA</td>\n",
       "      <td>Men</td>\n",
       "      <td>Long Jump</td>\n",
       "      <td>Bronze</td>\n",
       "      <td>1</td>\n",
       "    </tr>\n",
       "    <tr>\n",
       "      <th>34</th>\n",
       "      <td>1896</td>\n",
       "      <td>Athens</td>\n",
       "      <td>Athletics</td>\n",
       "      <td>Athletics</td>\n",
       "      <td>GARRETT, Robert</td>\n",
       "      <td>USA</td>\n",
       "      <td>Men</td>\n",
       "      <td>Long Jump</td>\n",
       "      <td>Silver</td>\n",
       "      <td>2</td>\n",
       "    </tr>\n",
       "    <tr>\n",
       "      <th>...</th>\n",
       "      <td>...</td>\n",
       "      <td>...</td>\n",
       "      <td>...</td>\n",
       "      <td>...</td>\n",
       "      <td>...</td>\n",
       "      <td>...</td>\n",
       "      <td>...</td>\n",
       "      <td>...</td>\n",
       "      <td>...</td>\n",
       "      <td>...</td>\n",
       "    </tr>\n",
       "    <tr>\n",
       "      <th>31135</th>\n",
       "      <td>2012</td>\n",
       "      <td>London</td>\n",
       "      <td>Wrestling</td>\n",
       "      <td>Wrestling Freestyle</td>\n",
       "      <td>GAZYUMOV, Khetag</td>\n",
       "      <td>AZE</td>\n",
       "      <td>Men</td>\n",
       "      <td>Wf 96 KG</td>\n",
       "      <td>Bronze</td>\n",
       "      <td>1</td>\n",
       "    </tr>\n",
       "    <tr>\n",
       "      <th>31136</th>\n",
       "      <td>2012</td>\n",
       "      <td>London</td>\n",
       "      <td>Wrestling</td>\n",
       "      <td>Wrestling Freestyle</td>\n",
       "      <td>GOGSHELIDZE, George</td>\n",
       "      <td>GEO</td>\n",
       "      <td>Men</td>\n",
       "      <td>Wf 96 KG</td>\n",
       "      <td>Bronze</td>\n",
       "      <td>1</td>\n",
       "    </tr>\n",
       "    <tr>\n",
       "      <th>31093</th>\n",
       "      <td>2012</td>\n",
       "      <td>London</td>\n",
       "      <td>Wrestling</td>\n",
       "      <td>Wrestling Freestyle</td>\n",
       "      <td>TAYMAZOV, Artur</td>\n",
       "      <td>UZB</td>\n",
       "      <td>Men</td>\n",
       "      <td>Wf 120KG</td>\n",
       "      <td>Gold</td>\n",
       "      <td>3</td>\n",
       "    </tr>\n",
       "    <tr>\n",
       "      <th>31142</th>\n",
       "      <td>2012</td>\n",
       "      <td>London</td>\n",
       "      <td>Wrestling</td>\n",
       "      <td>Wrestling Freestyle</td>\n",
       "      <td>BAYRAMOV, Rovshan</td>\n",
       "      <td>AZE</td>\n",
       "      <td>Men</td>\n",
       "      <td>Wg 55 KG</td>\n",
       "      <td>Silver</td>\n",
       "      <td>2</td>\n",
       "    </tr>\n",
       "    <tr>\n",
       "      <th>31151</th>\n",
       "      <td>2012</td>\n",
       "      <td>London</td>\n",
       "      <td>Wrestling</td>\n",
       "      <td>Wrestling Freestyle</td>\n",
       "      <td>GUENOT, Steeve</td>\n",
       "      <td>FRA</td>\n",
       "      <td>Men</td>\n",
       "      <td>Wg 66 KG</td>\n",
       "      <td>Bronze</td>\n",
       "      <td>1</td>\n",
       "    </tr>\n",
       "  </tbody>\n",
       "</table>\n",
       "<p>9455 rows × 10 columns</p>\n",
       "</div>"
      ]
     },
     "execution_count": 86,
     "metadata": {},
     "output_type": "execute_result"
    }
   ],
   "execution_count": 86
  },
  {
   "metadata": {},
   "cell_type": "markdown",
   "source": "check who is the most improved athletic:",
   "id": "fe1ab744d531765d"
  },
  {
   "metadata": {
    "ExecuteTime": {
     "end_time": "2024-08-06T06:59:32.982963Z",
     "start_time": "2024-08-06T06:59:32.961891Z"
    }
   },
   "cell_type": "code",
   "source": [
    "result = summer_consecutive_athlete.groupby(by= ['Athlete', 'Year']).Medals_values.sum().groupby(level=0).diff().sort_values(ascending=False)\n",
    "result"
   ],
   "id": "6e85b1c22d686cdd",
   "outputs": [
    {
     "data": {
      "text/plain": [
       "Athlete              Year\n",
       "BIONDI, Matthew      1988    15.0\n",
       "DITYATIN, Aleksandr  1980    14.0\n",
       "SPITZ, Mark          1972    12.0\n",
       "NADI, Nedo           1920    12.0\n",
       "ANDRIANOV, Nikolay   1976    11.0\n",
       "                             ... \n",
       "ZWOLLE, Hendrik Jan  1992     NaN\n",
       "ZYBINA, Galina       1952     NaN\n",
       "ZYKINA, Olesya       2000     NaN\n",
       "ZÜRNER, Albert       1908     NaN\n",
       "ÖSTENSEN, Östen      1912     NaN\n",
       "Name: Medals_values, Length: 7867, dtype: float64"
      ]
     },
     "execution_count": 87,
     "metadata": {},
     "output_type": "execute_result"
    }
   ],
   "execution_count": 87
  },
  {
   "metadata": {},
   "cell_type": "markdown",
   "source": "The athlete how improve the most between two consecutive Olympics is Matthew Biondi in from 1984 Olympics to 1988 Olympics.",
   "id": "19de3c5e2862b61d"
  },
  {
   "metadata": {},
   "cell_type": "markdown",
   "source": " ### Question 14:",
   "id": "d93383e3759dfd17"
  },
  {
   "metadata": {},
   "cell_type": "markdown",
   "source": "- 14. What is the average number of participating countries in each Olympic sport?",
   "id": "44e1cf0b7765e584"
  },
  {
   "metadata": {
    "ExecuteTime": {
     "end_time": "2024-08-06T06:59:32.999653Z",
     "start_time": "2024-08-06T06:59:32.982963Z"
    }
   },
   "cell_type": "code",
   "source": "summer.groupby(['Sport', 'Year'])['Country'].nunique().groupby(['Sport']).mean()",
   "id": "b150f7f0e8a6a4c",
   "outputs": [
    {
     "data": {
      "text/plain": [
       "Sport\n",
       "Aquatics             13.370370\n",
       "Archery               4.800000\n",
       "Athletics            22.629630\n",
       "Badminton             5.333333\n",
       "Baseball              3.000000\n",
       "Basketball            3.888889\n",
       "Basque Pelota         2.000000\n",
       "Boxing               16.250000\n",
       "Canoe                19.000000\n",
       "Canoe / Kayak        12.000000\n",
       "Cricket               2.000000\n",
       "Croquet               1.000000\n",
       "Cycling               9.222222\n",
       "Equestrian            7.375000\n",
       "Fencing               7.407407\n",
       "Football              3.560000\n",
       "Golf                  2.000000\n",
       "Gymnastics            8.037037\n",
       "Handball              4.916667\n",
       "Hockey                3.636364\n",
       "Ice Hockey            3.000000\n",
       "Jeu de paume          2.000000\n",
       "Judo                 17.250000\n",
       "Lacrosse              2.000000\n",
       "Modern Pentathlon     3.347826\n",
       "Polo                  2.200000\n",
       "Rackets               1.000000\n",
       "Roque                 1.000000\n",
       "Rowing               11.807692\n",
       "Rugby                 2.500000\n",
       "Sailing              10.560000\n",
       "Shooting             12.440000\n",
       "Skating               4.500000\n",
       "Softball              3.000000\n",
       "Table Tennis          4.714286\n",
       "Taekwondo            18.500000\n",
       "Tennis                6.428571\n",
       "Triathlon             5.000000\n",
       "Tug of War            1.800000\n",
       "Volleyball            5.538462\n",
       "Water Motorsports     2.000000\n",
       "Weightlifting        10.166667\n",
       "Wrestling            14.692308\n",
       "Name: Country, dtype: float64"
      ]
     },
     "execution_count": 88,
     "metadata": {},
     "output_type": "execute_result"
    }
   ],
   "execution_count": 88
  },
  {
   "metadata": {
    "ExecuteTime": {
     "end_time": "2024-08-06T06:59:33.013381Z",
     "start_time": "2024-08-06T06:59:32.999653Z"
    }
   },
   "cell_type": "code",
   "source": "summer.groupby('Sport')['Country'].nunique().mean()",
   "id": "e3a586d17dc7ea22",
   "outputs": [
    {
     "data": {
      "text/plain": [
       "25.372093023255815"
      ]
     },
     "execution_count": 89,
     "metadata": {},
     "output_type": "execute_result"
    }
   ],
   "execution_count": 89
  },
  {
   "metadata": {},
   "cell_type": "markdown",
   "source": "That a list of all the mean participation countries in each Olympics in each Olympics sport.",
   "id": "664b9cd63fdf2f81"
  },
  {
   "metadata": {},
   "cell_type": "markdown",
   "source": "### Question 15:",
   "id": "c0fea2eb3400cd7c"
  },
  {
   "metadata": {},
   "cell_type": "markdown",
   "source": "- 15. Compare the total number of medals won by Germany before and after the reunification in 1990.",
   "id": "679ddbbae63f541e"
  },
  {
   "metadata": {},
   "cell_type": "markdown",
   "source": "number of medals for germany before the reunification:",
   "id": "dad070e6f5edd7c8"
  },
  {
   "metadata": {
    "ExecuteTime": {
     "end_time": "2024-08-06T06:59:33.033762Z",
     "start_time": "2024-08-06T06:59:33.013381Z"
    }
   },
   "cell_type": "code",
   "source": [
    "summer[(summer['Year'] < 1990) &\n",
    "       ((summer['Country'] == 'GER') |\n",
    "       (summer['Country'] == 'EUA') |\n",
    "       (summer['Country'] == 'FRG') |\n",
    "       (summer['Country'] == 'GDR')) ].Medal.value_counts().sum()"
   ],
   "id": "db36ed60d66637c4",
   "outputs": [
    {
     "data": {
      "text/plain": [
       "2095"
      ]
     },
     "execution_count": 90,
     "metadata": {},
     "output_type": "execute_result"
    }
   ],
   "execution_count": 90
  },
  {
   "metadata": {},
   "cell_type": "markdown",
   "source": "number of medals for germany after the reunification:",
   "id": "c56b35a66390433e"
  },
  {
   "metadata": {
    "ExecuteTime": {
     "end_time": "2024-08-06T06:59:33.045818Z",
     "start_time": "2024-08-06T06:59:33.035356Z"
    }
   },
   "cell_type": "code",
   "source": [
    "summer[(summer['Year'] >= 1990) &\n",
    "       (summer['Country'] == 'GER')].Medal.value_counts().sum()"
   ],
   "id": "25a933e951295d24",
   "outputs": [
    {
     "data": {
      "text/plain": [
       "785"
      ]
     },
     "execution_count": 91,
     "metadata": {},
     "output_type": "execute_result"
    }
   ],
   "execution_count": 91
  },
  {
   "metadata": {},
   "cell_type": "markdown",
   "source": [
    "The number of medals germany won before the reunification in 1990 is 2095 she used the next NOCs:\n",
    "1. GER as Germany\n",
    "2. FRG as West Germany\n",
    "3. GDR as East Germany\n",
    "4. EUA as United Team of Germany\n",
    "\n",
    "The number of medals germany won after the reunification in 1990 is 785 she used the next NOC:\n",
    "1. GER as Germany"
   ],
   "id": "71c47d7c73009109"
  },
  {
   "metadata": {
    "ExecuteTime": {
     "end_time": "2024-08-06T07:00:15.151070Z",
     "start_time": "2024-08-06T07:00:15.131556Z"
    }
   },
   "cell_type": "code",
   "source": [
    "before_1990 = summer[(summer['Country'] == 'GER') & (summer['Year'] < 1990)].shape[0]\n",
    "after_1990 = summer[(summer['Country'] == 'GER') & (summer['Year'] >= 1990)].shape[0]\n",
    "before_1990"
   ],
   "id": "580ff602675e5c05",
   "outputs": [
    {
     "data": {
      "text/plain": [
       "520"
      ]
     },
     "execution_count": 96,
     "metadata": {},
     "output_type": "execute_result"
    }
   ],
   "execution_count": 96
  },
  {
   "metadata": {
    "ExecuteTime": {
     "end_time": "2024-08-06T06:59:33.070637Z",
     "start_time": "2024-08-06T06:59:33.059346Z"
    }
   },
   "cell_type": "code",
   "source": "before_1990",
   "id": "8f5aa881b1685dd",
   "outputs": [
    {
     "data": {
      "text/plain": [
       "520"
      ]
     },
     "execution_count": 93,
     "metadata": {},
     "output_type": "execute_result"
    }
   ],
   "execution_count": 93
  },
  {
   "metadata": {
    "ExecuteTime": {
     "end_time": "2024-08-06T06:59:33.084101Z",
     "start_time": "2024-08-06T06:59:33.070637Z"
    }
   },
   "cell_type": "code",
   "source": "after_1990",
   "id": "db9d26e5952e06fb",
   "outputs": [
    {
     "data": {
      "text/plain": [
       "785"
      ]
     },
     "execution_count": 94,
     "metadata": {},
     "output_type": "execute_result"
    }
   ],
   "execution_count": 94
  }
 ],
 "metadata": {
  "kernelspec": {
   "display_name": "Python 3",
   "language": "python",
   "name": "python3"
  },
  "language_info": {
   "codemirror_mode": {
    "name": "ipython",
    "version": 2
   },
   "file_extension": ".py",
   "mimetype": "text/x-python",
   "name": "python",
   "nbconvert_exporter": "python",
   "pygments_lexer": "ipython2",
   "version": "2.7.6"
  }
 },
 "nbformat": 4,
 "nbformat_minor": 5
}
